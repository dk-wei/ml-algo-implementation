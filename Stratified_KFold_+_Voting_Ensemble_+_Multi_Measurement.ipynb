{
  "nbformat": 4,
  "nbformat_minor": 0,
  "metadata": {
    "colab": {
      "name": "Stratified KFold + Voting Ensemble + Multi-Measurement.ipynb",
      "provenance": [],
      "collapsed_sections": [],
      "authorship_tag": "ABX9TyMi+m4fH36x4lJt+otcNj94",
      "include_colab_link": true
    },
    "kernelspec": {
      "name": "python3",
      "display_name": "Python 3"
    },
    "language_info": {
      "name": "python"
    }
  },
  "cells": [
    {
      "cell_type": "markdown",
      "metadata": {
        "id": "view-in-github",
        "colab_type": "text"
      },
      "source": [
        "<a href=\"https://colab.research.google.com/github/dk-wei/ml-algo-implementation/blob/main/Stratified_KFold_%2B_Voting_Ensemble_%2B_Multi_Measurement.ipynb\" target=\"_parent\"><img src=\"https://colab.research.google.com/assets/colab-badge.svg\" alt=\"Open In Colab\"/></a>"
      ]
    },
    {
      "cell_type": "markdown",
      "metadata": {
        "id": "VbO88E1En_gN"
      },
      "source": [
        "这篇主要介绍 \n",
        " - Voting Ensemble (Voting Ensembles for averaging the predictions for any arbitrary models)\n",
        " - Stratified KFold\n",
        " - 多种measurement\n",
        "\n",
        " \n",
        " 代码来源：https://machinelearningmastery.com/ensemble-machine-learning-algorithms-python-scikit-learn/"
      ]
    },
    {
      "cell_type": "code",
      "metadata": {
        "id": "VXlqsxgalKTn"
      },
      "source": [
        "# Voting Ensemble for Classification\n",
        "import pandas\n",
        "from sklearn import model_selection\n",
        "from sklearn.linear_model import LogisticRegression\n",
        "from sklearn.tree import DecisionTreeClassifier\n",
        "from sklearn.svm import SVC\n",
        "from sklearn.ensemble import VotingClassifier\n",
        "from sklearn.model_selection import train_test_split\n",
        "\n",
        "seed = 7"
      ],
      "execution_count": 61,
      "outputs": []
    },
    {
      "cell_type": "code",
      "metadata": {
        "id": "t7YW_1selqiJ"
      },
      "source": [
        "url = \"https://raw.githubusercontent.com/jbrownlee/Datasets/master/pima-indians-diabetes.data.csv\"\n",
        "names = ['preg', 'plas', 'pres', 'skin', 'test', 'mass', 'pedi', 'age', 'class']\n",
        "\n",
        "dataframe = pandas.read_csv(url, names=names)\n",
        "array = dataframe.values\n",
        "X = array[:,0:8]\n",
        "Y = array[:,8]\n",
        "\n",
        "X, X_test, Y, Y_test = train_test_split(X, Y, test_size=0.33, stratify = Y, random_state=42)"
      ],
      "execution_count": 73,
      "outputs": []
    },
    {
      "cell_type": "code",
      "metadata": {
        "colab": {
          "base_uri": "https://localhost:8080/"
        },
        "id": "Kd6ByMVnlct3",
        "outputId": "3d545095-b214-4c8f-fc66-e6cbcccf3f2d"
      },
      "source": [
        "X.shape, Y.shape, X_test.shape, Y_test.shape"
      ],
      "execution_count": 86,
      "outputs": [
        {
          "output_type": "execute_result",
          "data": {
            "text/plain": [
              "((514, 8), (514,), (254, 8), (254,))"
            ]
          },
          "metadata": {
            "tags": []
          },
          "execution_count": 86
        }
      ]
    },
    {
      "cell_type": "markdown",
      "metadata": {
        "id": "mfiZW0MOzW2e"
      },
      "source": [
        "设定多个评判标准"
      ]
    },
    {
      "cell_type": "code",
      "metadata": {
        "id": "LRcOoFk7lN7U"
      },
      "source": [
        "from sklearn.metrics import make_scorer, accuracy_score, precision_score, recall_score, f1_score\n",
        "\n",
        "scoring = {'accuracy' : make_scorer(accuracy_score), \n",
        "           'precision' : make_scorer(precision_score),\n",
        "           'recall' : make_scorer(recall_score), \n",
        "           'f1_score' : make_scorer(f1_score)}"
      ],
      "execution_count": 75,
      "outputs": []
    },
    {
      "cell_type": "code",
      "metadata": {
        "colab": {
          "base_uri": "https://localhost:8080/",
          "height": 130
        },
        "id": "9Wi01XorzZ-s",
        "outputId": "d8d64f0f-648a-4382-8c3b-5c1aae5578ab"
      },
      "source": [
        "将模型一个个装入estimators这个list，还可以指定weights，最好是采用`soft` voting method"
      ],
      "execution_count": 87,
      "outputs": [
        {
          "output_type": "error",
          "ename": "SyntaxError",
          "evalue": "ignored",
          "traceback": [
            "\u001b[0;36m  File \u001b[0;32m\"<ipython-input-87-9de4d61f8370>\"\u001b[0;36m, line \u001b[0;32m1\u001b[0m\n\u001b[0;31m    将模型一个个装入estimators这个list，还可以指定weights，最好是采用`soft` voting method\u001b[0m\n\u001b[0m                                              ^\u001b[0m\n\u001b[0;31mSyntaxError\u001b[0m\u001b[0;31m:\u001b[0m invalid character in identifier\n"
          ]
        }
      ]
    },
    {
      "cell_type": "code",
      "metadata": {
        "colab": {
          "base_uri": "https://localhost:8080/"
        },
        "id": "ZeSCqrl6n3V4",
        "outputId": "b4dd91ee-c31f-4d36-9c61-2bae7d508891"
      },
      "source": [
        "#kfold = model_selection.KFold(n_splits=10, random_state=seed)\n",
        "kfold = model_selection.StratifiedKFold(n_splits=5, random_state=seed)\n",
        "\n",
        "# create the sub models\n",
        "estimators = []\n",
        "\n",
        "model1 = LogisticRegression()\n",
        "estimators.append(('logistic', model1))\n",
        "\n",
        "model2 = DecisionTreeClassifier()\n",
        "estimators.append(('cart', model2))\n",
        "\n",
        "model3 = SVC(probability=True)\n",
        "estimators.append(('svm', model3))\n",
        "\n",
        "# create the ensemble model\n",
        "ensemble = VotingClassifier(estimators,\n",
        "                            voting='soft',\n",
        "                            weights=[1, 1, 1]\n",
        "                            )\n",
        "#results = model_selection.cross_val_score(ensemble, X, Y, cv=kfold)"
      ],
      "execution_count": 88,
      "outputs": [
        {
          "output_type": "stream",
          "text": [
            "/usr/local/lib/python3.7/dist-packages/sklearn/model_selection/_split.py:296: FutureWarning:\n",
            "\n",
            "Setting a random_state has no effect since shuffle is False. This will raise an error in 0.24. You should leave random_state to its default (None), or set shuffle=True.\n",
            "\n"
          ],
          "name": "stderr"
        }
      ]
    },
    {
      "cell_type": "code",
      "metadata": {
        "colab": {
          "base_uri": "https://localhost:8080/"
        },
        "id": "DJduW9kVlShm",
        "outputId": "f034b8cb-5c80-4193-cd06-d94824a26b76"
      },
      "source": [
        "results = model_selection.cross_validate(estimator=ensemble,\n",
        "                                          X=X,\n",
        "                                          y=Y,\n",
        "                                          cv=kfold,\n",
        "                                          scoring=scoring\n",
        "                                         )"
      ],
      "execution_count": 89,
      "outputs": [
        {
          "output_type": "stream",
          "text": [
            "/usr/local/lib/python3.7/dist-packages/sklearn/linear_model/_logistic.py:940: ConvergenceWarning:\n",
            "\n",
            "lbfgs failed to converge (status=1):\n",
            "STOP: TOTAL NO. of ITERATIONS REACHED LIMIT.\n",
            "\n",
            "Increase the number of iterations (max_iter) or scale the data as shown in:\n",
            "    https://scikit-learn.org/stable/modules/preprocessing.html\n",
            "Please also refer to the documentation for alternative solver options:\n",
            "    https://scikit-learn.org/stable/modules/linear_model.html#logistic-regression\n",
            "\n",
            "/usr/local/lib/python3.7/dist-packages/sklearn/linear_model/_logistic.py:940: ConvergenceWarning:\n",
            "\n",
            "lbfgs failed to converge (status=1):\n",
            "STOP: TOTAL NO. of ITERATIONS REACHED LIMIT.\n",
            "\n",
            "Increase the number of iterations (max_iter) or scale the data as shown in:\n",
            "    https://scikit-learn.org/stable/modules/preprocessing.html\n",
            "Please also refer to the documentation for alternative solver options:\n",
            "    https://scikit-learn.org/stable/modules/linear_model.html#logistic-regression\n",
            "\n",
            "/usr/local/lib/python3.7/dist-packages/sklearn/linear_model/_logistic.py:940: ConvergenceWarning:\n",
            "\n",
            "lbfgs failed to converge (status=1):\n",
            "STOP: TOTAL NO. of ITERATIONS REACHED LIMIT.\n",
            "\n",
            "Increase the number of iterations (max_iter) or scale the data as shown in:\n",
            "    https://scikit-learn.org/stable/modules/preprocessing.html\n",
            "Please also refer to the documentation for alternative solver options:\n",
            "    https://scikit-learn.org/stable/modules/linear_model.html#logistic-regression\n",
            "\n",
            "/usr/local/lib/python3.7/dist-packages/sklearn/linear_model/_logistic.py:940: ConvergenceWarning:\n",
            "\n",
            "lbfgs failed to converge (status=1):\n",
            "STOP: TOTAL NO. of ITERATIONS REACHED LIMIT.\n",
            "\n",
            "Increase the number of iterations (max_iter) or scale the data as shown in:\n",
            "    https://scikit-learn.org/stable/modules/preprocessing.html\n",
            "Please also refer to the documentation for alternative solver options:\n",
            "    https://scikit-learn.org/stable/modules/linear_model.html#logistic-regression\n",
            "\n",
            "/usr/local/lib/python3.7/dist-packages/sklearn/linear_model/_logistic.py:940: ConvergenceWarning:\n",
            "\n",
            "lbfgs failed to converge (status=1):\n",
            "STOP: TOTAL NO. of ITERATIONS REACHED LIMIT.\n",
            "\n",
            "Increase the number of iterations (max_iter) or scale the data as shown in:\n",
            "    https://scikit-learn.org/stable/modules/preprocessing.html\n",
            "Please also refer to the documentation for alternative solver options:\n",
            "    https://scikit-learn.org/stable/modules/linear_model.html#logistic-regression\n",
            "\n"
          ],
          "name": "stderr"
        }
      ]
    },
    {
      "cell_type": "code",
      "metadata": {
        "colab": {
          "base_uri": "https://localhost:8080/"
        },
        "id": "S5dL0u6HlnFx",
        "outputId": "16d9d335-1a3e-4ba1-8f6e-128d2dc2d1c4"
      },
      "source": [
        "print(results)"
      ],
      "execution_count": 90,
      "outputs": [
        {
          "output_type": "stream",
          "text": [
            "{'fit_time': array([0.06760502, 0.06903887, 0.05658364, 0.05929804, 0.05727577]), 'score_time': array([0.00462246, 0.00723076, 0.00607705, 0.00439835, 0.00422049]), 'test_accuracy': array([0.70873786, 0.67961165, 0.76699029, 0.72815534, 0.78431373]), 'test_precision': array([0.59375   , 0.54285714, 0.6875    , 0.63333333, 0.76      ]), 'test_recall': array([0.52777778, 0.52777778, 0.61111111, 0.52777778, 0.54285714]), 'test_f1_score': array([0.55882353, 0.53521127, 0.64705882, 0.57575758, 0.63333333])}\n"
          ],
          "name": "stdout"
        }
      ]
    },
    {
      "cell_type": "code",
      "metadata": {
        "colab": {
          "base_uri": "https://localhost:8080/"
        },
        "id": "m3Hy_19hlUKH",
        "outputId": "dfd1cf3a-45fb-4abf-c33f-df874cc41c4a"
      },
      "source": [
        "print(results['test_accuracy'].mean())"
      ],
      "execution_count": 91,
      "outputs": [
        {
          "output_type": "stream",
          "text": [
            "0.7335617742242528\n"
          ],
          "name": "stdout"
        }
      ]
    },
    {
      "cell_type": "markdown",
      "metadata": {
        "id": "HQl4Chg8yvE1"
      },
      "source": [
        "模型效果看到了，下一步就fit on training data，然后predict on testing data"
      ]
    },
    {
      "cell_type": "code",
      "metadata": {
        "colab": {
          "base_uri": "https://localhost:8080/"
        },
        "id": "bw_XakoBsB5F",
        "outputId": "1c1f6197-44bc-496d-8d6b-cbb3792cf20d"
      },
      "source": [
        "ensemble.fit(X, Y)"
      ],
      "execution_count": 92,
      "outputs": [
        {
          "output_type": "stream",
          "text": [
            "/usr/local/lib/python3.7/dist-packages/sklearn/linear_model/_logistic.py:940: ConvergenceWarning:\n",
            "\n",
            "lbfgs failed to converge (status=1):\n",
            "STOP: TOTAL NO. of ITERATIONS REACHED LIMIT.\n",
            "\n",
            "Increase the number of iterations (max_iter) or scale the data as shown in:\n",
            "    https://scikit-learn.org/stable/modules/preprocessing.html\n",
            "Please also refer to the documentation for alternative solver options:\n",
            "    https://scikit-learn.org/stable/modules/linear_model.html#logistic-regression\n",
            "\n"
          ],
          "name": "stderr"
        },
        {
          "output_type": "execute_result",
          "data": {
            "text/plain": [
              "VotingClassifier(estimators=[('logistic',\n",
              "                              LogisticRegression(C=1.0, class_weight=None,\n",
              "                                                 dual=False, fit_intercept=True,\n",
              "                                                 intercept_scaling=1,\n",
              "                                                 l1_ratio=None, max_iter=100,\n",
              "                                                 multi_class='auto',\n",
              "                                                 n_jobs=None, penalty='l2',\n",
              "                                                 random_state=None,\n",
              "                                                 solver='lbfgs', tol=0.0001,\n",
              "                                                 verbose=0, warm_start=False)),\n",
              "                             ('cart',\n",
              "                              DecisionTreeClassifier(ccp_alpha=0.0,\n",
              "                                                     class_weight=None,\n",
              "                                                     criterion...\n",
              "                                                     presort='deprecated',\n",
              "                                                     random_state=None,\n",
              "                                                     splitter='best')),\n",
              "                             ('svm',\n",
              "                              SVC(C=1.0, break_ties=False, cache_size=200,\n",
              "                                  class_weight=None, coef0=0.0,\n",
              "                                  decision_function_shape='ovr', degree=3,\n",
              "                                  gamma='scale', kernel='rbf', max_iter=-1,\n",
              "                                  probability=True, random_state=None,\n",
              "                                  shrinking=True, tol=0.001, verbose=False))],\n",
              "                 flatten_transform=True, n_jobs=None, voting='soft',\n",
              "                 weights=[1, 1, 1])"
            ]
          },
          "metadata": {
            "tags": []
          },
          "execution_count": 92
        }
      ]
    },
    {
      "cell_type": "code",
      "metadata": {
        "id": "QLCSCaJclWn4"
      },
      "source": [
        "pred_test = ensemble.predict_proba(X_test)\n",
        "#pred_test"
      ],
      "execution_count": 93,
      "outputs": []
    },
    {
      "cell_type": "code",
      "metadata": {
        "colab": {
          "base_uri": "https://localhost:8080/",
          "height": 417
        },
        "id": "yMAm3YfzrR2Z",
        "outputId": "93aa3751-f995-48d7-e24d-467cfeb17704"
      },
      "source": [
        "# training set\n",
        "\n",
        "from sklearn import metrics\n",
        "import plotly.express as px\n",
        "import numpy as np\n",
        "import pandas as pd\n",
        "\n",
        "def check_performance(predictions, true_labels, thresholds):\n",
        "    \n",
        "    performances = list()\n",
        "    for thresh in thresholds:\n",
        "        predicted_labels = np.where(predictions[:,1] > thresh, 1, 0)\n",
        "        #predicted_labels = ensemble.predict(test_vectors)\n",
        "        \n",
        "        metric_dict = dict()\n",
        "        metric_dict['threshold'] = thresh\n",
        "        #metric_dict['accuracy'] = metrics.accuracy_score(true_labels, predicted_labels)\n",
        "        metric_dict['precision'] = metrics.precision_score(true_labels, predicted_labels, zero_division = 0)\n",
        "        metric_dict['recall'] = metrics.recall_score(true_labels, predicted_labels)\n",
        "        metric_dict['f1_score'] = metrics.f1_score(true_labels, predicted_labels)\n",
        "        \n",
        "        performances.append(metric_dict)\n",
        "    \n",
        "    perf_metrics = pd.DataFrame(performances)\n",
        "    df = perf_metrics.melt(id_vars='threshold', value_vars=[\n",
        "                                                            #'accuracy', \n",
        "                                                            'precision',\n",
        "                                                            'recall', \n",
        "                                                            'f1_score']\n",
        "                          )\n",
        "    df.columns = ['threshold','metric','score']\n",
        "    fig = px.line(df, x=\"threshold\", y=\"score\", color=\"metric\")\n",
        "    \n",
        "    return perf_metrics, fig\n",
        "\n",
        "\n",
        "threshold_range = [x/1000 for x in range(0,1000,5)]\n",
        "\n",
        "\n",
        "perf_metrics, fig = check_performance(pred_test, Y_test, threshold_range)\n",
        "fig.update_layout(\n",
        "                    autosize=False,\n",
        "                    width=800,\n",
        "                    height=400,\n",
        "                    title = 'Threshold Verfication',\n",
        "                )\n",
        "fig.show()\n"
      ],
      "execution_count": 94,
      "outputs": [
        {
          "output_type": "display_data",
          "data": {
            "text/html": [
              "<html>\n",
              "<head><meta charset=\"utf-8\" /></head>\n",
              "<body>\n",
              "    <div>\n",
              "            <script src=\"https://cdnjs.cloudflare.com/ajax/libs/mathjax/2.7.5/MathJax.js?config=TeX-AMS-MML_SVG\"></script><script type=\"text/javascript\">if (window.MathJax) {MathJax.Hub.Config({SVG: {font: \"STIX-Web\"}});}</script>\n",
              "                <script type=\"text/javascript\">window.PlotlyConfig = {MathJaxConfig: 'local'};</script>\n",
              "        <script src=\"https://cdn.plot.ly/plotly-latest.min.js\"></script>    \n",
              "            <div id=\"bb415d69-ed23-4152-b257-d56ccbcf13e7\" class=\"plotly-graph-div\" style=\"height:400px; width:800px;\"></div>\n",
              "            <script type=\"text/javascript\">\n",
              "                \n",
              "                    window.PLOTLYENV=window.PLOTLYENV || {};\n",
              "                    \n",
              "                if (document.getElementById(\"bb415d69-ed23-4152-b257-d56ccbcf13e7\")) {\n",
              "                    Plotly.newPlot(\n",
              "                        'bb415d69-ed23-4152-b257-d56ccbcf13e7',\n",
              "                        [{\"hoverlabel\": {\"namelength\": 0}, \"hovertemplate\": \"metric=precision<br>threshold=%{x}<br>score=%{y}\", \"legendgroup\": \"metric=precision\", \"line\": {\"color\": \"#636efa\", \"dash\": \"solid\"}, \"mode\": \"lines\", \"name\": \"metric=precision\", \"showlegend\": true, \"type\": \"scatter\", \"x\": [0.0, 0.005, 0.01, 0.015, 0.02, 0.025, 0.03, 0.035, 0.04, 0.045, 0.05, 0.055, 0.06, 0.065, 0.07, 0.075, 0.08, 0.085, 0.09, 0.095, 0.1, 0.105, 0.11, 0.115, 0.12, 0.125, 0.13, 0.135, 0.14, 0.145, 0.15, 0.155, 0.16, 0.165, 0.17, 0.175, 0.18, 0.185, 0.19, 0.195, 0.2, 0.205, 0.21, 0.215, 0.22, 0.225, 0.23, 0.235, 0.24, 0.245, 0.25, 0.255, 0.26, 0.265, 0.27, 0.275, 0.28, 0.285, 0.29, 0.295, 0.3, 0.305, 0.31, 0.315, 0.32, 0.325, 0.33, 0.335, 0.34, 0.345, 0.35, 0.355, 0.36, 0.365, 0.37, 0.375, 0.38, 0.385, 0.39, 0.395, 0.4, 0.405, 0.41, 0.415, 0.42, 0.425, 0.43, 0.435, 0.44, 0.445, 0.45, 0.455, 0.46, 0.465, 0.47, 0.475, 0.48, 0.485, 0.49, 0.495, 0.5, 0.505, 0.51, 0.515, 0.52, 0.525, 0.53, 0.535, 0.54, 0.545, 0.55, 0.555, 0.56, 0.565, 0.57, 0.575, 0.58, 0.585, 0.59, 0.595, 0.6, 0.605, 0.61, 0.615, 0.62, 0.625, 0.63, 0.635, 0.64, 0.645, 0.65, 0.655, 0.66, 0.665, 0.67, 0.675, 0.68, 0.685, 0.69, 0.695, 0.7, 0.705, 0.71, 0.715, 0.72, 0.725, 0.73, 0.735, 0.74, 0.745, 0.75, 0.755, 0.76, 0.765, 0.77, 0.775, 0.78, 0.785, 0.79, 0.795, 0.8, 0.805, 0.81, 0.815, 0.82, 0.825, 0.83, 0.835, 0.84, 0.845, 0.85, 0.855, 0.86, 0.865, 0.87, 0.875, 0.88, 0.885, 0.89, 0.895, 0.9, 0.905, 0.91, 0.915, 0.92, 0.925, 0.93, 0.935, 0.94, 0.945, 0.95, 0.955, 0.96, 0.965, 0.97, 0.975, 0.98, 0.985, 0.99, 0.995], \"xaxis\": \"x\", \"y\": [0.35039370078740156, 0.35039370078740156, 0.35039370078740156, 0.35039370078740156, 0.35039370078740156, 0.35039370078740156, 0.3545816733067729, 0.3545816733067729, 0.3588709677419355, 0.3662551440329218, 0.3755274261603376, 0.38427947598253276, 0.3893805309734513, 0.39819004524886875, 0.40930232558139534, 0.42105263157894735, 0.4251207729468599, 0.43349753694581283, 0.4583333333333333, 0.47058823529411764, 0.47282608695652173, 0.48066298342541436, 0.4858757062146893, 0.49710982658959535, 0.5, 0.5059523809523809, 0.5060240963855421, 0.5153374233128835, 0.51875, 0.5189873417721519, 0.5222929936305732, 0.5294117647058824, 0.5328947368421053, 0.5328947368421053, 0.5333333333333333, 0.54421768707483, 0.5486111111111112, 0.5486111111111112, 0.5571428571428572, 0.5571428571428572, 0.5547445255474452, 0.556390977443609, 0.5572519083969466, 0.5572519083969466, 0.5538461538461539, 0.5538461538461539, 0.5590551181102362, 0.5645161290322581, 0.5691056910569106, 0.5655737704918032, 0.5655737704918032, 0.5655737704918032, 0.5630252100840336, 0.5677966101694916, 0.5677966101694916, 0.5677966101694916, 0.5641025641025641, 0.5663716814159292, 0.5663716814159292, 0.5663716814159292, 0.5625, 0.5585585585585585, 0.5585585585585585, 0.5585585585585585, 0.5596330275229358, 0.5648148148148148, 0.5648148148148148, 0.5607476635514018, 0.5660377358490566, 0.5660377358490566, 0.5660377358490566, 0.5714285714285714, 0.5769230769230769, 0.5825242718446602, 0.5784313725490197, 0.5784313725490197, 0.58, 0.5757575757575758, 0.5757575757575758, 0.5757575757575758, 0.5757575757575758, 0.5729166666666666, 0.5729166666666666, 0.5789473684210527, 0.574468085106383, 0.5698924731182796, 0.5824175824175825, 0.5888888888888889, 0.5955056179775281, 0.5977011494252874, 0.5930232558139535, 0.5882352941176471, 0.5903614457831325, 0.5853658536585366, 0.5925925925925926, 0.6, 0.6, 0.6153846153846154, 0.618421052631579, 0.6266666666666667, 0.6338028169014085, 0.6338028169014085, 0.6338028169014085, 0.6338028169014085, 0.6285714285714286, 0.6323529411764706, 0.625, 0.6349206349206349, 0.6271186440677966, 0.6206896551724138, 0.6428571428571429, 0.6545454545454545, 0.6481481481481481, 0.660377358490566, 0.6730769230769231, 0.6730769230769231, 0.6730769230769231, 0.6666666666666666, 0.673469387755102, 0.7021276595744681, 0.7021276595744681, 0.7021276595744681, 0.7021276595744681, 0.6956521739130435, 0.7111111111111111, 0.7272727272727273, 0.7272727272727273, 0.7272727272727273, 0.7441860465116279, 0.7380952380952381, 0.7380952380952381, 0.7380952380952381, 0.7380952380952381, 0.7560975609756098, 0.7560975609756098, 0.7560975609756098, 0.7560975609756098, 0.7560975609756098, 0.7560975609756098, 0.775, 0.775, 0.775, 0.7692307692307693, 0.7692307692307693, 0.7692307692307693, 0.7692307692307693, 0.7567567567567568, 0.75, 0.7352941176470589, 0.7352941176470589, 0.7352941176470589, 0.75, 0.7419354838709677, 0.7419354838709677, 0.7333333333333333, 0.7241379310344828, 0.7241379310344828, 0.7241379310344828, 0.75, 0.7692307692307693, 0.7692307692307693, 0.7692307692307693, 0.7692307692307693, 0.8, 0.8, 0.7916666666666666, 0.7916666666666666, 0.7916666666666666, 0.8571428571428571, 0.8571428571428571, 0.8421052631578947, 0.8333333333333334, 0.8333333333333334, 0.875, 0.875, 0.9333333333333333, 0.9333333333333333, 0.9230769230769231, 0.9230769230769231, 0.9230769230769231, 0.9230769230769231, 0.9166666666666666, 0.8888888888888888, 0.8888888888888888, 1.0, 1.0, 1.0, 1.0, 1.0, 1.0, 1.0, 1.0, 0.0, 0.0, 0.0, 0.0, 0.0, 0.0, 0.0, 0.0], \"yaxis\": \"y\"}, {\"hoverlabel\": {\"namelength\": 0}, \"hovertemplate\": \"metric=recall<br>threshold=%{x}<br>score=%{y}\", \"legendgroup\": \"metric=recall\", \"line\": {\"color\": \"#EF553B\", \"dash\": \"solid\"}, \"mode\": \"lines\", \"name\": \"metric=recall\", \"showlegend\": true, \"type\": \"scatter\", \"x\": [0.0, 0.005, 0.01, 0.015, 0.02, 0.025, 0.03, 0.035, 0.04, 0.045, 0.05, 0.055, 0.06, 0.065, 0.07, 0.075, 0.08, 0.085, 0.09, 0.095, 0.1, 0.105, 0.11, 0.115, 0.12, 0.125, 0.13, 0.135, 0.14, 0.145, 0.15, 0.155, 0.16, 0.165, 0.17, 0.175, 0.18, 0.185, 0.19, 0.195, 0.2, 0.205, 0.21, 0.215, 0.22, 0.225, 0.23, 0.235, 0.24, 0.245, 0.25, 0.255, 0.26, 0.265, 0.27, 0.275, 0.28, 0.285, 0.29, 0.295, 0.3, 0.305, 0.31, 0.315, 0.32, 0.325, 0.33, 0.335, 0.34, 0.345, 0.35, 0.355, 0.36, 0.365, 0.37, 0.375, 0.38, 0.385, 0.39, 0.395, 0.4, 0.405, 0.41, 0.415, 0.42, 0.425, 0.43, 0.435, 0.44, 0.445, 0.45, 0.455, 0.46, 0.465, 0.47, 0.475, 0.48, 0.485, 0.49, 0.495, 0.5, 0.505, 0.51, 0.515, 0.52, 0.525, 0.53, 0.535, 0.54, 0.545, 0.55, 0.555, 0.56, 0.565, 0.57, 0.575, 0.58, 0.585, 0.59, 0.595, 0.6, 0.605, 0.61, 0.615, 0.62, 0.625, 0.63, 0.635, 0.64, 0.645, 0.65, 0.655, 0.66, 0.665, 0.67, 0.675, 0.68, 0.685, 0.69, 0.695, 0.7, 0.705, 0.71, 0.715, 0.72, 0.725, 0.73, 0.735, 0.74, 0.745, 0.75, 0.755, 0.76, 0.765, 0.77, 0.775, 0.78, 0.785, 0.79, 0.795, 0.8, 0.805, 0.81, 0.815, 0.82, 0.825, 0.83, 0.835, 0.84, 0.845, 0.85, 0.855, 0.86, 0.865, 0.87, 0.875, 0.88, 0.885, 0.89, 0.895, 0.9, 0.905, 0.91, 0.915, 0.92, 0.925, 0.93, 0.935, 0.94, 0.945, 0.95, 0.955, 0.96, 0.965, 0.97, 0.975, 0.98, 0.985, 0.99, 0.995], \"xaxis\": \"x\", \"y\": [1.0, 1.0, 1.0, 1.0, 1.0, 1.0, 1.0, 1.0, 1.0, 1.0, 1.0, 0.9887640449438202, 0.9887640449438202, 0.9887640449438202, 0.9887640449438202, 0.9887640449438202, 0.9887640449438202, 0.9887640449438202, 0.9887640449438202, 0.9887640449438202, 0.9775280898876404, 0.9775280898876404, 0.9662921348314607, 0.9662921348314607, 0.9550561797752809, 0.9550561797752809, 0.9438202247191011, 0.9438202247191011, 0.9325842696629213, 0.9213483146067416, 0.9213483146067416, 0.9101123595505618, 0.9101123595505618, 0.9101123595505618, 0.898876404494382, 0.898876404494382, 0.8876404494382022, 0.8876404494382022, 0.8764044943820225, 0.8764044943820225, 0.8539325842696629, 0.8314606741573034, 0.8202247191011236, 0.8202247191011236, 0.8089887640449438, 0.8089887640449438, 0.797752808988764, 0.7865168539325843, 0.7865168539325843, 0.7752808988764045, 0.7752808988764045, 0.7752808988764045, 0.7528089887640449, 0.7528089887640449, 0.7528089887640449, 0.7528089887640449, 0.7415730337078652, 0.7191011235955056, 0.7191011235955056, 0.7191011235955056, 0.7078651685393258, 0.6966292134831461, 0.6966292134831461, 0.6966292134831461, 0.6853932584269663, 0.6853932584269663, 0.6853932584269663, 0.6741573033707865, 0.6741573033707865, 0.6741573033707865, 0.6741573033707865, 0.6741573033707865, 0.6741573033707865, 0.6741573033707865, 0.6629213483146067, 0.6629213483146067, 0.651685393258427, 0.6404494382022472, 0.6404494382022472, 0.6404494382022472, 0.6404494382022472, 0.6179775280898876, 0.6179775280898876, 0.6179775280898876, 0.6067415730337079, 0.5955056179775281, 0.5955056179775281, 0.5955056179775281, 0.5955056179775281, 0.5842696629213483, 0.5730337078651685, 0.5617977528089888, 0.550561797752809, 0.5393258426966292, 0.5393258426966292, 0.5393258426966292, 0.5393258426966292, 0.5393258426966292, 0.5280898876404494, 0.5280898876404494, 0.5056179775280899, 0.5056179775280899, 0.5056179775280899, 0.5056179775280899, 0.4943820224719101, 0.48314606741573035, 0.449438202247191, 0.449438202247191, 0.4157303370786517, 0.4044943820224719, 0.4044943820224719, 0.4044943820224719, 0.39325842696629215, 0.39325842696629215, 0.39325842696629215, 0.39325842696629215, 0.39325842696629215, 0.38202247191011235, 0.3707865168539326, 0.3707865168539326, 0.3707865168539326, 0.3707865168539326, 0.3707865168539326, 0.3595505617977528, 0.3595505617977528, 0.3595505617977528, 0.3595505617977528, 0.3595505617977528, 0.3595505617977528, 0.34831460674157305, 0.34831460674157305, 0.34831460674157305, 0.34831460674157305, 0.34831460674157305, 0.34831460674157305, 0.34831460674157305, 0.34831460674157305, 0.34831460674157305, 0.34831460674157305, 0.34831460674157305, 0.34831460674157305, 0.34831460674157305, 0.33707865168539325, 0.33707865168539325, 0.33707865168539325, 0.33707865168539325, 0.3146067415730337, 0.30337078651685395, 0.2808988764044944, 0.2808988764044944, 0.2808988764044944, 0.2696629213483146, 0.25842696629213485, 0.25842696629213485, 0.24719101123595505, 0.23595505617977527, 0.23595505617977527, 0.23595505617977527, 0.23595505617977527, 0.2247191011235955, 0.2247191011235955, 0.2247191011235955, 0.2247191011235955, 0.2247191011235955, 0.2247191011235955, 0.21348314606741572, 0.21348314606741572, 0.21348314606741572, 0.20224719101123595, 0.20224719101123595, 0.1797752808988764, 0.16853932584269662, 0.16853932584269662, 0.15730337078651685, 0.15730337078651685, 0.15730337078651685, 0.15730337078651685, 0.1348314606741573, 0.1348314606741573, 0.1348314606741573, 0.1348314606741573, 0.12359550561797752, 0.0898876404494382, 0.0898876404494382, 0.06741573033707865, 0.06741573033707865, 0.06741573033707865, 0.056179775280898875, 0.0449438202247191, 0.0449438202247191, 0.033707865168539325, 0.02247191011235955, 0.0, 0.0, 0.0, 0.0, 0.0, 0.0, 0.0, 0.0], \"yaxis\": \"y\"}, {\"hoverlabel\": {\"namelength\": 0}, \"hovertemplate\": \"metric=f1_score<br>threshold=%{x}<br>score=%{y}\", \"legendgroup\": \"metric=f1_score\", \"line\": {\"color\": \"#00cc96\", \"dash\": \"solid\"}, \"mode\": \"lines\", \"name\": \"metric=f1_score\", \"showlegend\": true, \"type\": \"scatter\", \"x\": [0.0, 0.005, 0.01, 0.015, 0.02, 0.025, 0.03, 0.035, 0.04, 0.045, 0.05, 0.055, 0.06, 0.065, 0.07, 0.075, 0.08, 0.085, 0.09, 0.095, 0.1, 0.105, 0.11, 0.115, 0.12, 0.125, 0.13, 0.135, 0.14, 0.145, 0.15, 0.155, 0.16, 0.165, 0.17, 0.175, 0.18, 0.185, 0.19, 0.195, 0.2, 0.205, 0.21, 0.215, 0.22, 0.225, 0.23, 0.235, 0.24, 0.245, 0.25, 0.255, 0.26, 0.265, 0.27, 0.275, 0.28, 0.285, 0.29, 0.295, 0.3, 0.305, 0.31, 0.315, 0.32, 0.325, 0.33, 0.335, 0.34, 0.345, 0.35, 0.355, 0.36, 0.365, 0.37, 0.375, 0.38, 0.385, 0.39, 0.395, 0.4, 0.405, 0.41, 0.415, 0.42, 0.425, 0.43, 0.435, 0.44, 0.445, 0.45, 0.455, 0.46, 0.465, 0.47, 0.475, 0.48, 0.485, 0.49, 0.495, 0.5, 0.505, 0.51, 0.515, 0.52, 0.525, 0.53, 0.535, 0.54, 0.545, 0.55, 0.555, 0.56, 0.565, 0.57, 0.575, 0.58, 0.585, 0.59, 0.595, 0.6, 0.605, 0.61, 0.615, 0.62, 0.625, 0.63, 0.635, 0.64, 0.645, 0.65, 0.655, 0.66, 0.665, 0.67, 0.675, 0.68, 0.685, 0.69, 0.695, 0.7, 0.705, 0.71, 0.715, 0.72, 0.725, 0.73, 0.735, 0.74, 0.745, 0.75, 0.755, 0.76, 0.765, 0.77, 0.775, 0.78, 0.785, 0.79, 0.795, 0.8, 0.805, 0.81, 0.815, 0.82, 0.825, 0.83, 0.835, 0.84, 0.845, 0.85, 0.855, 0.86, 0.865, 0.87, 0.875, 0.88, 0.885, 0.89, 0.895, 0.9, 0.905, 0.91, 0.915, 0.92, 0.925, 0.93, 0.935, 0.94, 0.945, 0.95, 0.955, 0.96, 0.965, 0.97, 0.975, 0.98, 0.985, 0.99, 0.995], \"xaxis\": \"x\", \"y\": [0.5189504373177842, 0.5189504373177842, 0.5189504373177842, 0.5189504373177842, 0.5189504373177842, 0.5189504373177842, 0.5235294117647059, 0.5235294117647059, 0.5281899109792285, 0.536144578313253, 0.5460122699386503, 0.5534591194968553, 0.5587301587301587, 0.567741935483871, 0.5789473684210527, 0.5906040268456375, 0.5945945945945946, 0.6027397260273972, 0.6263345195729538, 0.6376811594202899, 0.6373626373626373, 0.6444444444444445, 0.6466165413533834, 0.6564885496183206, 0.6563706563706564, 0.6614785992217899, 0.6588235294117647, 0.6666666666666666, 0.6666666666666666, 0.6639676113360323, 0.6666666666666667, 0.6694214876033058, 0.6721991701244814, 0.6721991701244814, 0.6694560669456068, 0.6779661016949152, 0.6781115879828327, 0.6781115879828327, 0.6812227074235807, 0.6812227074235807, 0.6725663716814159, 0.6666666666666667, 0.6636363636363638, 0.6636363636363638, 0.6575342465753424, 0.6575342465753424, 0.6574074074074074, 0.6572769953051644, 0.6603773584905661, 0.6540284360189573, 0.6540284360189573, 0.6540284360189573, 0.6442307692307692, 0.6473429951690821, 0.6473429951690821, 0.6473429951690821, 0.6407766990291262, 0.6336633663366337, 0.6336633663366337, 0.6336633663366337, 0.626865671641791, 0.62, 0.62, 0.62, 0.6161616161616161, 0.6192893401015228, 0.6192893401015228, 0.6122448979591836, 0.6153846153846153, 0.6153846153846153, 0.6153846153846153, 0.6185567010309277, 0.621761658031088, 0.625, 0.6178010471204188, 0.6178010471204188, 0.6137566137566138, 0.6063829787234043, 0.6063829787234043, 0.6063829787234043, 0.6063829787234043, 0.5945945945945946, 0.5945945945945946, 0.5978260869565217, 0.5901639344262296, 0.5824175824175825, 0.5888888888888889, 0.5921787709497207, 0.5955056179775281, 0.5909090909090909, 0.5828571428571429, 0.5747126436781609, 0.5697674418604651, 0.5614035087719298, 0.5647058823529411, 0.5680473372781064, 0.5680473372781064, 0.5748502994011976, 0.5696969696969697, 0.5731707317073171, 0.5625, 0.5625, 0.5625, 0.5625, 0.5534591194968553, 0.5477707006369427, 0.5228758169934641, 0.5263157894736842, 0.5, 0.48979591836734687, 0.496551724137931, 0.5, 0.48951048951048953, 0.4929577464788733, 0.49645390070921985, 0.49645390070921985, 0.49645390070921985, 0.48571428571428565, 0.47826086956521746, 0.4852941176470589, 0.4852941176470589, 0.4852941176470589, 0.4852941176470589, 0.4740740740740741, 0.4776119402985074, 0.481203007518797, 0.481203007518797, 0.481203007518797, 0.4848484848484848, 0.47328244274809167, 0.47328244274809167, 0.47328244274809167, 0.47328244274809167, 0.4769230769230769, 0.4769230769230769, 0.4769230769230769, 0.4769230769230769, 0.4769230769230769, 0.4769230769230769, 0.4806201550387597, 0.4806201550387597, 0.4806201550387597, 0.46875, 0.46875, 0.46875, 0.46875, 0.4444444444444444, 0.432, 0.40650406504065045, 0.40650406504065045, 0.40650406504065045, 0.39669421487603307, 0.3833333333333334, 0.3833333333333334, 0.36974789915966383, 0.35593220338983045, 0.35593220338983045, 0.35593220338983045, 0.3589743589743589, 0.34782608695652173, 0.34782608695652173, 0.34782608695652173, 0.34782608695652173, 0.3508771929824562, 0.3508771929824562, 0.336283185840708, 0.336283185840708, 0.336283185840708, 0.32727272727272727, 0.32727272727272727, 0.2962962962962963, 0.2803738317757009, 0.2803738317757009, 0.26666666666666666, 0.26666666666666666, 0.2692307692307693, 0.2692307692307693, 0.2352941176470588, 0.2352941176470588, 0.2352941176470588, 0.2352941176470588, 0.21782178217821782, 0.16326530612244897, 0.16326530612244897, 0.12631578947368421, 0.12631578947368421, 0.12631578947368421, 0.10638297872340426, 0.08602150537634408, 0.08602150537634408, 0.06521739130434782, 0.04395604395604395, 0.0, 0.0, 0.0, 0.0, 0.0, 0.0, 0.0, 0.0], \"yaxis\": \"y\"}],\n",
              "                        {\"autosize\": false, \"height\": 400, \"legend\": {\"tracegroupgap\": 0}, \"margin\": {\"t\": 60}, \"template\": {\"data\": {\"bar\": [{\"error_x\": {\"color\": \"#2a3f5f\"}, \"error_y\": {\"color\": \"#2a3f5f\"}, \"marker\": {\"line\": {\"color\": \"#E5ECF6\", \"width\": 0.5}}, \"type\": \"bar\"}], \"barpolar\": [{\"marker\": {\"line\": {\"color\": \"#E5ECF6\", \"width\": 0.5}}, \"type\": \"barpolar\"}], \"carpet\": [{\"aaxis\": {\"endlinecolor\": \"#2a3f5f\", \"gridcolor\": \"white\", \"linecolor\": \"white\", \"minorgridcolor\": \"white\", \"startlinecolor\": \"#2a3f5f\"}, \"baxis\": {\"endlinecolor\": \"#2a3f5f\", \"gridcolor\": \"white\", \"linecolor\": \"white\", \"minorgridcolor\": \"white\", \"startlinecolor\": \"#2a3f5f\"}, \"type\": \"carpet\"}], \"choropleth\": [{\"colorbar\": {\"outlinewidth\": 0, \"ticks\": \"\"}, \"type\": \"choropleth\"}], \"contour\": [{\"colorbar\": {\"outlinewidth\": 0, \"ticks\": \"\"}, \"colorscale\": [[0.0, \"#0d0887\"], [0.1111111111111111, \"#46039f\"], [0.2222222222222222, \"#7201a8\"], [0.3333333333333333, \"#9c179e\"], [0.4444444444444444, \"#bd3786\"], [0.5555555555555556, \"#d8576b\"], [0.6666666666666666, \"#ed7953\"], [0.7777777777777778, \"#fb9f3a\"], [0.8888888888888888, \"#fdca26\"], [1.0, \"#f0f921\"]], \"type\": \"contour\"}], \"contourcarpet\": [{\"colorbar\": {\"outlinewidth\": 0, \"ticks\": \"\"}, \"type\": \"contourcarpet\"}], \"heatmap\": [{\"colorbar\": {\"outlinewidth\": 0, \"ticks\": \"\"}, \"colorscale\": [[0.0, \"#0d0887\"], [0.1111111111111111, \"#46039f\"], [0.2222222222222222, \"#7201a8\"], [0.3333333333333333, \"#9c179e\"], [0.4444444444444444, \"#bd3786\"], [0.5555555555555556, \"#d8576b\"], [0.6666666666666666, \"#ed7953\"], [0.7777777777777778, \"#fb9f3a\"], [0.8888888888888888, \"#fdca26\"], [1.0, \"#f0f921\"]], \"type\": \"heatmap\"}], \"heatmapgl\": [{\"colorbar\": {\"outlinewidth\": 0, \"ticks\": \"\"}, \"colorscale\": [[0.0, \"#0d0887\"], [0.1111111111111111, \"#46039f\"], [0.2222222222222222, \"#7201a8\"], [0.3333333333333333, \"#9c179e\"], [0.4444444444444444, \"#bd3786\"], [0.5555555555555556, \"#d8576b\"], [0.6666666666666666, \"#ed7953\"], [0.7777777777777778, \"#fb9f3a\"], [0.8888888888888888, \"#fdca26\"], [1.0, \"#f0f921\"]], \"type\": \"heatmapgl\"}], \"histogram\": [{\"marker\": {\"colorbar\": {\"outlinewidth\": 0, \"ticks\": \"\"}}, \"type\": \"histogram\"}], \"histogram2d\": [{\"colorbar\": {\"outlinewidth\": 0, \"ticks\": \"\"}, \"colorscale\": [[0.0, \"#0d0887\"], [0.1111111111111111, \"#46039f\"], [0.2222222222222222, \"#7201a8\"], [0.3333333333333333, \"#9c179e\"], [0.4444444444444444, \"#bd3786\"], [0.5555555555555556, \"#d8576b\"], [0.6666666666666666, \"#ed7953\"], [0.7777777777777778, \"#fb9f3a\"], [0.8888888888888888, \"#fdca26\"], [1.0, \"#f0f921\"]], \"type\": \"histogram2d\"}], \"histogram2dcontour\": [{\"colorbar\": {\"outlinewidth\": 0, \"ticks\": \"\"}, \"colorscale\": [[0.0, \"#0d0887\"], [0.1111111111111111, \"#46039f\"], [0.2222222222222222, \"#7201a8\"], [0.3333333333333333, \"#9c179e\"], [0.4444444444444444, \"#bd3786\"], [0.5555555555555556, \"#d8576b\"], [0.6666666666666666, \"#ed7953\"], [0.7777777777777778, \"#fb9f3a\"], [0.8888888888888888, \"#fdca26\"], [1.0, \"#f0f921\"]], \"type\": \"histogram2dcontour\"}], \"mesh3d\": [{\"colorbar\": {\"outlinewidth\": 0, \"ticks\": \"\"}, \"type\": \"mesh3d\"}], \"parcoords\": [{\"line\": {\"colorbar\": {\"outlinewidth\": 0, \"ticks\": \"\"}}, \"type\": \"parcoords\"}], \"pie\": [{\"automargin\": true, \"type\": \"pie\"}], \"scatter\": [{\"marker\": {\"colorbar\": {\"outlinewidth\": 0, \"ticks\": \"\"}}, \"type\": \"scatter\"}], \"scatter3d\": [{\"line\": {\"colorbar\": {\"outlinewidth\": 0, \"ticks\": \"\"}}, \"marker\": {\"colorbar\": {\"outlinewidth\": 0, \"ticks\": \"\"}}, \"type\": \"scatter3d\"}], \"scattercarpet\": [{\"marker\": {\"colorbar\": {\"outlinewidth\": 0, \"ticks\": \"\"}}, \"type\": \"scattercarpet\"}], \"scattergeo\": [{\"marker\": {\"colorbar\": {\"outlinewidth\": 0, \"ticks\": \"\"}}, \"type\": \"scattergeo\"}], \"scattergl\": [{\"marker\": {\"colorbar\": {\"outlinewidth\": 0, \"ticks\": \"\"}}, \"type\": \"scattergl\"}], \"scattermapbox\": [{\"marker\": {\"colorbar\": {\"outlinewidth\": 0, \"ticks\": \"\"}}, \"type\": \"scattermapbox\"}], \"scatterpolar\": [{\"marker\": {\"colorbar\": {\"outlinewidth\": 0, \"ticks\": \"\"}}, \"type\": \"scatterpolar\"}], \"scatterpolargl\": [{\"marker\": {\"colorbar\": {\"outlinewidth\": 0, \"ticks\": \"\"}}, \"type\": \"scatterpolargl\"}], \"scatterternary\": [{\"marker\": {\"colorbar\": {\"outlinewidth\": 0, \"ticks\": \"\"}}, \"type\": \"scatterternary\"}], \"surface\": [{\"colorbar\": {\"outlinewidth\": 0, \"ticks\": \"\"}, \"colorscale\": [[0.0, \"#0d0887\"], [0.1111111111111111, \"#46039f\"], [0.2222222222222222, \"#7201a8\"], [0.3333333333333333, \"#9c179e\"], [0.4444444444444444, \"#bd3786\"], [0.5555555555555556, \"#d8576b\"], [0.6666666666666666, \"#ed7953\"], [0.7777777777777778, \"#fb9f3a\"], [0.8888888888888888, \"#fdca26\"], [1.0, \"#f0f921\"]], \"type\": \"surface\"}], \"table\": [{\"cells\": {\"fill\": {\"color\": \"#EBF0F8\"}, \"line\": {\"color\": \"white\"}}, \"header\": {\"fill\": {\"color\": \"#C8D4E3\"}, \"line\": {\"color\": \"white\"}}, \"type\": \"table\"}]}, \"layout\": {\"annotationdefaults\": {\"arrowcolor\": \"#2a3f5f\", \"arrowhead\": 0, \"arrowwidth\": 1}, \"coloraxis\": {\"colorbar\": {\"outlinewidth\": 0, \"ticks\": \"\"}}, \"colorscale\": {\"diverging\": [[0, \"#8e0152\"], [0.1, \"#c51b7d\"], [0.2, \"#de77ae\"], [0.3, \"#f1b6da\"], [0.4, \"#fde0ef\"], [0.5, \"#f7f7f7\"], [0.6, \"#e6f5d0\"], [0.7, \"#b8e186\"], [0.8, \"#7fbc41\"], [0.9, \"#4d9221\"], [1, \"#276419\"]], \"sequential\": [[0.0, \"#0d0887\"], [0.1111111111111111, \"#46039f\"], [0.2222222222222222, \"#7201a8\"], [0.3333333333333333, \"#9c179e\"], [0.4444444444444444, \"#bd3786\"], [0.5555555555555556, \"#d8576b\"], [0.6666666666666666, \"#ed7953\"], [0.7777777777777778, \"#fb9f3a\"], [0.8888888888888888, \"#fdca26\"], [1.0, \"#f0f921\"]], \"sequentialminus\": [[0.0, \"#0d0887\"], [0.1111111111111111, \"#46039f\"], [0.2222222222222222, \"#7201a8\"], [0.3333333333333333, \"#9c179e\"], [0.4444444444444444, \"#bd3786\"], [0.5555555555555556, \"#d8576b\"], [0.6666666666666666, \"#ed7953\"], [0.7777777777777778, \"#fb9f3a\"], [0.8888888888888888, \"#fdca26\"], [1.0, \"#f0f921\"]]}, \"colorway\": [\"#636efa\", \"#EF553B\", \"#00cc96\", \"#ab63fa\", \"#FFA15A\", \"#19d3f3\", \"#FF6692\", \"#B6E880\", \"#FF97FF\", \"#FECB52\"], \"font\": {\"color\": \"#2a3f5f\"}, \"geo\": {\"bgcolor\": \"white\", \"lakecolor\": \"white\", \"landcolor\": \"#E5ECF6\", \"showlakes\": true, \"showland\": true, \"subunitcolor\": \"white\"}, \"hoverlabel\": {\"align\": \"left\"}, \"hovermode\": \"closest\", \"mapbox\": {\"style\": \"light\"}, \"paper_bgcolor\": \"white\", \"plot_bgcolor\": \"#E5ECF6\", \"polar\": {\"angularaxis\": {\"gridcolor\": \"white\", \"linecolor\": \"white\", \"ticks\": \"\"}, \"bgcolor\": \"#E5ECF6\", \"radialaxis\": {\"gridcolor\": \"white\", \"linecolor\": \"white\", \"ticks\": \"\"}}, \"scene\": {\"xaxis\": {\"backgroundcolor\": \"#E5ECF6\", \"gridcolor\": \"white\", \"gridwidth\": 2, \"linecolor\": \"white\", \"showbackground\": true, \"ticks\": \"\", \"zerolinecolor\": \"white\"}, \"yaxis\": {\"backgroundcolor\": \"#E5ECF6\", \"gridcolor\": \"white\", \"gridwidth\": 2, \"linecolor\": \"white\", \"showbackground\": true, \"ticks\": \"\", \"zerolinecolor\": \"white\"}, \"zaxis\": {\"backgroundcolor\": \"#E5ECF6\", \"gridcolor\": \"white\", \"gridwidth\": 2, \"linecolor\": \"white\", \"showbackground\": true, \"ticks\": \"\", \"zerolinecolor\": \"white\"}}, \"shapedefaults\": {\"line\": {\"color\": \"#2a3f5f\"}}, \"ternary\": {\"aaxis\": {\"gridcolor\": \"white\", \"linecolor\": \"white\", \"ticks\": \"\"}, \"baxis\": {\"gridcolor\": \"white\", \"linecolor\": \"white\", \"ticks\": \"\"}, \"bgcolor\": \"#E5ECF6\", \"caxis\": {\"gridcolor\": \"white\", \"linecolor\": \"white\", \"ticks\": \"\"}}, \"title\": {\"x\": 0.05}, \"xaxis\": {\"automargin\": true, \"gridcolor\": \"white\", \"linecolor\": \"white\", \"ticks\": \"\", \"title\": {\"standoff\": 15}, \"zerolinecolor\": \"white\", \"zerolinewidth\": 2}, \"yaxis\": {\"automargin\": true, \"gridcolor\": \"white\", \"linecolor\": \"white\", \"ticks\": \"\", \"title\": {\"standoff\": 15}, \"zerolinecolor\": \"white\", \"zerolinewidth\": 2}}}, \"title\": {\"text\": \"Threshold Verfication\"}, \"width\": 800, \"xaxis\": {\"anchor\": \"y\", \"domain\": [0.0, 1.0], \"title\": {\"text\": \"threshold\"}}, \"yaxis\": {\"anchor\": \"x\", \"domain\": [0.0, 1.0], \"title\": {\"text\": \"score\"}}},\n",
              "                        {\"responsive\": true}\n",
              "                    ).then(function(){\n",
              "                            \n",
              "var gd = document.getElementById('bb415d69-ed23-4152-b257-d56ccbcf13e7');\n",
              "var x = new MutationObserver(function (mutations, observer) {{\n",
              "        var display = window.getComputedStyle(gd).display;\n",
              "        if (!display || display === 'none') {{\n",
              "            console.log([gd, 'removed!']);\n",
              "            Plotly.purge(gd);\n",
              "            observer.disconnect();\n",
              "        }}\n",
              "}});\n",
              "\n",
              "// Listen for the removal of the full notebook cells\n",
              "var notebookContainer = gd.closest('#notebook-container');\n",
              "if (notebookContainer) {{\n",
              "    x.observe(notebookContainer, {childList: true});\n",
              "}}\n",
              "\n",
              "// Listen for the clearing of the current output cell\n",
              "var outputEl = gd.closest('.output');\n",
              "if (outputEl) {{\n",
              "    x.observe(outputEl, {childList: true});\n",
              "}}\n",
              "\n",
              "                        })\n",
              "                };\n",
              "                \n",
              "            </script>\n",
              "        </div>\n",
              "</body>\n",
              "</html>"
            ]
          },
          "metadata": {
            "tags": []
          }
        }
      ]
    },
    {
      "cell_type": "code",
      "metadata": {
        "id": "3NFdIG7twx8a"
      },
      "source": [
        ""
      ],
      "execution_count": null,
      "outputs": []
    }
  ]
}