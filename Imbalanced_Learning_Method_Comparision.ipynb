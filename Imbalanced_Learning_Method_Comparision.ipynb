{
  "nbformat": 4,
  "nbformat_minor": 0,
  "metadata": {
    "colab": {
      "name": "Imbalanced_Learning_Method_Comparision.ipynb",
      "provenance": [],
      "collapsed_sections": [],
      "toc_visible": true,
      "include_colab_link": true
    },
    "kernelspec": {
      "display_name": "Python 3",
      "language": "python",
      "name": "python3"
    },
    "language_info": {
      "codemirror_mode": {
        "name": "ipython",
        "version": 3
      },
      "file_extension": ".py",
      "mimetype": "text/x-python",
      "name": "python",
      "nbconvert_exporter": "python",
      "pygments_lexer": "ipython3",
      "version": "3.8.5"
    }
  },
  "cells": [
    {
      "cell_type": "markdown",
      "metadata": {
        "id": "view-in-github",
        "colab_type": "text"
      },
      "source": [
        "<a href=\"https://colab.research.google.com/github/dk-wei/ml-algo-implementation/blob/main/Imbalanced_Learning_Method_Comparision.ipynb\" target=\"_parent\"><img src=\"https://colab.research.google.com/assets/colab-badge.svg\" alt=\"Open In Colab\"/></a>"
      ]
    },
    {
      "cell_type": "code",
      "metadata": {
        "id": "vUZEjBgFmaxC"
      },
      "source": [
        "%matplotlib inline"
      ],
      "execution_count": 48,
      "outputs": []
    },
    {
      "cell_type": "markdown",
      "metadata": {
        "id": "xAh9Zp8xmaxH"
      },
      "source": [
        "\n",
        "# Fitting model on imbalanced datasets and how to fight bias\n",
        "\n",
        "This example illustrates the problem induced by learning on datasets having\n",
        "imbalanced classes. Subsequently, we compare different approaches alleviating\n",
        "these negative effects.\n"
      ]
    },
    {
      "cell_type": "code",
      "metadata": {
        "id": "-1A3EryLmaxI"
      },
      "source": [
        "# Authors: Guillaume Lemaitre <g.lemaitre58@gmail.com>\n",
        "# License: MIT"
      ],
      "execution_count": 49,
      "outputs": []
    },
    {
      "cell_type": "code",
      "metadata": {
        "colab": {
          "base_uri": "https://localhost:8080/"
        },
        "id": "HZsT7k5Am5c6",
        "outputId": "38a260e7-d613-48a6-8b03-d8ab675b7857"
      },
      "source": [
        "pip install -U imbalanced-learn"
      ],
      "execution_count": 50,
      "outputs": [
        {
          "output_type": "stream",
          "text": [
            "Requirement already up-to-date: imbalanced-learn in /usr/local/lib/python3.7/dist-packages (0.8.0)\n",
            "Requirement already satisfied, skipping upgrade: scipy>=0.19.1 in /usr/local/lib/python3.7/dist-packages (from imbalanced-learn) (1.4.1)\n",
            "Requirement already satisfied, skipping upgrade: scikit-learn>=0.24 in /usr/local/lib/python3.7/dist-packages (from imbalanced-learn) (0.24.2)\n",
            "Requirement already satisfied, skipping upgrade: joblib>=0.11 in /usr/local/lib/python3.7/dist-packages (from imbalanced-learn) (1.0.1)\n",
            "Requirement already satisfied, skipping upgrade: numpy>=1.13.3 in /usr/local/lib/python3.7/dist-packages (from imbalanced-learn) (1.19.5)\n",
            "Requirement already satisfied, skipping upgrade: threadpoolctl>=2.0.0 in /usr/local/lib/python3.7/dist-packages (from scikit-learn>=0.24->imbalanced-learn) (2.1.0)\n"
          ],
          "name": "stdout"
        }
      ]
    },
    {
      "cell_type": "code",
      "metadata": {
        "colab": {
          "base_uri": "https://localhost:8080/"
        },
        "id": "TZXE8DcMmaxI",
        "outputId": "2e9debee-abaf-4a10-d5f9-63812dde5193"
      },
      "source": [
        "print(__doc__)"
      ],
      "execution_count": 51,
      "outputs": [
        {
          "output_type": "stream",
          "text": [
            "Automatically created module for IPython interactive environment\n"
          ],
          "name": "stdout"
        }
      ]
    },
    {
      "cell_type": "markdown",
      "metadata": {
        "id": "MXS0HLzBmaxI"
      },
      "source": [
        "## Problem definition\n",
        "\n",
        "We are dropping the following features:\n",
        "\n",
        "- \"fnlwgt\": this feature was created while studying the \"adult\" dataset.\n",
        "  Thus, we will not use this feature which is not acquired during the survey.\n",
        "- \"education-num\": it is encoding the same information than \"education\".\n",
        "  Thus, we are removing one of these 2 features.\n",
        "\n"
      ]
    },
    {
      "cell_type": "code",
      "metadata": {
        "id": "vW_yEF4fmaxJ"
      },
      "source": [
        "from sklearn.datasets import fetch_openml\n",
        "\n",
        "df, y = fetch_openml(\"adult\", version=2, as_frame=True, return_X_y=True)\n",
        "df = df.drop(columns=[\"fnlwgt\", \"education-num\"])"
      ],
      "execution_count": 52,
      "outputs": []
    },
    {
      "cell_type": "code",
      "metadata": {
        "colab": {
          "base_uri": "https://localhost:8080/",
          "height": 306
        },
        "id": "Jf0aN4_VoSkZ",
        "outputId": "c54dd9d1-09c6-4c08-f5f0-3947a2b67f9c"
      },
      "source": [
        "df.head()"
      ],
      "execution_count": 53,
      "outputs": [
        {
          "output_type": "execute_result",
          "data": {
            "text/html": [
              "<div>\n",
              "<style scoped>\n",
              "    .dataframe tbody tr th:only-of-type {\n",
              "        vertical-align: middle;\n",
              "    }\n",
              "\n",
              "    .dataframe tbody tr th {\n",
              "        vertical-align: top;\n",
              "    }\n",
              "\n",
              "    .dataframe thead th {\n",
              "        text-align: right;\n",
              "    }\n",
              "</style>\n",
              "<table border=\"1\" class=\"dataframe\">\n",
              "  <thead>\n",
              "    <tr style=\"text-align: right;\">\n",
              "      <th></th>\n",
              "      <th>age</th>\n",
              "      <th>workclass</th>\n",
              "      <th>education</th>\n",
              "      <th>marital-status</th>\n",
              "      <th>occupation</th>\n",
              "      <th>relationship</th>\n",
              "      <th>race</th>\n",
              "      <th>sex</th>\n",
              "      <th>capital-gain</th>\n",
              "      <th>capital-loss</th>\n",
              "      <th>hours-per-week</th>\n",
              "      <th>native-country</th>\n",
              "    </tr>\n",
              "  </thead>\n",
              "  <tbody>\n",
              "    <tr>\n",
              "      <th>0</th>\n",
              "      <td>25.0</td>\n",
              "      <td>Private</td>\n",
              "      <td>11th</td>\n",
              "      <td>Never-married</td>\n",
              "      <td>Machine-op-inspct</td>\n",
              "      <td>Own-child</td>\n",
              "      <td>Black</td>\n",
              "      <td>Male</td>\n",
              "      <td>0.0</td>\n",
              "      <td>0.0</td>\n",
              "      <td>40.0</td>\n",
              "      <td>United-States</td>\n",
              "    </tr>\n",
              "    <tr>\n",
              "      <th>1</th>\n",
              "      <td>38.0</td>\n",
              "      <td>Private</td>\n",
              "      <td>HS-grad</td>\n",
              "      <td>Married-civ-spouse</td>\n",
              "      <td>Farming-fishing</td>\n",
              "      <td>Husband</td>\n",
              "      <td>White</td>\n",
              "      <td>Male</td>\n",
              "      <td>0.0</td>\n",
              "      <td>0.0</td>\n",
              "      <td>50.0</td>\n",
              "      <td>United-States</td>\n",
              "    </tr>\n",
              "    <tr>\n",
              "      <th>2</th>\n",
              "      <td>28.0</td>\n",
              "      <td>Local-gov</td>\n",
              "      <td>Assoc-acdm</td>\n",
              "      <td>Married-civ-spouse</td>\n",
              "      <td>Protective-serv</td>\n",
              "      <td>Husband</td>\n",
              "      <td>White</td>\n",
              "      <td>Male</td>\n",
              "      <td>0.0</td>\n",
              "      <td>0.0</td>\n",
              "      <td>40.0</td>\n",
              "      <td>United-States</td>\n",
              "    </tr>\n",
              "    <tr>\n",
              "      <th>3</th>\n",
              "      <td>44.0</td>\n",
              "      <td>Private</td>\n",
              "      <td>Some-college</td>\n",
              "      <td>Married-civ-spouse</td>\n",
              "      <td>Machine-op-inspct</td>\n",
              "      <td>Husband</td>\n",
              "      <td>Black</td>\n",
              "      <td>Male</td>\n",
              "      <td>7688.0</td>\n",
              "      <td>0.0</td>\n",
              "      <td>40.0</td>\n",
              "      <td>United-States</td>\n",
              "    </tr>\n",
              "    <tr>\n",
              "      <th>4</th>\n",
              "      <td>18.0</td>\n",
              "      <td>NaN</td>\n",
              "      <td>Some-college</td>\n",
              "      <td>Never-married</td>\n",
              "      <td>NaN</td>\n",
              "      <td>Own-child</td>\n",
              "      <td>White</td>\n",
              "      <td>Female</td>\n",
              "      <td>0.0</td>\n",
              "      <td>0.0</td>\n",
              "      <td>30.0</td>\n",
              "      <td>United-States</td>\n",
              "    </tr>\n",
              "  </tbody>\n",
              "</table>\n",
              "</div>"
            ],
            "text/plain": [
              "    age  workclass     education  ... capital-loss hours-per-week native-country\n",
              "0  25.0    Private          11th  ...          0.0           40.0  United-States\n",
              "1  38.0    Private       HS-grad  ...          0.0           50.0  United-States\n",
              "2  28.0  Local-gov    Assoc-acdm  ...          0.0           40.0  United-States\n",
              "3  44.0    Private  Some-college  ...          0.0           40.0  United-States\n",
              "4  18.0        NaN  Some-college  ...          0.0           30.0  United-States\n",
              "\n",
              "[5 rows x 12 columns]"
            ]
          },
          "metadata": {
            "tags": []
          },
          "execution_count": 53
        }
      ]
    },
    {
      "cell_type": "markdown",
      "metadata": {
        "id": "3-uEs0T2maxJ"
      },
      "source": [
        "The \"adult\" dataset as a class ratio of about 3:1\n",
        "\n"
      ]
    },
    {
      "cell_type": "code",
      "metadata": {
        "colab": {
          "base_uri": "https://localhost:8080/"
        },
        "id": "x6cJllJ2maxJ",
        "outputId": "17fb1aac-c5de-469e-c2bc-364597647aae"
      },
      "source": [
        "classes_count = y.value_counts()\n",
        "classes_count"
      ],
      "execution_count": 54,
      "outputs": [
        {
          "output_type": "execute_result",
          "data": {
            "text/plain": [
              "<=50K    37155\n",
              ">50K     11687\n",
              "Name: class, dtype: int64"
            ]
          },
          "metadata": {
            "tags": []
          },
          "execution_count": 54
        }
      ]
    },
    {
      "cell_type": "markdown",
      "metadata": {
        "id": "Osh_H1AHmaxJ"
      },
      "source": [
        "This dataset is only slightly imbalanced. To better highlight the effect of\n",
        "learning from an imbalanced dataset, we will increase its ratio to 30:1\n",
        "\n"
      ]
    },
    {
      "cell_type": "code",
      "metadata": {
        "colab": {
          "base_uri": "https://localhost:8080/"
        },
        "id": "GzRIwA8amaxK",
        "outputId": "ad14ca39-9778-4138-9b82-fe0e2e3ed495"
      },
      "source": [
        "# make_imbalance可以创造imbalanced dataset\n",
        "from imblearn.datasets import make_imbalance\n",
        "\n",
        "ratio = 30\n",
        "df_res, y_res = make_imbalance(\n",
        "    df,\n",
        "    y,\n",
        "    sampling_strategy={classes_count.idxmin(): classes_count.max() // ratio},\n",
        ")\n",
        "y_res.value_counts()"
      ],
      "execution_count": 55,
      "outputs": [
        {
          "output_type": "execute_result",
          "data": {
            "text/plain": [
              "<=50K    37155\n",
              ">50K      1238\n",
              "Name: class, dtype: int64"
            ]
          },
          "metadata": {
            "tags": []
          },
          "execution_count": 55
        }
      ]
    },
    {
      "cell_type": "markdown",
      "metadata": {
        "id": "iaVaVI8wmaxK"
      },
      "source": [
        "We will perform a cross-validation evaluation to get an estimate of the test\n",
        "score.\n",
        "\n",
        "As a baseline, we could use a classifier which will **always predict the\n",
        "majority class independently of the features provided**.\n",
        "\n"
      ]
    },
    {
      "cell_type": "code",
      "metadata": {
        "colab": {
          "base_uri": "https://localhost:8080/"
        },
        "id": "ys8_efJAmaxK",
        "outputId": "26310be9-5e5c-4bc0-a627-09f07ecca946"
      },
      "source": [
        "from sklearn.model_selection import cross_validate\n",
        "from sklearn.dummy import DummyClassifier\n",
        "\n",
        "dummy_clf = DummyClassifier(strategy=\"most_frequent\")\n",
        "scoring = [\"accuracy\", \"balanced_accuracy\"]\n",
        "cv_result = cross_validate(dummy_clf, df_res, y_res, scoring=scoring)\n",
        "print(f\"Accuracy score of a dummy classifier: {cv_result['test_accuracy'].mean():.3f}\")"
      ],
      "execution_count": 56,
      "outputs": [
        {
          "output_type": "stream",
          "text": [
            "Accuracy score of a dummy classifier: 0.968\n"
          ],
          "name": "stdout"
        }
      ]
    },
    {
      "cell_type": "markdown",
      "metadata": {
        "id": "9EDizZvYmaxK"
      },
      "source": [
        "Instead of using the accuracy, we can use the balanced accuracy which will\n",
        "take into account the balancing issue.\n",
        "\n"
      ]
    },
    {
      "cell_type": "code",
      "metadata": {
        "colab": {
          "base_uri": "https://localhost:8080/"
        },
        "id": "2MNNjZ4dpeak",
        "outputId": "8780d62a-b6b1-4010-b40e-5360f34eade7"
      },
      "source": [
        "cv_result"
      ],
      "execution_count": 57,
      "outputs": [
        {
          "output_type": "execute_result",
          "data": {
            "text/plain": [
              "{'fit_time': array([0.01724768, 0.01569963, 0.01571703, 0.01582074, 0.01641178]),\n",
              " 'score_time': array([0.03610206, 0.03483963, 0.03532028, 0.03472543, 0.04445076]),\n",
              " 'test_accuracy': array([0.96770413, 0.96770413, 0.96770413, 0.96783016, 0.96783016]),\n",
              " 'test_balanced_accuracy': array([0.5, 0.5, 0.5, 0.5, 0.5])}"
            ]
          },
          "metadata": {
            "tags": []
          },
          "execution_count": 57
        }
      ]
    },
    {
      "cell_type": "code",
      "metadata": {
        "colab": {
          "base_uri": "https://localhost:8080/"
        },
        "id": "hCGS97QPmaxL",
        "outputId": "7426a36a-e0d1-4f6e-f525-ed47543666ce"
      },
      "source": [
        "print(\n",
        "    f\"Balanced accuracy score of a dummy classifier: \"\n",
        "    f\"{cv_result['test_balanced_accuracy'].mean():.3f}\"\n",
        ")"
      ],
      "execution_count": 58,
      "outputs": [
        {
          "output_type": "stream",
          "text": [
            "Balanced accuracy score of a dummy classifier: 0.500\n"
          ],
          "name": "stdout"
        }
      ]
    },
    {
      "cell_type": "markdown",
      "metadata": {
        "id": "AeriSVBmmaxL"
      },
      "source": [
        "## Strategies to learn from an imbalanced dataset\n",
        "We will use a dictionary and a list to continuously store the results of\n",
        "our experiments and show them as a pandas dataframe.\n",
        "\n"
      ]
    },
    {
      "cell_type": "code",
      "metadata": {
        "id": "yzcrC2GumaxL"
      },
      "source": [
        "index = []\n",
        "scores = {\"Accuracy\": [], \"Balanced accuracy\": []}"
      ],
      "execution_count": 59,
      "outputs": []
    },
    {
      "cell_type": "markdown",
      "metadata": {
        "id": "Yw0b-GPhmaxL"
      },
      "source": [
        "### Dummy baseline\n",
        "\n",
        "Before to train a real machine learning model, we can store the results\n",
        "obtained with our :class:`~sklearn.dummy.DummyClassifier`.\n",
        "\n"
      ]
    },
    {
      "cell_type": "code",
      "metadata": {
        "colab": {
          "base_uri": "https://localhost:8080/",
          "height": 79
        },
        "id": "VAn0tOD4maxL",
        "outputId": "c2702547-dc89-4a8d-ef66-9c58ad4faf0d"
      },
      "source": [
        "import pandas as pd\n",
        "\n",
        "index += [\"Dummy classifier\"]\n",
        "cv_result = cross_validate(dummy_clf, df_res, y_res, scoring=scoring)\n",
        "scores[\"Accuracy\"].append(cv_result[\"test_accuracy\"].mean())\n",
        "scores[\"Balanced accuracy\"].append(cv_result[\"test_balanced_accuracy\"].mean())\n",
        "\n",
        "df_scores = pd.DataFrame(scores, index=index)\n",
        "df_scores"
      ],
      "execution_count": 60,
      "outputs": [
        {
          "output_type": "execute_result",
          "data": {
            "text/html": [
              "<div>\n",
              "<style scoped>\n",
              "    .dataframe tbody tr th:only-of-type {\n",
              "        vertical-align: middle;\n",
              "    }\n",
              "\n",
              "    .dataframe tbody tr th {\n",
              "        vertical-align: top;\n",
              "    }\n",
              "\n",
              "    .dataframe thead th {\n",
              "        text-align: right;\n",
              "    }\n",
              "</style>\n",
              "<table border=\"1\" class=\"dataframe\">\n",
              "  <thead>\n",
              "    <tr style=\"text-align: right;\">\n",
              "      <th></th>\n",
              "      <th>Accuracy</th>\n",
              "      <th>Balanced accuracy</th>\n",
              "    </tr>\n",
              "  </thead>\n",
              "  <tbody>\n",
              "    <tr>\n",
              "      <th>Dummy classifier</th>\n",
              "      <td>0.967755</td>\n",
              "      <td>0.5</td>\n",
              "    </tr>\n",
              "  </tbody>\n",
              "</table>\n",
              "</div>"
            ],
            "text/plain": [
              "                  Accuracy  Balanced accuracy\n",
              "Dummy classifier  0.967755                0.5"
            ]
          },
          "metadata": {
            "tags": []
          },
          "execution_count": 60
        }
      ]
    },
    {
      "cell_type": "markdown",
      "metadata": {
        "id": "6LgkZkzamaxM"
      },
      "source": [
        "### Linear classifier baseline\n",
        "\n",
        "We will create a machine learning pipeline using a\n",
        ":class:`~sklearn.linear_model.LogisticRegression` classifier. In this regard,\n",
        "we will need to one-hot encode the categorical columns and standardized the\n",
        "numerical columns before to inject the data into the\n",
        ":class:`~sklearn.linear_model.LogisticRegression` classifier.\n",
        "\n",
        "First, we define our numerical and categorical pipelines.\n",
        "\n"
      ]
    },
    {
      "cell_type": "code",
      "metadata": {
        "id": "k31ypPuBmaxM"
      },
      "source": [
        "from sklearn.impute import SimpleImputer\n",
        "from sklearn.preprocessing import StandardScaler\n",
        "from sklearn.preprocessing import OneHotEncoder\n",
        "from sklearn.pipeline import make_pipeline\n",
        "\n",
        "num_pipe = make_pipeline(\n",
        "    StandardScaler(), SimpleImputer(strategy=\"mean\", add_indicator=True)\n",
        ")\n",
        "cat_pipe = make_pipeline(\n",
        "    SimpleImputer(strategy=\"constant\", fill_value=\"missing\"),\n",
        "    OneHotEncoder(handle_unknown=\"ignore\"),\n",
        ")"
      ],
      "execution_count": 61,
      "outputs": []
    },
    {
      "cell_type": "markdown",
      "metadata": {
        "id": "tSU0ZmEUmaxM"
      },
      "source": [
        "Then, we can create a preprocessor which will dispatch the categorical\n",
        "columns to the categorical pipeline and the numerical columns to the\n",
        "numerical pipeline\n",
        "\n"
      ]
    },
    {
      "cell_type": "code",
      "metadata": {
        "id": "IUjBvyrMmaxM"
      },
      "source": [
        "from sklearn.compose import make_column_transformer\n",
        "from sklearn.compose import make_column_selector as selector\n",
        "\n",
        "preprocessor_linear = make_column_transformer(\n",
        "    (num_pipe, selector(dtype_include=\"number\")),\n",
        "    (cat_pipe, selector(dtype_include=\"category\")),\n",
        "    n_jobs=2,\n",
        ")"
      ],
      "execution_count": 62,
      "outputs": []
    },
    {
      "cell_type": "markdown",
      "metadata": {
        "id": "M0vz5fskmaxM"
      },
      "source": [
        "Finally, we connect our preprocessor with our\n",
        ":class:`~sklearn.linear_model.LogisticRegression`. We can then evaluate our\n",
        "model.\n",
        "\n"
      ]
    },
    {
      "cell_type": "code",
      "metadata": {
        "id": "hTey4YOsmaxM"
      },
      "source": [
        "from sklearn.linear_model import LogisticRegression\n",
        "\n",
        "lr_clf = make_pipeline(preprocessor_linear, LogisticRegression(max_iter=1000))"
      ],
      "execution_count": 63,
      "outputs": []
    },
    {
      "cell_type": "code",
      "metadata": {
        "colab": {
          "base_uri": "https://localhost:8080/",
          "height": 110
        },
        "id": "JuRI1PnRmaxN",
        "outputId": "063c078b-fc2d-4d48-942b-2aa1f1e0a12d"
      },
      "source": [
        "index += [\"Logistic regression\"]\n",
        "cv_result = cross_validate(lr_clf, df_res, y_res, scoring=scoring)\n",
        "scores[\"Accuracy\"].append(cv_result[\"test_accuracy\"].mean())\n",
        "scores[\"Balanced accuracy\"].append(cv_result[\"test_balanced_accuracy\"].mean())\n",
        "\n",
        "df_scores = pd.DataFrame(scores, index=index)\n",
        "df_scores"
      ],
      "execution_count": 64,
      "outputs": [
        {
          "output_type": "execute_result",
          "data": {
            "text/html": [
              "<div>\n",
              "<style scoped>\n",
              "    .dataframe tbody tr th:only-of-type {\n",
              "        vertical-align: middle;\n",
              "    }\n",
              "\n",
              "    .dataframe tbody tr th {\n",
              "        vertical-align: top;\n",
              "    }\n",
              "\n",
              "    .dataframe thead th {\n",
              "        text-align: right;\n",
              "    }\n",
              "</style>\n",
              "<table border=\"1\" class=\"dataframe\">\n",
              "  <thead>\n",
              "    <tr style=\"text-align: right;\">\n",
              "      <th></th>\n",
              "      <th>Accuracy</th>\n",
              "      <th>Balanced accuracy</th>\n",
              "    </tr>\n",
              "  </thead>\n",
              "  <tbody>\n",
              "    <tr>\n",
              "      <th>Dummy classifier</th>\n",
              "      <td>0.967755</td>\n",
              "      <td>0.50000</td>\n",
              "    </tr>\n",
              "    <tr>\n",
              "      <th>Logistic regression</th>\n",
              "      <td>0.970125</td>\n",
              "      <td>0.56213</td>\n",
              "    </tr>\n",
              "  </tbody>\n",
              "</table>\n",
              "</div>"
            ],
            "text/plain": [
              "                     Accuracy  Balanced accuracy\n",
              "Dummy classifier     0.967755            0.50000\n",
              "Logistic regression  0.970125            0.56213"
            ]
          },
          "metadata": {
            "tags": []
          },
          "execution_count": 64
        }
      ]
    },
    {
      "cell_type": "markdown",
      "metadata": {
        "id": "F6Yb99R2maxN"
      },
      "source": [
        "We can see that our linear model is learning slightly better than our dummy\n",
        "baseline. However, it is impacted by the class imbalance.\n",
        "\n",
        "We can verify that something similar is happening with a tree-based model\n",
        "such as :class:`~sklearn.ensemble.RandomForestClassifier`. With this type of\n",
        "classifier, we will not need to scale the numerical data, and we will only\n",
        "need to ordinal encode the categorical data.\n",
        "\n"
      ]
    },
    {
      "cell_type": "code",
      "metadata": {
        "id": "_kPwd-U6maxN"
      },
      "source": [
        "from sklearn.preprocessing import OrdinalEncoder\n",
        "from sklearn.ensemble import RandomForestClassifier\n",
        "\n",
        "num_pipe = SimpleImputer(strategy=\"mean\", add_indicator=True)\n",
        "cat_pipe = make_pipeline(\n",
        "    SimpleImputer(strategy=\"constant\", fill_value=\"missing\"),\n",
        "    OrdinalEncoder(handle_unknown=\"use_encoded_value\", unknown_value=-1),\n",
        ")\n",
        "\n",
        "preprocessor_tree = make_column_transformer(\n",
        "    (num_pipe, selector(dtype_include=\"number\")),\n",
        "    (cat_pipe, selector(dtype_include=\"category\")),\n",
        "    n_jobs=2,\n",
        ")\n",
        "\n",
        "rf_clf = make_pipeline(\n",
        "    preprocessor_tree, RandomForestClassifier(random_state=42, n_jobs=2)\n",
        ")"
      ],
      "execution_count": 65,
      "outputs": []
    },
    {
      "cell_type": "code",
      "metadata": {
        "colab": {
          "base_uri": "https://localhost:8080/",
          "height": 141
        },
        "id": "tAvR7mMEmaxN",
        "outputId": "a7507c9e-7bbd-4c9c-f9b6-37cbebecdd6f"
      },
      "source": [
        "index += [\"Random forest\"]\n",
        "cv_result = cross_validate(rf_clf, df_res, y_res, scoring=scoring)\n",
        "scores[\"Accuracy\"].append(cv_result[\"test_accuracy\"].mean())\n",
        "scores[\"Balanced accuracy\"].append(cv_result[\"test_balanced_accuracy\"].mean())\n",
        "\n",
        "df_scores = pd.DataFrame(scores, index=index)\n",
        "df_scores"
      ],
      "execution_count": 66,
      "outputs": [
        {
          "output_type": "execute_result",
          "data": {
            "text/html": [
              "<div>\n",
              "<style scoped>\n",
              "    .dataframe tbody tr th:only-of-type {\n",
              "        vertical-align: middle;\n",
              "    }\n",
              "\n",
              "    .dataframe tbody tr th {\n",
              "        vertical-align: top;\n",
              "    }\n",
              "\n",
              "    .dataframe thead th {\n",
              "        text-align: right;\n",
              "    }\n",
              "</style>\n",
              "<table border=\"1\" class=\"dataframe\">\n",
              "  <thead>\n",
              "    <tr style=\"text-align: right;\">\n",
              "      <th></th>\n",
              "      <th>Accuracy</th>\n",
              "      <th>Balanced accuracy</th>\n",
              "    </tr>\n",
              "  </thead>\n",
              "  <tbody>\n",
              "    <tr>\n",
              "      <th>Dummy classifier</th>\n",
              "      <td>0.967755</td>\n",
              "      <td>0.50000</td>\n",
              "    </tr>\n",
              "    <tr>\n",
              "      <th>Logistic regression</th>\n",
              "      <td>0.970125</td>\n",
              "      <td>0.56213</td>\n",
              "    </tr>\n",
              "    <tr>\n",
              "      <th>Random forest</th>\n",
              "      <td>0.970594</td>\n",
              "      <td>0.62756</td>\n",
              "    </tr>\n",
              "  </tbody>\n",
              "</table>\n",
              "</div>"
            ],
            "text/plain": [
              "                     Accuracy  Balanced accuracy\n",
              "Dummy classifier     0.967755            0.50000\n",
              "Logistic regression  0.970125            0.56213\n",
              "Random forest        0.970594            0.62756"
            ]
          },
          "metadata": {
            "tags": []
          },
          "execution_count": 66
        }
      ]
    },
    {
      "cell_type": "markdown",
      "metadata": {
        "id": "rQFiJW3YmaxO"
      },
      "source": [
        "The :class:`~sklearn.ensemble.RandomForestClassifier` is as well affected by\n",
        "the class imbalanced, slightly less than the linear model. Now, we will\n",
        "present different approach to improve the performance of these 2 models.\n",
        "\n",
        "### Use `class_weight` method in Scikit-learn\n",
        "\n",
        "Most of the models in `scikit-learn` have a parameter `class_weight`. **This\n",
        "parameter will affect the computation of the loss in linear model or the\n",
        "criterion in the tree-based model to penalize differently a false\n",
        "classification from the minority and majority class (改变的是loss function和cross entropy的weights)**. We can set\n",
        "`class_weight=\"balanced\"` such that the weight applied is inversely\n",
        "proportional to the class frequency. We test this parametrization in both\n",
        "linear model and tree-based model.\n",
        "\n"
      ]
    },
    {
      "cell_type": "code",
      "metadata": {
        "colab": {
          "base_uri": "https://localhost:8080/",
          "height": 172
        },
        "id": "QK5sc812maxO",
        "outputId": "b435c786-b063-47c8-e60a-b44573bafc08"
      },
      "source": [
        "lr_clf.set_params(logisticregression__class_weight=\"balanced\")\n",
        "\n",
        "index += [\"Logistic regression with balanced class weights\"]\n",
        "cv_result = cross_validate(lr_clf, df_res, y_res, scoring=scoring)\n",
        "scores[\"Accuracy\"].append(cv_result[\"test_accuracy\"].mean())\n",
        "scores[\"Balanced accuracy\"].append(cv_result[\"test_balanced_accuracy\"].mean())\n",
        "\n",
        "df_scores = pd.DataFrame(scores, index=index)\n",
        "df_scores"
      ],
      "execution_count": 67,
      "outputs": [
        {
          "output_type": "execute_result",
          "data": {
            "text/html": [
              "<div>\n",
              "<style scoped>\n",
              "    .dataframe tbody tr th:only-of-type {\n",
              "        vertical-align: middle;\n",
              "    }\n",
              "\n",
              "    .dataframe tbody tr th {\n",
              "        vertical-align: top;\n",
              "    }\n",
              "\n",
              "    .dataframe thead th {\n",
              "        text-align: right;\n",
              "    }\n",
              "</style>\n",
              "<table border=\"1\" class=\"dataframe\">\n",
              "  <thead>\n",
              "    <tr style=\"text-align: right;\">\n",
              "      <th></th>\n",
              "      <th>Accuracy</th>\n",
              "      <th>Balanced accuracy</th>\n",
              "    </tr>\n",
              "  </thead>\n",
              "  <tbody>\n",
              "    <tr>\n",
              "      <th>Dummy classifier</th>\n",
              "      <td>0.967755</td>\n",
              "      <td>0.50000</td>\n",
              "    </tr>\n",
              "    <tr>\n",
              "      <th>Logistic regression</th>\n",
              "      <td>0.970125</td>\n",
              "      <td>0.56213</td>\n",
              "    </tr>\n",
              "    <tr>\n",
              "      <th>Random forest</th>\n",
              "      <td>0.970594</td>\n",
              "      <td>0.62756</td>\n",
              "    </tr>\n",
              "    <tr>\n",
              "      <th>Logistic regression with balanced class weights</th>\n",
              "      <td>0.800849</td>\n",
              "      <td>0.81785</td>\n",
              "    </tr>\n",
              "  </tbody>\n",
              "</table>\n",
              "</div>"
            ],
            "text/plain": [
              "                                                 Accuracy  Balanced accuracy\n",
              "Dummy classifier                                 0.967755            0.50000\n",
              "Logistic regression                              0.970125            0.56213\n",
              "Random forest                                    0.970594            0.62756\n",
              "Logistic regression with balanced class weights  0.800849            0.81785"
            ]
          },
          "metadata": {
            "tags": []
          },
          "execution_count": 67
        }
      ]
    },
    {
      "cell_type": "code",
      "metadata": {
        "colab": {
          "base_uri": "https://localhost:8080/",
          "height": 203
        },
        "id": "A4jfurmQmaxO",
        "outputId": "0cb0c87a-d437-4bb4-fa99-721fa5a9f48f"
      },
      "source": [
        "rf_clf.set_params(randomforestclassifier__class_weight=\"balanced\")\n",
        "\n",
        "index += [\"Random forest with balanced class weights\"]\n",
        "cv_result = cross_validate(rf_clf, df_res, y_res, scoring=scoring)\n",
        "scores[\"Accuracy\"].append(cv_result[\"test_accuracy\"].mean())\n",
        "scores[\"Balanced accuracy\"].append(cv_result[\"test_balanced_accuracy\"].mean())\n",
        "\n",
        "df_scores = pd.DataFrame(scores, index=index)\n",
        "df_scores"
      ],
      "execution_count": 68,
      "outputs": [
        {
          "output_type": "execute_result",
          "data": {
            "text/html": [
              "<div>\n",
              "<style scoped>\n",
              "    .dataframe tbody tr th:only-of-type {\n",
              "        vertical-align: middle;\n",
              "    }\n",
              "\n",
              "    .dataframe tbody tr th {\n",
              "        vertical-align: top;\n",
              "    }\n",
              "\n",
              "    .dataframe thead th {\n",
              "        text-align: right;\n",
              "    }\n",
              "</style>\n",
              "<table border=\"1\" class=\"dataframe\">\n",
              "  <thead>\n",
              "    <tr style=\"text-align: right;\">\n",
              "      <th></th>\n",
              "      <th>Accuracy</th>\n",
              "      <th>Balanced accuracy</th>\n",
              "    </tr>\n",
              "  </thead>\n",
              "  <tbody>\n",
              "    <tr>\n",
              "      <th>Dummy classifier</th>\n",
              "      <td>0.967755</td>\n",
              "      <td>0.500000</td>\n",
              "    </tr>\n",
              "    <tr>\n",
              "      <th>Logistic regression</th>\n",
              "      <td>0.970125</td>\n",
              "      <td>0.562130</td>\n",
              "    </tr>\n",
              "    <tr>\n",
              "      <th>Random forest</th>\n",
              "      <td>0.970594</td>\n",
              "      <td>0.627560</td>\n",
              "    </tr>\n",
              "    <tr>\n",
              "      <th>Logistic regression with balanced class weights</th>\n",
              "      <td>0.800849</td>\n",
              "      <td>0.817850</td>\n",
              "    </tr>\n",
              "    <tr>\n",
              "      <th>Random forest with balanced class weights</th>\n",
              "      <td>0.963561</td>\n",
              "      <td>0.627059</td>\n",
              "    </tr>\n",
              "  </tbody>\n",
              "</table>\n",
              "</div>"
            ],
            "text/plain": [
              "                                                 Accuracy  Balanced accuracy\n",
              "Dummy classifier                                 0.967755           0.500000\n",
              "Logistic regression                              0.970125           0.562130\n",
              "Random forest                                    0.970594           0.627560\n",
              "Logistic regression with balanced class weights  0.800849           0.817850\n",
              "Random forest with balanced class weights        0.963561           0.627059"
            ]
          },
          "metadata": {
            "tags": []
          },
          "execution_count": 68
        }
      ]
    },
    {
      "cell_type": "markdown",
      "metadata": {
        "id": "nhFqwfDNmaxP"
      },
      "source": [
        "We can see that **using `class_weight` was really effective for the linear\n",
        "model, alleviating the issue of learning from imbalanced classes**. However,\n",
        "the :class:`~sklearn.ensemble.RandomForestClassifier` is still biased toward\n",
        "the majority class, mainly due to the criterion which is not suited enough to\n",
        "fight the class imbalance.\n",
        "\n",
        "**对Linear model的影响效果更大，对random forest model的反而不起什么作用。**\n",
        "\n",
        "\n",
        "### Resample the training set during learning (oversampling ^ undersampling)\n",
        "\n",
        "Another way is to resample the training set by **single** under-sampling or\n",
        "over-sampling some of the samples. `imbalanced-learn` provides some samplers\n",
        "to do such processing.\n",
        "\n"
      ]
    },
    {
      "cell_type": "code",
      "metadata": {
        "id": "SU33RKPYmaxP"
      },
      "source": [
        "from imblearn.pipeline import make_pipeline as make_pipeline_with_sampler\n",
        "from imblearn.under_sampling import RandomUnderSampler\n",
        "\n",
        "lr_clf = make_pipeline_with_sampler(\n",
        "    preprocessor_linear,\n",
        "    RandomUnderSampler(random_state=42),\n",
        "    LogisticRegression(max_iter=1000),\n",
        ")"
      ],
      "execution_count": 69,
      "outputs": []
    },
    {
      "cell_type": "code",
      "metadata": {
        "colab": {
          "base_uri": "https://localhost:8080/",
          "height": 233
        },
        "id": "2m0xVLNkmaxP",
        "outputId": "9236e657-0ed9-4bf8-adf5-84fbbe0c590a"
      },
      "source": [
        "index += [\"Under-sampling + Logistic regression\"]\n",
        "cv_result = cross_validate(lr_clf, df_res, y_res, scoring=scoring)\n",
        "scores[\"Accuracy\"].append(cv_result[\"test_accuracy\"].mean())\n",
        "scores[\"Balanced accuracy\"].append(cv_result[\"test_balanced_accuracy\"].mean())\n",
        "\n",
        "df_scores = pd.DataFrame(scores, index=index)\n",
        "df_scores"
      ],
      "execution_count": 70,
      "outputs": [
        {
          "output_type": "execute_result",
          "data": {
            "text/html": [
              "<div>\n",
              "<style scoped>\n",
              "    .dataframe tbody tr th:only-of-type {\n",
              "        vertical-align: middle;\n",
              "    }\n",
              "\n",
              "    .dataframe tbody tr th {\n",
              "        vertical-align: top;\n",
              "    }\n",
              "\n",
              "    .dataframe thead th {\n",
              "        text-align: right;\n",
              "    }\n",
              "</style>\n",
              "<table border=\"1\" class=\"dataframe\">\n",
              "  <thead>\n",
              "    <tr style=\"text-align: right;\">\n",
              "      <th></th>\n",
              "      <th>Accuracy</th>\n",
              "      <th>Balanced accuracy</th>\n",
              "    </tr>\n",
              "  </thead>\n",
              "  <tbody>\n",
              "    <tr>\n",
              "      <th>Dummy classifier</th>\n",
              "      <td>0.967755</td>\n",
              "      <td>0.500000</td>\n",
              "    </tr>\n",
              "    <tr>\n",
              "      <th>Logistic regression</th>\n",
              "      <td>0.970125</td>\n",
              "      <td>0.562130</td>\n",
              "    </tr>\n",
              "    <tr>\n",
              "      <th>Random forest</th>\n",
              "      <td>0.970594</td>\n",
              "      <td>0.627560</td>\n",
              "    </tr>\n",
              "    <tr>\n",
              "      <th>Logistic regression with balanced class weights</th>\n",
              "      <td>0.800849</td>\n",
              "      <td>0.817850</td>\n",
              "    </tr>\n",
              "    <tr>\n",
              "      <th>Random forest with balanced class weights</th>\n",
              "      <td>0.963561</td>\n",
              "      <td>0.627059</td>\n",
              "    </tr>\n",
              "    <tr>\n",
              "      <th>Under-sampling + Logistic regression</th>\n",
              "      <td>0.794624</td>\n",
              "      <td>0.818145</td>\n",
              "    </tr>\n",
              "  </tbody>\n",
              "</table>\n",
              "</div>"
            ],
            "text/plain": [
              "                                                 Accuracy  Balanced accuracy\n",
              "Dummy classifier                                 0.967755           0.500000\n",
              "Logistic regression                              0.970125           0.562130\n",
              "Random forest                                    0.970594           0.627560\n",
              "Logistic regression with balanced class weights  0.800849           0.817850\n",
              "Random forest with balanced class weights        0.963561           0.627059\n",
              "Under-sampling + Logistic regression             0.794624           0.818145"
            ]
          },
          "metadata": {
            "tags": []
          },
          "execution_count": 70
        }
      ]
    },
    {
      "cell_type": "code",
      "metadata": {
        "id": "Ia1W8OC2maxP"
      },
      "source": [
        "rf_clf = make_pipeline_with_sampler(\n",
        "    preprocessor_tree,\n",
        "    RandomUnderSampler(random_state=42),\n",
        "    RandomForestClassifier(random_state=42, n_jobs=2),\n",
        ")"
      ],
      "execution_count": 71,
      "outputs": []
    },
    {
      "cell_type": "code",
      "metadata": {
        "colab": {
          "base_uri": "https://localhost:8080/",
          "height": 264
        },
        "id": "ZPU4SA1KmaxP",
        "outputId": "11bf874b-bef7-4983-902f-bf14ded0d1f6"
      },
      "source": [
        "index += [\"Under-sampling + Random forest\"]\n",
        "cv_result = cross_validate(rf_clf, df_res, y_res, scoring=scoring)\n",
        "scores[\"Accuracy\"].append(cv_result[\"test_accuracy\"].mean())\n",
        "scores[\"Balanced accuracy\"].append(cv_result[\"test_balanced_accuracy\"].mean())\n",
        "\n",
        "df_scores = pd.DataFrame(scores, index=index)\n",
        "df_scores"
      ],
      "execution_count": 72,
      "outputs": [
        {
          "output_type": "execute_result",
          "data": {
            "text/html": [
              "<div>\n",
              "<style scoped>\n",
              "    .dataframe tbody tr th:only-of-type {\n",
              "        vertical-align: middle;\n",
              "    }\n",
              "\n",
              "    .dataframe tbody tr th {\n",
              "        vertical-align: top;\n",
              "    }\n",
              "\n",
              "    .dataframe thead th {\n",
              "        text-align: right;\n",
              "    }\n",
              "</style>\n",
              "<table border=\"1\" class=\"dataframe\">\n",
              "  <thead>\n",
              "    <tr style=\"text-align: right;\">\n",
              "      <th></th>\n",
              "      <th>Accuracy</th>\n",
              "      <th>Balanced accuracy</th>\n",
              "    </tr>\n",
              "  </thead>\n",
              "  <tbody>\n",
              "    <tr>\n",
              "      <th>Dummy classifier</th>\n",
              "      <td>0.967755</td>\n",
              "      <td>0.500000</td>\n",
              "    </tr>\n",
              "    <tr>\n",
              "      <th>Logistic regression</th>\n",
              "      <td>0.970125</td>\n",
              "      <td>0.562130</td>\n",
              "    </tr>\n",
              "    <tr>\n",
              "      <th>Random forest</th>\n",
              "      <td>0.970594</td>\n",
              "      <td>0.627560</td>\n",
              "    </tr>\n",
              "    <tr>\n",
              "      <th>Logistic regression with balanced class weights</th>\n",
              "      <td>0.800849</td>\n",
              "      <td>0.817850</td>\n",
              "    </tr>\n",
              "    <tr>\n",
              "      <th>Random forest with balanced class weights</th>\n",
              "      <td>0.963561</td>\n",
              "      <td>0.627059</td>\n",
              "    </tr>\n",
              "    <tr>\n",
              "      <th>Under-sampling + Logistic regression</th>\n",
              "      <td>0.794624</td>\n",
              "      <td>0.818145</td>\n",
              "    </tr>\n",
              "    <tr>\n",
              "      <th>Under-sampling + Random forest</th>\n",
              "      <td>0.793374</td>\n",
              "      <td>0.807355</td>\n",
              "    </tr>\n",
              "  </tbody>\n",
              "</table>\n",
              "</div>"
            ],
            "text/plain": [
              "                                                 Accuracy  Balanced accuracy\n",
              "Dummy classifier                                 0.967755           0.500000\n",
              "Logistic regression                              0.970125           0.562130\n",
              "Random forest                                    0.970594           0.627560\n",
              "Logistic regression with balanced class weights  0.800849           0.817850\n",
              "Random forest with balanced class weights        0.963561           0.627059\n",
              "Under-sampling + Logistic regression             0.794624           0.818145\n",
              "Under-sampling + Random forest                   0.793374           0.807355"
            ]
          },
          "metadata": {
            "tags": []
          },
          "execution_count": 72
        }
      ]
    },
    {
      "cell_type": "markdown",
      "metadata": {
        "id": "aEZGR3tdmaxQ"
      },
      "source": [
        "**Applying a random under-sampler before the training of the linear model or\n",
        "random forest, allows to not focus on the majority class at the cost of\n",
        "making more mistake for samples in the majority class (i.e. decreased\n",
        "accuracy)**.\n",
        "\n",
        "We could apply any type of samplers and find which sampler is working best\n",
        "on the current dataset.\n",
        "\n",
        "Instead, we will present another way by using classifiers which will apply\n",
        "sampling internally.\n",
        "\n",
        "### Use of specific balanced algorithms from imbalanced-learn\n",
        "\n",
        "We already showed that random under-sampling can be effective on decision\n",
        "tree. However, instead of under-sampling **once** the dataset, one could\n",
        "under-sample the original dataset before to take a bootstrap sample. This is\n",
        "the base of the :class:`imblearn.ensemble.BalancedRandomForestClassifier` and\n",
        ":class:`~imblearn.ensemble.BalancedBaggingClassifier`.\n",
        "\n"
      ]
    },
    {
      "cell_type": "code",
      "metadata": {
        "id": "c0ocsN_xmaxQ"
      },
      "source": [
        "from imblearn.ensemble import BalancedRandomForestClassifier\n",
        "\n",
        "rf_clf = make_pipeline(\n",
        "    preprocessor_tree,\n",
        "    BalancedRandomForestClassifier(random_state=42, n_jobs=2),\n",
        ")"
      ],
      "execution_count": 73,
      "outputs": []
    },
    {
      "cell_type": "code",
      "metadata": {
        "colab": {
          "base_uri": "https://localhost:8080/",
          "height": 295
        },
        "id": "Lm2efMvpmaxQ",
        "outputId": "d48dce26-e049-4305-b0b9-675580445ed7"
      },
      "source": [
        "index += [\"Balanced random forest\"]\n",
        "cv_result = cross_validate(rf_clf, df_res, y_res, scoring=scoring)\n",
        "scores[\"Accuracy\"].append(cv_result[\"test_accuracy\"].mean())\n",
        "scores[\"Balanced accuracy\"].append(cv_result[\"test_balanced_accuracy\"].mean())\n",
        "\n",
        "df_scores = pd.DataFrame(scores, index=index)\n",
        "df_scores"
      ],
      "execution_count": 74,
      "outputs": [
        {
          "output_type": "execute_result",
          "data": {
            "text/html": [
              "<div>\n",
              "<style scoped>\n",
              "    .dataframe tbody tr th:only-of-type {\n",
              "        vertical-align: middle;\n",
              "    }\n",
              "\n",
              "    .dataframe tbody tr th {\n",
              "        vertical-align: top;\n",
              "    }\n",
              "\n",
              "    .dataframe thead th {\n",
              "        text-align: right;\n",
              "    }\n",
              "</style>\n",
              "<table border=\"1\" class=\"dataframe\">\n",
              "  <thead>\n",
              "    <tr style=\"text-align: right;\">\n",
              "      <th></th>\n",
              "      <th>Accuracy</th>\n",
              "      <th>Balanced accuracy</th>\n",
              "    </tr>\n",
              "  </thead>\n",
              "  <tbody>\n",
              "    <tr>\n",
              "      <th>Dummy classifier</th>\n",
              "      <td>0.967755</td>\n",
              "      <td>0.500000</td>\n",
              "    </tr>\n",
              "    <tr>\n",
              "      <th>Logistic regression</th>\n",
              "      <td>0.970125</td>\n",
              "      <td>0.562130</td>\n",
              "    </tr>\n",
              "    <tr>\n",
              "      <th>Random forest</th>\n",
              "      <td>0.970594</td>\n",
              "      <td>0.627560</td>\n",
              "    </tr>\n",
              "    <tr>\n",
              "      <th>Logistic regression with balanced class weights</th>\n",
              "      <td>0.800849</td>\n",
              "      <td>0.817850</td>\n",
              "    </tr>\n",
              "    <tr>\n",
              "      <th>Random forest with balanced class weights</th>\n",
              "      <td>0.963561</td>\n",
              "      <td>0.627059</td>\n",
              "    </tr>\n",
              "    <tr>\n",
              "      <th>Under-sampling + Logistic regression</th>\n",
              "      <td>0.794624</td>\n",
              "      <td>0.818145</td>\n",
              "    </tr>\n",
              "    <tr>\n",
              "      <th>Under-sampling + Random forest</th>\n",
              "      <td>0.793374</td>\n",
              "      <td>0.807355</td>\n",
              "    </tr>\n",
              "    <tr>\n",
              "      <th>Balanced random forest</th>\n",
              "      <td>0.787591</td>\n",
              "      <td>0.819588</td>\n",
              "    </tr>\n",
              "  </tbody>\n",
              "</table>\n",
              "</div>"
            ],
            "text/plain": [
              "                                                 Accuracy  Balanced accuracy\n",
              "Dummy classifier                                 0.967755           0.500000\n",
              "Logistic regression                              0.970125           0.562130\n",
              "Random forest                                    0.970594           0.627560\n",
              "Logistic regression with balanced class weights  0.800849           0.817850\n",
              "Random forest with balanced class weights        0.963561           0.627059\n",
              "Under-sampling + Logistic regression             0.794624           0.818145\n",
              "Under-sampling + Random forest                   0.793374           0.807355\n",
              "Balanced random forest                           0.787591           0.819588"
            ]
          },
          "metadata": {
            "tags": []
          },
          "execution_count": 74
        }
      ]
    },
    {
      "cell_type": "markdown",
      "metadata": {
        "id": "dXCiquJBmaxR"
      },
      "source": [
        "The performance with the\n",
        ":class:`~imblearn.ensemble.BalancedRandomForestClassifier` is better than\n",
        "applying a single random under-sampling. We will use a gradient-boosting\n",
        "classifier within a :class:`~imblearn.ensemble.BalancedBaggingClassifier`.\n",
        "\n"
      ]
    },
    {
      "cell_type": "code",
      "metadata": {
        "colab": {
          "base_uri": "https://localhost:8080/",
          "height": 326
        },
        "id": "po-NECofmaxR",
        "outputId": "e75396d2-d2d8-40e2-dedb-f6c9e828249f"
      },
      "source": [
        "from sklearn.experimental import enable_hist_gradient_boosting  # noqa\n",
        "from sklearn.ensemble import HistGradientBoostingClassifier\n",
        "from imblearn.ensemble import BalancedBaggingClassifier\n",
        "\n",
        "bag_clf = make_pipeline(\n",
        "    preprocessor_tree,\n",
        "    BalancedBaggingClassifier(\n",
        "        base_estimator=HistGradientBoostingClassifier(random_state=42),\n",
        "        n_estimators=10,\n",
        "        random_state=42,\n",
        "        n_jobs=2,\n",
        "    ),\n",
        ")\n",
        "\n",
        "index += [\"Balanced bag of histogram gradient boosting\"]\n",
        "cv_result = cross_validate(bag_clf, df_res, y_res, scoring=scoring)\n",
        "scores[\"Accuracy\"].append(cv_result[\"test_accuracy\"].mean())\n",
        "scores[\"Balanced accuracy\"].append(cv_result[\"test_balanced_accuracy\"].mean())\n",
        "\n",
        "df_scores = pd.DataFrame(scores, index=index)\n",
        "df_scores"
      ],
      "execution_count": 75,
      "outputs": [
        {
          "output_type": "execute_result",
          "data": {
            "text/html": [
              "<div>\n",
              "<style scoped>\n",
              "    .dataframe tbody tr th:only-of-type {\n",
              "        vertical-align: middle;\n",
              "    }\n",
              "\n",
              "    .dataframe tbody tr th {\n",
              "        vertical-align: top;\n",
              "    }\n",
              "\n",
              "    .dataframe thead th {\n",
              "        text-align: right;\n",
              "    }\n",
              "</style>\n",
              "<table border=\"1\" class=\"dataframe\">\n",
              "  <thead>\n",
              "    <tr style=\"text-align: right;\">\n",
              "      <th></th>\n",
              "      <th>Accuracy</th>\n",
              "      <th>Balanced accuracy</th>\n",
              "    </tr>\n",
              "  </thead>\n",
              "  <tbody>\n",
              "    <tr>\n",
              "      <th>Dummy classifier</th>\n",
              "      <td>0.967755</td>\n",
              "      <td>0.500000</td>\n",
              "    </tr>\n",
              "    <tr>\n",
              "      <th>Logistic regression</th>\n",
              "      <td>0.970125</td>\n",
              "      <td>0.562130</td>\n",
              "    </tr>\n",
              "    <tr>\n",
              "      <th>Random forest</th>\n",
              "      <td>0.970594</td>\n",
              "      <td>0.627560</td>\n",
              "    </tr>\n",
              "    <tr>\n",
              "      <th>Logistic regression with balanced class weights</th>\n",
              "      <td>0.800849</td>\n",
              "      <td>0.817850</td>\n",
              "    </tr>\n",
              "    <tr>\n",
              "      <th>Random forest with balanced class weights</th>\n",
              "      <td>0.963561</td>\n",
              "      <td>0.627059</td>\n",
              "    </tr>\n",
              "    <tr>\n",
              "      <th>Under-sampling + Logistic regression</th>\n",
              "      <td>0.794624</td>\n",
              "      <td>0.818145</td>\n",
              "    </tr>\n",
              "    <tr>\n",
              "      <th>Under-sampling + Random forest</th>\n",
              "      <td>0.793374</td>\n",
              "      <td>0.807355</td>\n",
              "    </tr>\n",
              "    <tr>\n",
              "      <th>Balanced random forest</th>\n",
              "      <td>0.787591</td>\n",
              "      <td>0.819588</td>\n",
              "    </tr>\n",
              "    <tr>\n",
              "      <th>Balanced bag of histogram gradient boosting</th>\n",
              "      <td>0.835491</td>\n",
              "      <td>0.822470</td>\n",
              "    </tr>\n",
              "  </tbody>\n",
              "</table>\n",
              "</div>"
            ],
            "text/plain": [
              "                                                 Accuracy  Balanced accuracy\n",
              "Dummy classifier                                 0.967755           0.500000\n",
              "Logistic regression                              0.970125           0.562130\n",
              "Random forest                                    0.970594           0.627560\n",
              "Logistic regression with balanced class weights  0.800849           0.817850\n",
              "Random forest with balanced class weights        0.963561           0.627059\n",
              "Under-sampling + Logistic regression             0.794624           0.818145\n",
              "Under-sampling + Random forest                   0.793374           0.807355\n",
              "Balanced random forest                           0.787591           0.819588\n",
              "Balanced bag of histogram gradient boosting      0.835491           0.822470"
            ]
          },
          "metadata": {
            "tags": []
          },
          "execution_count": 75
        }
      ]
    },
    {
      "cell_type": "markdown",
      "metadata": {
        "id": "_0203ltbmaxR"
      },
      "source": [
        "This last approach is the most effective. The different under-sampling allows\n",
        "to bring some diversity for the different GBDT to learn and not focus on a\n",
        "portion of the majority class.\n",
        "\n"
      ]
    },
    {
      "cell_type": "code",
      "metadata": {
        "id": "-N3BtdirnHup"
      },
      "source": [
        ""
      ],
      "execution_count": 75,
      "outputs": []
    },
    {
      "cell_type": "markdown",
      "metadata": {
        "id": "OoWbNTWZkXtX"
      },
      "source": [
        "# Imbalanced Learning w/o Pipeline"
      ]
    },
    {
      "cell_type": "markdown",
      "metadata": {
        "id": "JFvZOcq29p69"
      },
      "source": [
        "## 简单的oversampling和undersampling"
      ]
    },
    {
      "cell_type": "code",
      "metadata": {
        "id": "XIL77yv1kaDq"
      },
      "source": [
        "from imblearn.datasets import fetch_datasets\n",
        "from sklearn.model_selection import train_test_split\n",
        "\n",
        "\n",
        "thyroid_sick = fetch_datasets()['thyroid_sick']"
      ],
      "execution_count": 76,
      "outputs": []
    },
    {
      "cell_type": "code",
      "metadata": {
        "id": "e8I2y2NEkaBK"
      },
      "source": [
        "X = thyroid_sick.data \n",
        "y = thyroid_sick.target\n",
        "\n",
        "X_train, X_test, y_train, y_test = train_test_split(\n",
        "    X, \n",
        "    y,\n",
        "    test_size = 0.3,\n",
        "    stratify = y,\n",
        "    random_state = 4\n",
        ")"
      ],
      "execution_count": 77,
      "outputs": []
    },
    {
      "cell_type": "code",
      "metadata": {
        "id": "nsBrMC2_lwEp"
      },
      "source": [
        "# implement undersampling and oversampling for TRAINING data\n",
        "\n",
        "from imblearn.over_sampling import RandomOverSampler\n",
        "from imblearn.under_sampling import RandomUnderSampler\n",
        "\n",
        "ros_under = RandomUnderSampler(random_state=4)\n",
        "ros_over = RandomOverSampler(random_state=4)\n"
      ],
      "execution_count": 78,
      "outputs": []
    },
    {
      "cell_type": "code",
      "metadata": {
        "id": "FqZDZbej-PPF"
      },
      "source": [
        "X_train_undersample, y_train_undersample = ros_under.fit_resample(\n",
        "    X_train,\n",
        "    y_train\n",
        ")"
      ],
      "execution_count": 79,
      "outputs": []
    },
    {
      "cell_type": "code",
      "metadata": {
        "colab": {
          "base_uri": "https://localhost:8080/",
          "height": 453
        },
        "id": "biq5AEM2lwAk",
        "outputId": "10949e73-feaf-4837-d0dc-9de5fa01fbb7"
      },
      "source": [
        "from sklearn.linear_model import LogisticRegression\n",
        "from sklearn.metrics import plot_confusion_matrix\n",
        "import seaborn as sns\n",
        "\n",
        "clf = LogisticRegression().fit(X_train, y_train)\n",
        "y_pred = clf.predict(X_test)\n",
        "\n",
        "sns.set_context('poster')\n",
        "\n",
        "disp = plot_confusion_matrix(clf, X_test, y_test, cmap = 'cividis', colorbar = False)\n"
      ],
      "execution_count": 80,
      "outputs": [
        {
          "output_type": "stream",
          "text": [
            "/usr/local/lib/python3.7/dist-packages/sklearn/linear_model/_logistic.py:765: ConvergenceWarning: lbfgs failed to converge (status=1):\n",
            "STOP: TOTAL NO. of ITERATIONS REACHED LIMIT.\n",
            "\n",
            "Increase the number of iterations (max_iter) or scale the data as shown in:\n",
            "    https://scikit-learn.org/stable/modules/preprocessing.html\n",
            "Please also refer to the documentation for alternative solver options:\n",
            "    https://scikit-learn.org/stable/modules/linear_model.html#logistic-regression\n",
            "  extra_warning_msg=_LOGISTIC_SOLVER_CONVERGENCE_MSG)\n"
          ],
          "name": "stderr"
        },
        {
          "output_type": "display_data",
          "data": {
            "image/png": "[encoded data removed]",
            "text/plain": [
              "<Figure size 432x288 with 1 Axes>"
            ]
          },
          "metadata": {
            "tags": [],
            "needs_background": "light"
          }
        }
      ]
    },
    {
      "cell_type": "code",
      "metadata": {
        "id": "WTc577EZ-NqM"
      },
      "source": [
        "X_train_oversample, y_train_oversample = ros_over.fit_resample(\n",
        "    X_train,\n",
        "    y_train\n",
        ")"
      ],
      "execution_count": 81,
      "outputs": []
    },
    {
      "cell_type": "code",
      "metadata": {
        "colab": {
          "base_uri": "https://localhost:8080/",
          "height": 453
        },
        "id": "lQbouKWdlv9_",
        "outputId": "51fb6f1d-5f4d-4c9e-b45a-b487ce8e759a"
      },
      "source": [
        "from sklearn.linear_model import LogisticRegression\n",
        "from sklearn.metrics import plot_confusion_matrix\n",
        "import seaborn as sns\n",
        "\n",
        "clf = LogisticRegression().fit(X_train_undersample, y_train_undersample)\n",
        "y_pred = clf.predict(X_test)\n",
        "\n",
        "sns.set_context('poster')\n",
        "\n",
        "disp = plot_confusion_matrix(clf, X_test, y_test, cmap = 'cividis', colorbar = False)\n"
      ],
      "execution_count": 82,
      "outputs": [
        {
          "output_type": "stream",
          "text": [
            "/usr/local/lib/python3.7/dist-packages/sklearn/linear_model/_logistic.py:765: ConvergenceWarning: lbfgs failed to converge (status=1):\n",
            "STOP: TOTAL NO. of ITERATIONS REACHED LIMIT.\n",
            "\n",
            "Increase the number of iterations (max_iter) or scale the data as shown in:\n",
            "    https://scikit-learn.org/stable/modules/preprocessing.html\n",
            "Please also refer to the documentation for alternative solver options:\n",
            "    https://scikit-learn.org/stable/modules/linear_model.html#logistic-regression\n",
            "  extra_warning_msg=_LOGISTIC_SOLVER_CONVERGENCE_MSG)\n"
          ],
          "name": "stderr"
        },
        {
          "output_type": "display_data",
          "data": {
            "image/png": "[encoded data removed]",
            "text/plain": [
              "<Figure size 432x288 with 1 Axes>"
            ]
          },
          "metadata": {
            "tags": [],
            "needs_background": "light"
          }
        }
      ]
    },
    {
      "cell_type": "code",
      "metadata": {
        "colab": {
          "base_uri": "https://localhost:8080/",
          "height": 453
        },
        "id": "MeQcgKaglv7i",
        "outputId": "4b34a5e5-bd32-431a-e256-75dff073882d"
      },
      "source": [
        "from sklearn.linear_model import LogisticRegression\n",
        "from sklearn.metrics import plot_confusion_matrix\n",
        "import seaborn as sns\n",
        "\n",
        "clf = LogisticRegression().fit(X_train_oversample, y_train_oversample)\n",
        "y_pred = clf.predict(X_test)\n",
        "\n",
        "sns.set_context('poster')\n",
        "\n",
        "disp = plot_confusion_matrix(clf, X_test, y_test, cmap = 'cividis', colorbar = False)\n"
      ],
      "execution_count": 83,
      "outputs": [
        {
          "output_type": "stream",
          "text": [
            "/usr/local/lib/python3.7/dist-packages/sklearn/linear_model/_logistic.py:765: ConvergenceWarning: lbfgs failed to converge (status=1):\n",
            "STOP: TOTAL NO. of ITERATIONS REACHED LIMIT.\n",
            "\n",
            "Increase the number of iterations (max_iter) or scale the data as shown in:\n",
            "    https://scikit-learn.org/stable/modules/preprocessing.html\n",
            "Please also refer to the documentation for alternative solver options:\n",
            "    https://scikit-learn.org/stable/modules/linear_model.html#logistic-regression\n",
            "  extra_warning_msg=_LOGISTIC_SOLVER_CONVERGENCE_MSG)\n"
          ],
          "name": "stderr"
        },
        {
          "output_type": "display_data",
          "data": {
            "image/png": "[encoded data removed]",
            "text/plain": [
              "<Figure size 432x288 with 1 Axes>"
            ]
          },
          "metadata": {
            "tags": [],
            "needs_background": "light"
          }
        }
      ]
    },
    {
      "cell_type": "markdown",
      "metadata": {
        "id": "18I6AjH89uuJ"
      },
      "source": [
        "## SMOTE (oversampling的一种)"
      ]
    },
    {
      "cell_type": "code",
      "metadata": {
        "id": "21ujbtgglv4-"
      },
      "source": [
        "from imblearn.over_sampling import SMOTE\n",
        "\n",
        "smote = SMOTE()\n",
        "\n",
        "X_train_smote, y_train_smote = smote.fit_resample(\n",
        "    X_train,\n",
        "    y_train\n",
        ")\n"
      ],
      "execution_count": 84,
      "outputs": []
    },
    {
      "cell_type": "code",
      "metadata": {
        "id": "8zADexi3lv13",
        "colab": {
          "base_uri": "https://localhost:8080/",
          "height": 450
        },
        "outputId": "53372636-cdd2-4d71-9bb9-8c4d020fa19b"
      },
      "source": [
        "from sklearn.linear_model import LogisticRegression\n",
        "from sklearn.metrics import plot_confusion_matrix\n",
        "import seaborn as sns\n",
        "\n",
        "clf = LogisticRegression().fit(X_train_smote, y_train_smote)\n",
        "y_pred = clf.predict(X_test)\n",
        "\n",
        "sns.set_context('poster')\n",
        "\n",
        "disp = plot_confusion_matrix(clf, X_test, y_test, cmap = 'cividis', colorbar = False)\n"
      ],
      "execution_count": 85,
      "outputs": [
        {
          "output_type": "stream",
          "text": [
            "/usr/local/lib/python3.7/dist-packages/sklearn/linear_model/_logistic.py:765: ConvergenceWarning: lbfgs failed to converge (status=1):\n",
            "STOP: TOTAL NO. of ITERATIONS REACHED LIMIT.\n",
            "\n",
            "Increase the number of iterations (max_iter) or scale the data as shown in:\n",
            "    https://scikit-learn.org/stable/modules/preprocessing.html\n",
            "Please also refer to the documentation for alternative solver options:\n",
            "    https://scikit-learn.org/stable/modules/linear_model.html#logistic-regression\n",
            "  extra_warning_msg=_LOGISTIC_SOLVER_CONVERGENCE_MSG)\n"
          ],
          "name": "stderr"
        },
        {
          "output_type": "display_data",
          "data": {
            "image/png": "[encoded data removed]",
            "text/plain": [
              "<Figure size 432x288 with 1 Axes>"
            ]
          },
          "metadata": {
            "tags": [],
            "needs_background": "light"
          }
        }
      ]
    },
    {
      "cell_type": "markdown",
      "metadata": {
        "id": "cGrrZZqK9zlQ"
      },
      "source": [
        "## Prototype Generation"
      ]
    },
    {
      "cell_type": "code",
      "metadata": {
        "id": "EcAZ7sKUlvy3"
      },
      "source": [
        "from imblearn.under_sampling import ClusterCentroids\n",
        "\n",
        "cc = ClusterCentroids(random_state = 0)\n",
        "\n",
        "X_train_cc, y_train_cc = cc.fit_resample(\n",
        "    X_train,\n",
        "    y_train\n",
        ")"
      ],
      "execution_count": 86,
      "outputs": []
    },
    {
      "cell_type": "code",
      "metadata": {
        "id": "fQkM4ph9kZ7U",
        "colab": {
          "base_uri": "https://localhost:8080/",
          "height": 450
        },
        "outputId": "e15a19cc-7a08-4556-d601-075dd7d37d89"
      },
      "source": [
        "from sklearn.linear_model import LogisticRegression\n",
        "from sklearn.metrics import plot_confusion_matrix\n",
        "import seaborn as sns\n",
        "\n",
        "clf = LogisticRegression().fit(X_train_cc, y_train_cc)\n",
        "y_pred = clf.predict(X_test)\n",
        "\n",
        "sns.set_context('poster')\n",
        "\n",
        "disp = plot_confusion_matrix(clf, X_test, y_test, cmap = 'cividis', colorbar = False)\n"
      ],
      "execution_count": 87,
      "outputs": [
        {
          "output_type": "stream",
          "text": [
            "/usr/local/lib/python3.7/dist-packages/sklearn/linear_model/_logistic.py:765: ConvergenceWarning: lbfgs failed to converge (status=1):\n",
            "STOP: TOTAL NO. of ITERATIONS REACHED LIMIT.\n",
            "\n",
            "Increase the number of iterations (max_iter) or scale the data as shown in:\n",
            "    https://scikit-learn.org/stable/modules/preprocessing.html\n",
            "Please also refer to the documentation for alternative solver options:\n",
            "    https://scikit-learn.org/stable/modules/linear_model.html#logistic-regression\n",
            "  extra_warning_msg=_LOGISTIC_SOLVER_CONVERGENCE_MSG)\n"
          ],
          "name": "stderr"
        },
        {
          "output_type": "display_data",
          "data": {
            "image/png": "[encoded data removed]",
            "text/plain": [
              "<Figure size 432x288 with 1 Axes>"
            ]
          },
          "metadata": {
            "tags": [],
            "needs_background": "light"
          }
        }
      ]
    },
    {
      "cell_type": "markdown",
      "metadata": {
        "id": "lI2oALteNENF"
      },
      "source": [
        "## Ensemble Learning - Bagging & BalancedBagging"
      ]
    },
    {
      "cell_type": "code",
      "metadata": {
        "id": "dQxkSqB-kZ4f"
      },
      "source": [
        "from sklearn.ensemble import BaggingClassifier\n",
        "from imblearn.ensemble import BalancedBaggingClassifier   # 比BaggingClassifier多了一步balancing training set的步骤\n",
        "from imblearn.over_sampling import SMOTE\n",
        "\n",
        "smote = SMOTE()\n",
        "\n",
        "# X_train_resampled, y_train_resampled = smote.fit_resample(\n",
        "#     X_train,\n",
        "#     y_train\n",
        "# )\n",
        "\n",
        "X_train_resampled, y_train_resampled = X_train, y_train"
      ],
      "execution_count": 115,
      "outputs": []
    },
    {
      "cell_type": "code",
      "metadata": {
        "colab": {
          "base_uri": "https://localhost:8080/"
        },
        "id": "aKUZi_igPgJX",
        "outputId": "6c5ba8df-7ebc-4ce8-b146-4b83177883f3"
      },
      "source": [
        "X_train.shape, X_train_resampled.shape"
      ],
      "execution_count": 116,
      "outputs": [
        {
          "output_type": "execute_result",
          "data": {
            "text/plain": [
              "((2640, 52), (2640, 52))"
            ]
          },
          "metadata": {
            "tags": []
          },
          "execution_count": 116
        }
      ]
    },
    {
      "cell_type": "code",
      "metadata": {
        "colab": {
          "base_uri": "https://localhost:8080/",
          "height": 1000
        },
        "id": "OyCmSY7RNjsp",
        "outputId": "da45ea6d-6a70-47f4-bdd6-8b5fbdff73fd"
      },
      "source": [
        "clf = BaggingClassifier(base_estimator=LogisticRegression(),\n",
        "                                n_estimators = 10,\n",
        "                                random_state = 0).fit(X_train_resampled,\n",
        "                                                      y_train_resampled)\n",
        "\n",
        "\n",
        "y_pred = clf.predict(X_test)\n",
        "\n",
        "sns.set_context('poster')\n",
        "\n",
        "disp = plot_confusion_matrix(clf, X_test, y_test, cmap = 'cividis', colorbar = False)\n"
      ],
      "execution_count": 117,
      "outputs": [
        {
          "output_type": "stream",
          "text": [
            "/usr/local/lib/python3.7/dist-packages/sklearn/linear_model/_logistic.py:765: ConvergenceWarning: lbfgs failed to converge (status=1):\n",
            "STOP: TOTAL NO. of ITERATIONS REACHED LIMIT.\n",
            "\n",
            "Increase the number of iterations (max_iter) or scale the data as shown in:\n",
            "    https://scikit-learn.org/stable/modules/preprocessing.html\n",
            "Please also refer to the documentation for alternative solver options:\n",
            "    https://scikit-learn.org/stable/modules/linear_model.html#logistic-regression\n",
            "  extra_warning_msg=_LOGISTIC_SOLVER_CONVERGENCE_MSG)\n",
            "/usr/local/lib/python3.7/dist-packages/sklearn/linear_model/_logistic.py:765: ConvergenceWarning: lbfgs failed to converge (status=1):\n",
            "STOP: TOTAL NO. of ITERATIONS REACHED LIMIT.\n",
            "\n",
            "Increase the number of iterations (max_iter) or scale the data as shown in:\n",
            "    https://scikit-learn.org/stable/modules/preprocessing.html\n",
            "Please also refer to the documentation for alternative solver options:\n",
            "    https://scikit-learn.org/stable/modules/linear_model.html#logistic-regression\n",
            "  extra_warning_msg=_LOGISTIC_SOLVER_CONVERGENCE_MSG)\n",
            "/usr/local/lib/python3.7/dist-packages/sklearn/linear_model/_logistic.py:765: ConvergenceWarning: lbfgs failed to converge (status=1):\n",
            "STOP: TOTAL NO. of ITERATIONS REACHED LIMIT.\n",
            "\n",
            "Increase the number of iterations (max_iter) or scale the data as shown in:\n",
            "    https://scikit-learn.org/stable/modules/preprocessing.html\n",
            "Please also refer to the documentation for alternative solver options:\n",
            "    https://scikit-learn.org/stable/modules/linear_model.html#logistic-regression\n",
            "  extra_warning_msg=_LOGISTIC_SOLVER_CONVERGENCE_MSG)\n",
            "/usr/local/lib/python3.7/dist-packages/sklearn/linear_model/_logistic.py:765: ConvergenceWarning: lbfgs failed to converge (status=1):\n",
            "STOP: TOTAL NO. of ITERATIONS REACHED LIMIT.\n",
            "\n",
            "Increase the number of iterations (max_iter) or scale the data as shown in:\n",
            "    https://scikit-learn.org/stable/modules/preprocessing.html\n",
            "Please also refer to the documentation for alternative solver options:\n",
            "    https://scikit-learn.org/stable/modules/linear_model.html#logistic-regression\n",
            "  extra_warning_msg=_LOGISTIC_SOLVER_CONVERGENCE_MSG)\n",
            "/usr/local/lib/python3.7/dist-packages/sklearn/linear_model/_logistic.py:765: ConvergenceWarning: lbfgs failed to converge (status=1):\n",
            "STOP: TOTAL NO. of ITERATIONS REACHED LIMIT.\n",
            "\n",
            "Increase the number of iterations (max_iter) or scale the data as shown in:\n",
            "    https://scikit-learn.org/stable/modules/preprocessing.html\n",
            "Please also refer to the documentation for alternative solver options:\n",
            "    https://scikit-learn.org/stable/modules/linear_model.html#logistic-regression\n",
            "  extra_warning_msg=_LOGISTIC_SOLVER_CONVERGENCE_MSG)\n",
            "/usr/local/lib/python3.7/dist-packages/sklearn/linear_model/_logistic.py:765: ConvergenceWarning: lbfgs failed to converge (status=1):\n",
            "STOP: TOTAL NO. of ITERATIONS REACHED LIMIT.\n",
            "\n",
            "Increase the number of iterations (max_iter) or scale the data as shown in:\n",
            "    https://scikit-learn.org/stable/modules/preprocessing.html\n",
            "Please also refer to the documentation for alternative solver options:\n",
            "    https://scikit-learn.org/stable/modules/linear_model.html#logistic-regression\n",
            "  extra_warning_msg=_LOGISTIC_SOLVER_CONVERGENCE_MSG)\n",
            "/usr/local/lib/python3.7/dist-packages/sklearn/linear_model/_logistic.py:765: ConvergenceWarning: lbfgs failed to converge (status=1):\n",
            "STOP: TOTAL NO. of ITERATIONS REACHED LIMIT.\n",
            "\n",
            "Increase the number of iterations (max_iter) or scale the data as shown in:\n",
            "    https://scikit-learn.org/stable/modules/preprocessing.html\n",
            "Please also refer to the documentation for alternative solver options:\n",
            "    https://scikit-learn.org/stable/modules/linear_model.html#logistic-regression\n",
            "  extra_warning_msg=_LOGISTIC_SOLVER_CONVERGENCE_MSG)\n",
            "/usr/local/lib/python3.7/dist-packages/sklearn/linear_model/_logistic.py:765: ConvergenceWarning: lbfgs failed to converge (status=1):\n",
            "STOP: TOTAL NO. of ITERATIONS REACHED LIMIT.\n",
            "\n",
            "Increase the number of iterations (max_iter) or scale the data as shown in:\n",
            "    https://scikit-learn.org/stable/modules/preprocessing.html\n",
            "Please also refer to the documentation for alternative solver options:\n",
            "    https://scikit-learn.org/stable/modules/linear_model.html#logistic-regression\n",
            "  extra_warning_msg=_LOGISTIC_SOLVER_CONVERGENCE_MSG)\n",
            "/usr/local/lib/python3.7/dist-packages/sklearn/linear_model/_logistic.py:765: ConvergenceWarning: lbfgs failed to converge (status=1):\n",
            "STOP: TOTAL NO. of ITERATIONS REACHED LIMIT.\n",
            "\n",
            "Increase the number of iterations (max_iter) or scale the data as shown in:\n",
            "    https://scikit-learn.org/stable/modules/preprocessing.html\n",
            "Please also refer to the documentation for alternative solver options:\n",
            "    https://scikit-learn.org/stable/modules/linear_model.html#logistic-regression\n",
            "  extra_warning_msg=_LOGISTIC_SOLVER_CONVERGENCE_MSG)\n",
            "/usr/local/lib/python3.7/dist-packages/sklearn/linear_model/_logistic.py:765: ConvergenceWarning: lbfgs failed to converge (status=1):\n",
            "STOP: TOTAL NO. of ITERATIONS REACHED LIMIT.\n",
            "\n",
            "Increase the number of iterations (max_iter) or scale the data as shown in:\n",
            "    https://scikit-learn.org/stable/modules/preprocessing.html\n",
            "Please also refer to the documentation for alternative solver options:\n",
            "    https://scikit-learn.org/stable/modules/linear_model.html#logistic-regression\n",
            "  extra_warning_msg=_LOGISTIC_SOLVER_CONVERGENCE_MSG)\n"
          ],
          "name": "stderr"
        },
        {
          "output_type": "display_data",
          "data": {
            "image/png": "[encoded data removed]",
            "text/plain": [
              "<Figure size 432x288 with 1 Axes>"
            ]
          },
          "metadata": {
            "tags": [],
            "needs_background": "light"
          }
        }
      ]
    },
    {
      "cell_type": "code",
      "metadata": {
        "colab": {
          "base_uri": "https://localhost:8080/",
          "height": 1000
        },
        "id": "IxfutWybUJwG",
        "outputId": "f3ddf288-0281-4759-acd8-43b7186af821"
      },
      "source": [
        "clf = BalancedBaggingClassifier(base_estimator=LogisticRegression(),\n",
        "                                n_estimators = 10,\n",
        "                                random_state = 0).fit(X_train_resampled,\n",
        "                                                      y_train_resampled)\n",
        "\n",
        "\n",
        "y_pred = clf.predict(X_test)\n",
        "\n",
        "sns.set_context('poster')\n",
        "\n",
        "disp = plot_confusion_matrix(clf, X_test, y_test, cmap = 'cividis', colorbar = False)\n"
      ],
      "execution_count": 118,
      "outputs": [
        {
          "output_type": "stream",
          "text": [
            "/usr/local/lib/python3.7/dist-packages/sklearn/linear_model/_logistic.py:765: ConvergenceWarning: lbfgs failed to converge (status=1):\n",
            "STOP: TOTAL NO. of ITERATIONS REACHED LIMIT.\n",
            "\n",
            "Increase the number of iterations (max_iter) or scale the data as shown in:\n",
            "    https://scikit-learn.org/stable/modules/preprocessing.html\n",
            "Please also refer to the documentation for alternative solver options:\n",
            "    https://scikit-learn.org/stable/modules/linear_model.html#logistic-regression\n",
            "  extra_warning_msg=_LOGISTIC_SOLVER_CONVERGENCE_MSG)\n",
            "/usr/local/lib/python3.7/dist-packages/sklearn/linear_model/_logistic.py:765: ConvergenceWarning: lbfgs failed to converge (status=1):\n",
            "STOP: TOTAL NO. of ITERATIONS REACHED LIMIT.\n",
            "\n",
            "Increase the number of iterations (max_iter) or scale the data as shown in:\n",
            "    https://scikit-learn.org/stable/modules/preprocessing.html\n",
            "Please also refer to the documentation for alternative solver options:\n",
            "    https://scikit-learn.org/stable/modules/linear_model.html#logistic-regression\n",
            "  extra_warning_msg=_LOGISTIC_SOLVER_CONVERGENCE_MSG)\n",
            "/usr/local/lib/python3.7/dist-packages/sklearn/linear_model/_logistic.py:765: ConvergenceWarning: lbfgs failed to converge (status=1):\n",
            "STOP: TOTAL NO. of ITERATIONS REACHED LIMIT.\n",
            "\n",
            "Increase the number of iterations (max_iter) or scale the data as shown in:\n",
            "    https://scikit-learn.org/stable/modules/preprocessing.html\n",
            "Please also refer to the documentation for alternative solver options:\n",
            "    https://scikit-learn.org/stable/modules/linear_model.html#logistic-regression\n",
            "  extra_warning_msg=_LOGISTIC_SOLVER_CONVERGENCE_MSG)\n",
            "/usr/local/lib/python3.7/dist-packages/sklearn/linear_model/_logistic.py:765: ConvergenceWarning: lbfgs failed to converge (status=1):\n",
            "STOP: TOTAL NO. of ITERATIONS REACHED LIMIT.\n",
            "\n",
            "Increase the number of iterations (max_iter) or scale the data as shown in:\n",
            "    https://scikit-learn.org/stable/modules/preprocessing.html\n",
            "Please also refer to the documentation for alternative solver options:\n",
            "    https://scikit-learn.org/stable/modules/linear_model.html#logistic-regression\n",
            "  extra_warning_msg=_LOGISTIC_SOLVER_CONVERGENCE_MSG)\n",
            "/usr/local/lib/python3.7/dist-packages/sklearn/linear_model/_logistic.py:765: ConvergenceWarning: lbfgs failed to converge (status=1):\n",
            "STOP: TOTAL NO. of ITERATIONS REACHED LIMIT.\n",
            "\n",
            "Increase the number of iterations (max_iter) or scale the data as shown in:\n",
            "    https://scikit-learn.org/stable/modules/preprocessing.html\n",
            "Please also refer to the documentation for alternative solver options:\n",
            "    https://scikit-learn.org/stable/modules/linear_model.html#logistic-regression\n",
            "  extra_warning_msg=_LOGISTIC_SOLVER_CONVERGENCE_MSG)\n",
            "/usr/local/lib/python3.7/dist-packages/sklearn/linear_model/_logistic.py:765: ConvergenceWarning: lbfgs failed to converge (status=1):\n",
            "STOP: TOTAL NO. of ITERATIONS REACHED LIMIT.\n",
            "\n",
            "Increase the number of iterations (max_iter) or scale the data as shown in:\n",
            "    https://scikit-learn.org/stable/modules/preprocessing.html\n",
            "Please also refer to the documentation for alternative solver options:\n",
            "    https://scikit-learn.org/stable/modules/linear_model.html#logistic-regression\n",
            "  extra_warning_msg=_LOGISTIC_SOLVER_CONVERGENCE_MSG)\n",
            "/usr/local/lib/python3.7/dist-packages/sklearn/linear_model/_logistic.py:765: ConvergenceWarning: lbfgs failed to converge (status=1):\n",
            "STOP: TOTAL NO. of ITERATIONS REACHED LIMIT.\n",
            "\n",
            "Increase the number of iterations (max_iter) or scale the data as shown in:\n",
            "    https://scikit-learn.org/stable/modules/preprocessing.html\n",
            "Please also refer to the documentation for alternative solver options:\n",
            "    https://scikit-learn.org/stable/modules/linear_model.html#logistic-regression\n",
            "  extra_warning_msg=_LOGISTIC_SOLVER_CONVERGENCE_MSG)\n",
            "/usr/local/lib/python3.7/dist-packages/sklearn/linear_model/_logistic.py:765: ConvergenceWarning: lbfgs failed to converge (status=1):\n",
            "STOP: TOTAL NO. of ITERATIONS REACHED LIMIT.\n",
            "\n",
            "Increase the number of iterations (max_iter) or scale the data as shown in:\n",
            "    https://scikit-learn.org/stable/modules/preprocessing.html\n",
            "Please also refer to the documentation for alternative solver options:\n",
            "    https://scikit-learn.org/stable/modules/linear_model.html#logistic-regression\n",
            "  extra_warning_msg=_LOGISTIC_SOLVER_CONVERGENCE_MSG)\n",
            "/usr/local/lib/python3.7/dist-packages/sklearn/linear_model/_logistic.py:765: ConvergenceWarning: lbfgs failed to converge (status=1):\n",
            "STOP: TOTAL NO. of ITERATIONS REACHED LIMIT.\n",
            "\n",
            "Increase the number of iterations (max_iter) or scale the data as shown in:\n",
            "    https://scikit-learn.org/stable/modules/preprocessing.html\n",
            "Please also refer to the documentation for alternative solver options:\n",
            "    https://scikit-learn.org/stable/modules/linear_model.html#logistic-regression\n",
            "  extra_warning_msg=_LOGISTIC_SOLVER_CONVERGENCE_MSG)\n",
            "/usr/local/lib/python3.7/dist-packages/sklearn/linear_model/_logistic.py:765: ConvergenceWarning: lbfgs failed to converge (status=1):\n",
            "STOP: TOTAL NO. of ITERATIONS REACHED LIMIT.\n",
            "\n",
            "Increase the number of iterations (max_iter) or scale the data as shown in:\n",
            "    https://scikit-learn.org/stable/modules/preprocessing.html\n",
            "Please also refer to the documentation for alternative solver options:\n",
            "    https://scikit-learn.org/stable/modules/linear_model.html#logistic-regression\n",
            "  extra_warning_msg=_LOGISTIC_SOLVER_CONVERGENCE_MSG)\n"
          ],
          "name": "stderr"
        },
        {
          "output_type": "display_data",
          "data": {
            "image/png": "[encoded data removed]",
            "text/plain": [
              "<Figure size 432x288 with 1 Axes>"
            ]
          },
          "metadata": {
            "tags": [],
            "needs_background": "light"
          }
        }
      ]
    },
    {
      "cell_type": "code",
      "metadata": {
        "id": "FKL2UzUGS1xG"
      },
      "source": [
        ""
      ],
      "execution_count": null,
      "outputs": []
    },
    {
      "cell_type": "code",
      "metadata": {
        "id": "Vfhw7ce7S1t0"
      },
      "source": [
        ""
      ],
      "execution_count": null,
      "outputs": []
    },
    {
      "cell_type": "code",
      "metadata": {
        "id": "jzTiez27S1rN"
      },
      "source": [
        ""
      ],
      "execution_count": null,
      "outputs": []
    },
    {
      "cell_type": "code",
      "metadata": {
        "id": "2-QmRMNdS1n1"
      },
      "source": [
        ""
      ],
      "execution_count": null,
      "outputs": []
    },
    {
      "cell_type": "code",
      "metadata": {
        "id": "Ihyhi5gVS1lS"
      },
      "source": [
        ""
      ],
      "execution_count": null,
      "outputs": []
    },
    {
      "cell_type": "code",
      "metadata": {
        "id": "Mx3JJ3OLS1hs"
      },
      "source": [
        ""
      ],
      "execution_count": null,
      "outputs": []
    },
    {
      "cell_type": "code",
      "metadata": {
        "id": "mHIVlobxS1fJ"
      },
      "source": [
        ""
      ],
      "execution_count": null,
      "outputs": []
    },
    {
      "cell_type": "code",
      "metadata": {
        "id": "cQDAgV79Nqzf"
      },
      "source": [
        ""
      ],
      "execution_count": null,
      "outputs": []
    },
    {
      "cell_type": "code",
      "metadata": {
        "id": "OIDqB7DRNjnN"
      },
      "source": [
        ""
      ],
      "execution_count": null,
      "outputs": []
    },
    {
      "cell_type": "code",
      "metadata": {
        "id": "BitP76MgNjkX"
      },
      "source": [
        ""
      ],
      "execution_count": null,
      "outputs": []
    },
    {
      "cell_type": "code",
      "metadata": {
        "id": "8Aivk7jyNjh1"
      },
      "source": [
        ""
      ],
      "execution_count": null,
      "outputs": []
    },
    {
      "cell_type": "code",
      "metadata": {
        "id": "fvkfiPyykZWI"
      },
      "source": [
        ""
      ],
      "execution_count": 87,
      "outputs": []
    }
  ]
}