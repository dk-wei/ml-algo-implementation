{
  "nbformat": 4,
  "nbformat_minor": 0,
  "metadata": {
    "colab": {
      "name": "XGBoost Parameter Tuning 调参.ipynb",
      "provenance": [],
      "toc_visible": true,
      "authorship_tag": "ABX9TyMRj04imkVXKq/O9lyrTCdm",
      "include_colab_link": true
    },
    "kernelspec": {
      "name": "python3",
      "display_name": "Python 3"
    },
    "language_info": {
      "name": "python"
    }
  },
  "cells": [
    {
      "cell_type": "markdown",
      "metadata": {
        "id": "view-in-github",
        "colab_type": "text"
      },
      "source": [
        "<a href=\"https://colab.research.google.com/github/dk-wei/ml-algo-implementation/blob/main/XGBoost_Parameter_Tuning_%E8%B0%83%E5%8F%82.ipynb\" target=\"_parent\"><img src=\"https://colab.research.google.com/assets/colab-badge.svg\" alt=\"Open In Colab\"/></a>"
      ]
    },
    {
      "cell_type": "markdown",
      "metadata": {
        "id": "YzXWUWf9j_AH"
      },
      "source": [
        "参考资料1：[Complete Guide to Parameter Tuning in XGBoost with codes in Python](https://www.analyticsvidhya.com/blog/2016/03/complete-guide-parameter-tuning-xgboost-with-codes-python/)    \n",
        "参考资料2：[XGBoost类库使用小结](https://www.cnblogs.com/pinard/p/11114748.html)\n",
        "\n",
        "\n",
        "\n",
        "# The XGBoost Advantage\n",
        "\n",
        "I’ve always admired the boosting capabilities that this algorithm infuses in a predictive model. When I explored more about its performance and science behind its high accuracy, I discovered many advantages:\n",
        "\n",
        "1. Regularization:\n",
        "  - **Standard GBM implementation has no regularization like XGBoost, therefore it also helps to reduce overfitting.**         \n",
        "    **XGBoost的优势在于引入了三个tree parameter，用于对抗overfitting**\n",
        "  - In fact, XGBoost is also known as a ‘regularized boosting‘ technique.\n",
        "2. Parallel Processing:\n",
        "  - XGBoost implements parallel processing and is **blazingly faster** as compared to GBM.\n",
        "  - But hang on, we know that boosting is a sequential process so how can it be parallelized? We know that each tree can be built only after the previous one, so what stops us from making a tree using all cores? I hope you get where I’m coming from. Check this link out to explore further.\n",
        "  - XGBoost also supports implementation on Hadoop.\n",
        "3. High Flexibility\n",
        "  - XGBoost allows users to define **custom optimization objectives and evaluation criteria**.\n",
        "  - This adds a whole new dimension to the model and there is no limit to what we can do.\n",
        "4. Handling Missing Values\n",
        "  - XGBoost has an in-built routine to handle missing values. \n",
        "  - The user is required to supply a different value than other observations and pass that as a parameter. XGBoost tries different things as it encounters a missing value on each node and learns which path to take for missing values in future.\n",
        "5. Tree Pruning:\n",
        "  - A GBM would stop splitting a node when it encounters a negative loss in the split. Thus it is more of a **greedy algorithm**.\n",
        "  - XGBoost on the other hand make **splits** upto the **max_depth** specified and then start pruning the tree backwards and remove splits beyond which there is no positive gain.\n",
        "  - Another advantage is that sometimes a split of negative loss say -2 may be followed by a split of positive loss +10. GBM would stop as it encounters -2. But XGBoost will go deeper and it will see a combined effect of +8 of the split and keep both.\n",
        "6. Built-in Cross-Validation\n",
        "  - XGBoost allows user to run a cross-validation at each iteration of the boosting process and thus it is easy to get the exact optimum number of boosting iterations in a single run.\n",
        "  - This is unlike GBM where we have to run a grid-search and only a limited values can be tested.\n",
        "7. Continue on Existing Model\n",
        "  - User can start training an XGBoost model from its last iteration of previous run. This can be of significant advantage in certain specific applications.\n",
        "  - GBM implementation of sklearn also has this feature so they are even on this point."
      ]
    },
    {
      "cell_type": "markdown",
      "metadata": {
        "id": "aN3AfFBNm3lz"
      },
      "source": [
        "# XGBoost Parameters\n",
        "The overall parameters have been divided into 3 categories by XGBoost authors:\n",
        "\n",
        "  1. **General Parameters**: Guide the overall functioning\n",
        "  2. **Booster Parameters**: Guide the individual booster (tree/regression) at each step\n",
        "  3. **Learning Task Parameters**: Guide the optimization performed\n",
        "I will give analogies to GBM here and highly recommend to read this article to learn from the very basics.\n",
        "\n",
        "## General Parameters\n",
        "These define the overall functionality of XGBoost.\n",
        "\n",
        "  1. `booster [default=gbtree]`   \n",
        "   - Select the type of model to run at each iteration. It has 2 options:\n",
        "      - gbtree: tree-based models\n",
        "       - gblinear: linear models\n",
        "  2. `silent [default=0]`   \n",
        "    - Silent mode is activated is set to 1, i.e. no running messages will be printed.\n",
        "    - It’s generally good to keep it 0 as the messages might help in understanding the model.\n",
        "  3. `nthread [default to maximum number of threads available if not set]`    \n",
        "    - This is used for parallel processing and number of cores in the system should be entered\n",
        "    - If you wish to run on all cores, value should not be entered and algorithm will detect automatically  \n",
        "\n",
        "  There are 2 more parameters which are set automatically by XGBoost and you need not worry about them. Lets move on to Booster parameters.\n",
        "\n",
        " \n",
        "\n",
        "## Booster Parameters    \n",
        "\n",
        "Though there are 2 types of boosters, I’ll consider only tree booster here because it always outperforms the linear booster and thus the later is rarely used.\n",
        "\n",
        "  1. `eta [default=0.3]`         \n",
        "    - Analogous to **learning rate** in GBM\n",
        "    - Makes the model more robust by shrinking the weights on each step\n",
        "    - Typical final values to be used: 0.01-0.2\n",
        "\n",
        "  4. `gamma [default=0]`  \n",
        "    - A node is split only when the resulting split gives a positive reduction in the loss function. **Gamma specifies the minimum loss reduction required to make a split**.\n",
        "    - Makes the algorithm conservative. The values can vary depending on the loss function and should be tuned.\n",
        "\n",
        "  9. `lambda [default=1]`\n",
        "\n",
        "    -  L2 regularization term on weights (analogous to Ridge regression)\n",
        "    - This used to handle the regularization part of XGBoost. Though many data scientists don’t use it often, it should be explored to reduce overfitting.\n",
        "\n",
        "  10. `alpha [default=0]`\n",
        "    - L1 regularization term on weight (analogous to Lasso regression)\n",
        "Can be used in case of very high dimensionality so that the algorithm runs faster when implemented\n",
        "\n",
        "  2. `min_child_weight [default=1]`         \n",
        "    - Defines the minimum sum of weights of all observations required in a child.\n",
        "    - This is similar to `min_child_leaf` in GBM but not exactly. This refers to min “sum of weights” of observations while GBM has min “number of observations”.\n",
        "    - Used to control over-fitting. Higher values prevent a model from learning relations which might be highly specific to the particular sample selected for a tree.\n",
        "    - Too high values can lead to under-fitting hence, it should be tuned using CV.\n",
        "\n",
        "  3. `max_depth [default=6]`       \n",
        "    - The maximum depth of a tree, same as GBM.\n",
        "    - Used to control over-fitting as higher depth will allow model to learn relations very specific to a particular sample.\n",
        "    - Should be tuned using CV.\n",
        "    - Typical values: 3-10\n",
        "\n",
        "  4. max_leaf_nodes\n",
        "    - The maximum number of terminal nodes or leaves in a tree.\n",
        "    - Can be defined in place of max_depth. Since binary trees are created, a depth of ‘n’ would produce a maximum of 2^n leaves.\n",
        "    - If this is defined, GBM will ignore max_depth.\n",
        "\n",
        "  5. `max_delta_step [default=0]`      \n",
        "    - In maximum delta step we allow each tree’s weight estimation to be. If the value is set to 0, it means there is no constraint. If it is set to a positive value, it can help making the update step more conservative.\n",
        "    - Usually this parameter is not needed, but it might help in logistic regression when class is extremely imbalanced.\n",
        "    - This is generally not used but you can explore further if you wish.\n",
        "\n",
        "  6. `subsample [default=1]`     \n",
        "    -  **每次训练new tree，选取多少subsample**         \n",
        "    - Same as the subsample of GBM. Denotes the fraction of observations to be randomly samples for each tree.\n",
        "Lower values make the algorithm more conservative and prevents overfitting but too small values might lead to under-fitting.\n",
        "Typical values: 0.5-1\n",
        "\n",
        "  7. `colsample_bytree [default=1]`  \n",
        "    - Similar to max_features in GBM. Denotes the fraction of columns to be randomly samples for each tree.\n",
        "    - Typical values: 0.5-1\n",
        "\n",
        "  8. `colsample_bylevel [default=1]`\n",
        "    - Denotes the subsample ratio of columns for each split, in each level.\n",
        "    - I don’t use this often because subsample and colsample_bytree will do the job for you. but you can explore further if you feel so.\n",
        "\n",
        "  11. `scale_pos_weight [default=1]`       \n",
        "    - A value greater than 0 should be used in case of high class imbalance as it helps in faster convergence.\n",
        " \n",
        "\n",
        "## Learning Task Parameters    \n",
        "These parameters are used to define the optimization objective the metric to be calculated at each step.\n",
        "\n",
        "  1. `objective [default=reg:linear]`      \n",
        "    - This defines the loss function to be minimized. Mostly used values are:\n",
        "      - **binary:logistic** –logistic regression for binary classification, returns predicted probability (not class)\n",
        "      - **multi:softmax** –multiclass classification using the softmax objective, returns predicted class (not probabilities)\n",
        "you also need to set an additional num_class (number of classes) parameter defining the number of unique classes\n",
        "      - **multi:softprob** –same as softmax, but returns predicted probability of each data point belonging to each class.\n",
        "\n",
        "  2. `eval_metric [ default according to objective ]`     \n",
        "      - The metric to be used for validation data.\n",
        "      - The default values are rmse for regression and error for classification.\n",
        "      - Typical values are:\n",
        "        - **rmse** – root mean square error\n",
        "        - **mae** – mean absolute error\n",
        "        - **logloss** – negative log-likelihood\n",
        "        - **error** – Binary classification error rate (0.5 threshold)\n",
        "        - **merror** – Multiclass classification error rate\n",
        "        - **mlogloss** – Multiclass logloss\n",
        "        - **auc**: Area under the curve\n",
        "\n",
        "  3. `seed [default=0]`       \n",
        "      - The random number seed.\n",
        "      - Can be used for generating reproducible results and also for parameter tuning.\n",
        "\n",
        "If you’ve been using Scikit-Learn till now, these parameter names might not look familiar. A good news is that xgboost module in python has an sklearn wrapper called XGBClassifier. It uses sklearn style naming convention. The parameters names which will change are:\n",
        "\n",
        "  1. eta –> learning_rate\n",
        "  2. lambda –> reg_lambda\n",
        "  3. alpha –> reg_alpha\n",
        "\n",
        "You must be wondering that we have defined everything except something similar to the “n_estimators” parameter in GBM. Well this exists as a parameter in XGBClassifier. However, it has to be passed as “num_boosting_rounds” while calling the fit function in the standard xgboost implementation."
      ]
    },
    {
      "cell_type": "markdown",
      "metadata": {
        "id": "BzlQPLKLvrJO"
      },
      "source": [
        "# General Approach for XGBoost Parameter Tuning\n",
        "\n",
        "We will use an approach similar to that of GBM here. The various steps to be performed are:\n",
        "\n",
        "1. Choose a relatively **high learning rate**. Generally a learning rate of 0.1 works but somewhere between 0.05 to 0.3 should work for different problems. **Determine the optimum number of trees for this learning rate**. XGBoost has a very useful function called as “cv” which performs cross-validation at each boosting iteration and thus returns the optimum number of trees required.\n",
        "2. **Tune tree-specific parameters** \n",
        "    - max_depth\n",
        "    - min_child_weight\n",
        "    - gamma\n",
        "    - subsample\n",
        "    - colsample_bytree\n",
        "    \n",
        "  for decided learning rate and number of trees. Note that we can choose different parameters to define a tree and I’ll take up an example here.\n",
        "\n",
        "3. **Tune regularization parameters (lambda, alpha)** for xgboost which can help reduce model complexity and enhance performance.\n",
        "4. **Lower the learning rate** and decide the optimal parameters.\n",
        "\n",
        "Let us look at a more detailed step by step approach.\n",
        "\n",
        "**下面看看具体步骤**\n",
        "\n"
      ]
    },
    {
      "cell_type": "code",
      "metadata": {
        "id": "mE_TfZWxg5iq"
      },
      "source": [
        "import pandas as pd\n",
        "import numpy as np\n",
        "from sklearn.ensemble import RandomForestClassifier\n",
        "from sklearn.model_selection import cross_validate\n",
        "from sklearn.model_selection import GridSearchCV\n",
        "from sklearn import metrics\n",
        "\n",
        "from xgboost.sklearn import XGBClassifier\n",
        "#from sklearn import cross_validation, metrics   #Additional scklearn functions\n",
        "#from sklearn.grid_search import GridSearchCV   #Perforing grid search\n",
        "\n",
        "\n",
        "%matplotlib inline\n",
        "from matplotlib.pylab import rcParams\n",
        "rcParams['figure.figsize'] = 12, 4\n",
        "\n",
        "import xgboost as xgb"
      ],
      "execution_count": 15,
      "outputs": []
    },
    {
      "cell_type": "code",
      "metadata": {
        "colab": {
          "base_uri": "https://localhost:8080/"
        },
        "id": "ColhY80Yg5gK",
        "outputId": "8df111b1-cf6f-4155-9db1-ca81374d82c8"
      },
      "source": [
        "from google.colab import drive\n",
        "\n",
        "drive.mount('/content/gdrive')"
      ],
      "execution_count": 4,
      "outputs": [
        {
          "output_type": "stream",
          "text": [
            "Mounted at /content/gdrive\n"
          ],
          "name": "stdout"
        }
      ]
    },
    {
      "cell_type": "code",
      "metadata": {
        "colab": {
          "base_uri": "https://localhost:8080/"
        },
        "id": "rhNM7uMhg5dX",
        "outputId": "9b3668a0-27d5-4e46-a823-d9b3ca838822"
      },
      "source": [
        "train = pd.read_csv('/content/gdrive/MyDrive/扬FAANG起航/单项准备/rf调参/train_modified.csv')\n",
        "\n",
        "target='Disbursed' # Disbursed的值就是二元分类的输出\n",
        "IDcol = 'ID'\n",
        "train['Disbursed'].value_counts() "
      ],
      "execution_count": 7,
      "outputs": [
        {
          "output_type": "execute_result",
          "data": {
            "text/plain": [
              "0    19680\n",
              "1      320\n",
              "Name: Disbursed, dtype: int64"
            ]
          },
          "metadata": {
            "tags": []
          },
          "execution_count": 7
        }
      ]
    },
    {
      "cell_type": "code",
      "metadata": {
        "id": "tYTez80Dg5Xj"
      },
      "source": [
        "def modelfit(alg, dtrain, predictors,useTrainCV=True, cv_folds=5, early_stopping_rounds=50):\n",
        "    \n",
        "    if useTrainCV:\n",
        "        xgb_param = alg.get_xgb_params()\n",
        "        xgtrain = xgb.DMatrix(dtrain[predictors].values, label=dtrain[target].values)\n",
        "        cvresult = xgb.cv(xgb_param, \n",
        "                          xgtrain, \n",
        "                          num_boost_round=alg.get_params()['n_estimators'], \n",
        "                          nfold=cv_folds,\n",
        "                          metrics='auc', \n",
        "                          early_stopping_rounds=early_stopping_rounds, \n",
        "                          #show_progress=False\n",
        "                          )\n",
        "        alg.set_params(n_estimators=cvresult.shape[0])\n",
        "    \n",
        "    #Fit the algorithm on the data\n",
        "    alg.fit(dtrain[predictors], dtrain['Disbursed'],eval_metric='auc')\n",
        "        \n",
        "    #Predict training set:\n",
        "    dtrain_predictions = alg.predict(dtrain[predictors])\n",
        "    dtrain_predprob = alg.predict_proba(dtrain[predictors])[:,1]\n",
        "        \n",
        "    #Print model report:\n",
        "    print (\"\\nModel Report\")\n",
        "    print (\"Accuracy : %.4g\" % metrics.accuracy_score(dtrain['Disbursed'].values, dtrain_predictions))\n",
        "    print (\"AUC Score (Train): %f\" % metrics.roc_auc_score(dtrain['Disbursed'], dtrain_predprob))\n",
        "                    \n",
        "    feat_imp = pd.Series(alg.get_booster().get_fscore()).sort_values(ascending=False)\n",
        "    feat_imp.plot(kind='bar', title='Feature Importances')\n",
        "    plt.ylabel('Feature Importance Score')"
      ],
      "execution_count": 23,
      "outputs": []
    },
    {
      "cell_type": "markdown",
      "metadata": {
        "id": "AkT9XcWuxhVC"
      },
      "source": [
        "## Step 1: Fix learning rate and number of estimators for tuning tree-based parameters\n",
        "In order to decide on boosting parameters, we need to set some initial values of other parameters. Lets take the following values:\n",
        "\n",
        "1. max_depth = 5 : This should be between 3-10. I’ve started with 5 but you can choose a different number as well. 4-6 can be good starting points.\n",
        "2. min_child_weight = 1 : A smaller value is chosen because it is a highly imbalanced class problem and leaf nodes can have smaller size groups.\n",
        "3. gamma = 0 : A smaller value like 0.1-0.2 can also be chosen for starting. This will anyways be tuned later.\n",
        "4. subsample, colsample_bytree = 0.8 : This is a commonly used used start value. Typical values range between 0.5-0.9.\n",
        "5. scale_pos_weight = 1: Because of high class imbalance.\n",
        "\n",
        "\n",
        "Please note that all the above are just initial estimates and will be tuned later. Lets take the default learning rate of 0.1 here and check the optimum number of trees using cv function of xgboost. The function defined above will do it for us."
      ]
    },
    {
      "cell_type": "code",
      "metadata": {
        "colab": {
          "base_uri": "https://localhost:8080/",
          "height": 509
        },
        "id": "s84PkWGmg5Ut",
        "outputId": "c07c19f3-aebc-4e88-82e2-e34d9c586c03"
      },
      "source": [
        "#Choose all predictors except target & IDcols\n",
        "predictors = [x for x in train.columns if x not in [target, IDcol]]\n",
        "\n",
        "xgb1 = XGBClassifier(\n",
        "    learning_rate =0.1,\n",
        "   n_estimators=1000,\n",
        "    max_depth=5,\n",
        "    min_child_weight=1,\n",
        "     gamma=0,\n",
        "     subsample=0.8,\n",
        "     colsample_bytree=0.8,\n",
        "     objective= 'binary:logistic',\n",
        "     nthread=4,\n",
        "     scale_pos_weight=1,\n",
        "     seed=27\n",
        "     )\n",
        "\n",
        "modelfit(xgb1, train, predictors)\n"
      ],
      "execution_count": 24,
      "outputs": [
        {
          "output_type": "stream",
          "text": [
            "\n",
            "Model Report\n",
            "Accuracy : 0.9841\n",
            "AUC Score (Train): 0.932731\n"
          ],
          "name": "stdout"
        },
        {
          "output_type": "display_data",
          "data": {
            "image/png": "[encoded data removed]",
            "text/plain": [
              "<Figure size 864x288 with 1 Axes>"
            ]
          },
          "metadata": {
            "tags": [],
            "needs_background": "light"
          }
        }
      ]
    },
    {
      "cell_type": "markdown",
      "metadata": {
        "id": "J-ylhalGxn6F"
      },
      "source": [
        "As you can see that here we got 140 as the optimal estimators for 0.1 learning rate. Note that this value might be too high for you depending on the power of your system. In that case you can increase the learning rate and re-run the command to get the reduced number of estimators.\n",
        "\n",
        "**Note: You will see the test AUC as “AUC Score (Test)” in the outputs here. But this would not appear if you try to run the command on your system as the data is not made public. It’s provided here just for reference. The part of the code which generates this output has been removed here.**\n",
        "\n",
        " \n",
        "\n",
        "## Step 2: Tune `max_depth` and `min_child_weight`\n",
        "\n",
        "We tune these first as they will have the highest impact on model outcome. **To start with, let’s set wider ranges and then we will perform another iteration for smaller ranges. 先大范围，再小范围**\n",
        "\n",
        "**Important Note**: I’ll be doing some heavy-duty grid searched in this section which can take 15-30 mins or even more time to run depending on your system. You can vary the number of values you are testing based on what your system can handle."
      ]
    },
    {
      "cell_type": "code",
      "metadata": {
        "colab": {
          "base_uri": "https://localhost:8080/"
        },
        "id": "Ol2_V69Xg5SG",
        "outputId": "2cac7bfb-1cfb-4f36-fca2-3121da586c2e"
      },
      "source": [
        "param_test1 = {\n",
        " 'max_depth':range(3,10,2),\n",
        " 'min_child_weight':range(1,6,2)\n",
        "}\n",
        "\n",
        "# param_test1 = {\n",
        "#  'max_depth':range(3),\n",
        "#  'min_child_weight':range(1)\n",
        "# }\n",
        "\n",
        "gsearch1 = GridSearchCV(estimator = XGBClassifier( \n",
        "    learning_rate =0.1, \n",
        "    n_estimators=140, \n",
        "    max_depth=5,\n",
        "    min_child_weight=1, \n",
        "    gamma=0, \n",
        "    subsample=0.8, \n",
        "    colsample_bytree=0.8,\n",
        "    objective= 'binary:logistic', nthread=4, scale_pos_weight=1, seed=27), \n",
        "    param_grid = param_test1, scoring='roc_auc',n_jobs=4,iid=False, cv=5\n",
        "    )\n",
        "\n",
        "gsearch1.fit(train[predictors],train[target])\n",
        "\n",
        "gsearch1.cv_results_['mean_test_score'], gsearch1.cv_results_['std_test_score'], gsearch1.cv_results_['params'], gsearch1.best_params_, gsearch1.best_score_"
      ],
      "execution_count": 30,
      "outputs": [
        {
          "output_type": "stream",
          "text": [
            "/usr/local/lib/python3.7/dist-packages/sklearn/model_selection/_search.py:823: FutureWarning: The parameter 'iid' is deprecated in 0.22 and will be removed in 0.24.\n",
            "  \"removed in 0.24.\", FutureWarning\n"
          ],
          "name": "stderr"
        },
        {
          "output_type": "execute_result",
          "data": {
            "text/plain": [
              "(array([0.82001159, 0.82023469, 0.81986709, 0.81325426, 0.81911165,\n",
              "        0.81577744, 0.8044644 , 0.80842662, 0.8125655 , 0.79486352,\n",
              "        0.8027046 , 0.80780416]),\n",
              " array([0.01841443, 0.01918774, 0.01804915, 0.01929548, 0.02026071,\n",
              "        0.018853  , 0.02452071, 0.02115899, 0.01877396, 0.02663704,\n",
              "        0.02347272, 0.02437383]),\n",
              " [{'max_depth': 3, 'min_child_weight': 1},\n",
              "  {'max_depth': 3, 'min_child_weight': 3},\n",
              "  {'max_depth': 3, 'min_child_weight': 5},\n",
              "  {'max_depth': 5, 'min_child_weight': 1},\n",
              "  {'max_depth': 5, 'min_child_weight': 3},\n",
              "  {'max_depth': 5, 'min_child_weight': 5},\n",
              "  {'max_depth': 7, 'min_child_weight': 1},\n",
              "  {'max_depth': 7, 'min_child_weight': 3},\n",
              "  {'max_depth': 7, 'min_child_weight': 5},\n",
              "  {'max_depth': 9, 'min_child_weight': 1},\n",
              "  {'max_depth': 9, 'min_child_weight': 3},\n",
              "  {'max_depth': 9, 'min_child_weight': 5}],\n",
              " {'max_depth': 3, 'min_child_weight': 3},\n",
              " 0.8202346925813007)"
            ]
          },
          "metadata": {
            "tags": []
          },
          "execution_count": 30
        }
      ]
    },
    {
      "cell_type": "markdown",
      "metadata": {
        "id": "o9eZGPYD0xH_"
      },
      "source": [
        "Here, we have run 12 combinations with wider intervals between values. The ideal values are 3 for **max_depth** and 3 for **min_child_weight**. Lets go one step deeper and look for optimum values. We’ll search for values 1 above and below the optimum values because we took an interval of two.   \n",
        "\n",
        "### 缩小范围, 调高精度"
      ]
    },
    {
      "cell_type": "code",
      "metadata": {
        "colab": {
          "base_uri": "https://localhost:8080/"
        },
        "id": "5EbyTgDgg5PM",
        "outputId": "af27bbda-3894-46f2-c30a-769718ac7677"
      },
      "source": [
        "param_test2 = {\n",
        " 'max_depth':[2,3,4],\n",
        " 'min_child_weight':[2,3,4]\n",
        "}\n",
        "gsearch2 = GridSearchCV(estimator = XGBClassifier(\n",
        "    learning_rate=0.1, \n",
        "    n_estimators=140, \n",
        "    max_depth=5,\n",
        "    min_child_weight=2, \n",
        "    gamma=0, \n",
        "    subsample=0.8, \n",
        "    colsample_bytree=0.8,\n",
        "    objective= 'binary:logistic', \n",
        "    nthread=4, \n",
        "    scale_pos_weight=1,\n",
        "    seed=27), \n",
        "    \n",
        " param_grid = param_test2, scoring='roc_auc',n_jobs=4,iid=False, cv=5)\n",
        "\n",
        "gsearch2.fit(train[predictors],train[target])\n",
        "\n",
        "gsearch2.cv_results_['mean_test_score'], gsearch2.cv_results_['std_test_score'], gsearch2.cv_results_['params'], gsearch2.best_params_, gsearch2.best_score_"
      ],
      "execution_count": 32,
      "outputs": [
        {
          "output_type": "stream",
          "text": [
            "/usr/local/lib/python3.7/dist-packages/sklearn/model_selection/_search.py:823: FutureWarning: The parameter 'iid' is deprecated in 0.22 and will be removed in 0.24.\n",
            "  \"removed in 0.24.\", FutureWarning\n"
          ],
          "name": "stderr"
        },
        {
          "output_type": "execute_result",
          "data": {
            "text/plain": [
              "(array([0.81374968, 0.81441303, 0.8161637 , 0.82123626, 0.82023469,\n",
              "        0.81991592, 0.81904456, 0.82115012, 0.81909497]),\n",
              " array([0.01788656, 0.01815728, 0.01838661, 0.01873034, 0.01918774,\n",
              "        0.01671164, 0.01742343, 0.01852629, 0.01770444]),\n",
              " [{'max_depth': 2, 'min_child_weight': 2},\n",
              "  {'max_depth': 2, 'min_child_weight': 3},\n",
              "  {'max_depth': 2, 'min_child_weight': 4},\n",
              "  {'max_depth': 3, 'min_child_weight': 2},\n",
              "  {'max_depth': 3, 'min_child_weight': 3},\n",
              "  {'max_depth': 3, 'min_child_weight': 4},\n",
              "  {'max_depth': 4, 'min_child_weight': 2},\n",
              "  {'max_depth': 4, 'min_child_weight': 3},\n",
              "  {'max_depth': 4, 'min_child_weight': 4}],\n",
              " {'max_depth': 3, 'min_child_weight': 2},\n",
              " 0.8212362646087398)"
            ]
          },
          "metadata": {
            "tags": []
          },
          "execution_count": 32
        }
      ]
    },
    {
      "cell_type": "markdown",
      "metadata": {
        "id": "LKdUcqqj1g2F"
      },
      "source": [
        "Here, we get the optimum values as 3 for **max_depth** and 2 for **min_child_weight**. Also, we can see the CV score increasing slightly. Note that as the model performance increases, it becomes exponentially difficult to achieve even marginal gains in performance. You would have noticed that here we got 6 as optimum value for min_child_weight but we haven’t tried values more than 6. We can do that as follow:."
      ]
    },
    {
      "cell_type": "markdown",
      "metadata": {
        "id": "mgxB57F_2lEl"
      },
      "source": [
        "## Step 3: Tune gamma\n",
        "\n",
        "Now lets tune gamma value using the parameters already tuned above. Gamma can take various values but I’ll check for 5 values here. You can go into more precise values as."
      ]
    },
    {
      "cell_type": "code",
      "metadata": {
        "colab": {
          "base_uri": "https://localhost:8080/"
        },
        "id": "EmRRNXwmg5M5",
        "outputId": "4e9aadfb-6e24-4be9-fd82-a034a3af8ed4"
      },
      "source": [
        "param_test3 = {\n",
        " 'gamma':[i/10.0 for i in range(0,5)]\n",
        "}\n",
        "\n",
        "gsearch3 = GridSearchCV(estimator = XGBClassifier(learning_rate =0.1, \n",
        "                                                  n_estimators=140, \n",
        "                                                  max_depth=3,\n",
        "                                                  min_child_weight=2, \n",
        "                                                  gamma=0, \n",
        "                                                  subsample=0.8, \n",
        "                                                  colsample_bytree=0.8,\n",
        "                                                  objective= 'binary:logistic', \n",
        "                                                  nthread=4, \n",
        "                                                  scale_pos_weight=1,seed=27\n",
        "                                                  ), \n",
        "                        \n",
        " param_grid = param_test3, scoring='roc_auc',n_jobs=4,iid=False, cv=5)\n",
        "\n",
        "gsearch3.fit(train[predictors],train[target])\n",
        "\n",
        "gsearch3.cv_results_['mean_test_score'], gsearch3.cv_results_['std_test_score'], gsearch3.cv_results_['params'], gsearch3.best_params_, gsearch3.best_score_"
      ],
      "execution_count": 34,
      "outputs": [
        {
          "output_type": "stream",
          "text": [
            "/usr/local/lib/python3.7/dist-packages/sklearn/model_selection/_search.py:823: FutureWarning: The parameter 'iid' is deprecated in 0.22 and will be removed in 0.24.\n",
            "  \"removed in 0.24.\", FutureWarning\n"
          ],
          "name": "stderr"
        },
        {
          "output_type": "execute_result",
          "data": {
            "text/plain": [
              "(array([0.82123626, 0.82083294, 0.82106477, 0.81994212, 0.81954594]),\n",
              " array([0.01873034, 0.01820005, 0.01717629, 0.0175963 , 0.01898202]),\n",
              " [{'gamma': 0.0},\n",
              "  {'gamma': 0.1},\n",
              "  {'gamma': 0.2},\n",
              "  {'gamma': 0.3},\n",
              "  {'gamma': 0.4}],\n",
              " {'gamma': 0.0},\n",
              " 0.8212362646087398)"
            ]
          },
          "metadata": {
            "tags": []
          },
          "execution_count": 34
        }
      ]
    },
    {
      "cell_type": "markdown",
      "metadata": {
        "id": "bhgKgn0F3VZa"
      },
      "source": [
        "This shows that our original value of gamma, i.e. **0 is the optimum one**. Before proceeding, a good idea would be to re-calibrate the number of boosting rounds for the updated parameters."
      ]
    },
    {
      "cell_type": "code",
      "metadata": {
        "colab": {
          "base_uri": "https://localhost:8080/",
          "height": 509
        },
        "id": "JdGy1V0cg5Jm",
        "outputId": "1a3225cb-93f4-4769-ae1f-d4506a91b14f"
      },
      "source": [
        "xgb2 = XGBClassifier(\n",
        "    learning_rate =0.1,\n",
        "    n_estimators=1000,\n",
        "    max_depth=3,\n",
        "    min_child_weight=2,\n",
        "    gamma=0,\n",
        "    subsample=0.8,\n",
        "    colsample_bytree=0.8,\n",
        "    objective= 'binary:logistic',\n",
        "     nthread=4,\n",
        "    scale_pos_weight=1,\n",
        "    seed=27)\n",
        "\n",
        "modelfit(xgb2, train, predictors)"
      ],
      "execution_count": 36,
      "outputs": [
        {
          "output_type": "stream",
          "text": [
            "\n",
            "Model Report\n",
            "Accuracy : 0.984\n",
            "AUC Score (Train): 0.885619\n"
          ],
          "name": "stdout"
        },
        {
          "output_type": "display_data",
          "data": {
            "image/png": "[encoded data removed]",
            "text/plain": [
              "<Figure size 864x288 with 1 Axes>"
            ]
          },
          "metadata": {
            "tags": [],
            "needs_background": "light"
          }
        }
      ]
    },
    {
      "cell_type": "markdown",
      "metadata": {
        "id": "ieYa7aDN3nU2"
      },
      "source": [
        "Here, we can see the improvement in score. So the final parameters are:\n",
        "\n",
        "  - max_depth: 3\n",
        "  - min_child_weight: 2\n",
        "  - gamma: 0"
      ]
    },
    {
      "cell_type": "markdown",
      "metadata": {
        "id": "ools7wz03-kl"
      },
      "source": [
        "## Step 4: Tune subsample and colsample_bytree\n",
        "\n",
        "The next step would be try different subsample and colsample_bytree values. Lets do this in 2 stages as well and take values 0.6,0.7,0.8,0.9 for both to start with."
      ]
    },
    {
      "cell_type": "code",
      "metadata": {
        "colab": {
          "base_uri": "https://localhost:8080/"
        },
        "id": "kMFfNC7hg5Gw",
        "outputId": "0b969a06-4e1b-48aa-acb7-8d19d045184f"
      },
      "source": [
        "param_test4 = {\n",
        " 'subsample':[i/10.0 for i in range(6,10)],\n",
        " 'colsample_bytree':[i/10.0 for i in range(6,10)]\n",
        "}\n",
        "gsearch4 = GridSearchCV(estimator = XGBClassifier(\n",
        "    learning_rate =0.1, \n",
        "    n_estimators=177, \n",
        "    max_depth=3,\n",
        "    min_child_weight=2, \n",
        "    gamma=0, \n",
        "    subsample=0.8, \n",
        "    colsample_bytree=0.8,\n",
        "    objective= 'binary:logistic', nthread=4, scale_pos_weight=1,seed=27), \n",
        "    param_grid = param_test4, scoring='roc_auc',n_jobs=4,iid=False, cv=5\n",
        "    )\n",
        "\n",
        "gsearch4.fit(train[predictors],train[target])\n",
        "\n",
        "gsearch4.cv_results_['mean_test_score'], gsearch4.cv_results_['std_test_score'], gsearch4.cv_results_['params'], gsearch4.best_params_, gsearch4.best_score_"
      ],
      "execution_count": 37,
      "outputs": [
        {
          "output_type": "stream",
          "text": [
            "/usr/local/lib/python3.7/dist-packages/sklearn/model_selection/_search.py:823: FutureWarning: The parameter 'iid' is deprecated in 0.22 and will be removed in 0.24.\n",
            "  \"removed in 0.24.\", FutureWarning\n"
          ],
          "name": "stderr"
        },
        {
          "output_type": "execute_result",
          "data": {
            "text/plain": [
              "(array([0.81665912, 0.81776947, 0.81932244, 0.81801281, 0.81757019,\n",
              "        0.8184475 , 0.81985161, 0.81995879, 0.81656266, 0.81923352,\n",
              "        0.8202204 , 0.819879  , 0.81632527, 0.8217956 , 0.82149668,\n",
              "        0.81856223]),\n",
              " array([0.02186112, 0.01876015, 0.01687662, 0.02421696, 0.02027418,\n",
              "        0.0169755 , 0.01876897, 0.01759292, 0.02178948, 0.01742119,\n",
              "        0.0185103 , 0.01830571, 0.01943846, 0.01874846, 0.01639517,\n",
              "        0.01916506]),\n",
              " [{'colsample_bytree': 0.6, 'subsample': 0.6},\n",
              "  {'colsample_bytree': 0.6, 'subsample': 0.7},\n",
              "  {'colsample_bytree': 0.6, 'subsample': 0.8},\n",
              "  {'colsample_bytree': 0.6, 'subsample': 0.9},\n",
              "  {'colsample_bytree': 0.7, 'subsample': 0.6},\n",
              "  {'colsample_bytree': 0.7, 'subsample': 0.7},\n",
              "  {'colsample_bytree': 0.7, 'subsample': 0.8},\n",
              "  {'colsample_bytree': 0.7, 'subsample': 0.9},\n",
              "  {'colsample_bytree': 0.8, 'subsample': 0.6},\n",
              "  {'colsample_bytree': 0.8, 'subsample': 0.7},\n",
              "  {'colsample_bytree': 0.8, 'subsample': 0.8},\n",
              "  {'colsample_bytree': 0.8, 'subsample': 0.9},\n",
              "  {'colsample_bytree': 0.9, 'subsample': 0.6},\n",
              "  {'colsample_bytree': 0.9, 'subsample': 0.7},\n",
              "  {'colsample_bytree': 0.9, 'subsample': 0.8},\n",
              "  {'colsample_bytree': 0.9, 'subsample': 0.9}],\n",
              " {'colsample_bytree': 0.9, 'subsample': 0.7},\n",
              " 0.8217956046747966)"
            ]
          },
          "metadata": {
            "tags": []
          },
          "execution_count": 37
        }
      ]
    },
    {
      "cell_type": "markdown",
      "metadata": {
        "id": "kxDL2ukf4SDD"
      },
      "source": [
        "Here, we found 0.9， 0.7 as the optimum value for colsample_bytree and subsample. Now we should try values in 0.05 interval around these.\n",
        "\n",
        "### 缩小范围, 调高精度"
      ]
    },
    {
      "cell_type": "code",
      "metadata": {
        "colab": {
          "base_uri": "https://localhost:8080/"
        },
        "id": "43Ue0FSs4ZRy",
        "outputId": "c2d8dbe1-fa37-4cda-e9cd-e4848efab95c"
      },
      "source": [
        "param_test5 = {\n",
        " 'subsample':[i/100.0 for i in range(65,80,5)],\n",
        " 'colsample_bytree':[i/100.0 for i in range(80,100,5)]\n",
        "}\n",
        "gsearch5 = GridSearchCV(estimator = XGBClassifier(\n",
        "    learning_rate =0.1, \n",
        "    n_estimators=177, \n",
        "    max_depth=3,\n",
        "    min_child_weight=2, \n",
        "    gamma=0, \n",
        "    subsample=0.7, \n",
        "    colsample_bytree=0.9,\n",
        "    objective= 'binary:logistic', nthread=4, scale_pos_weight=1,seed=27), \n",
        "    param_grid = param_test5, scoring='roc_auc',n_jobs=4,iid=False, cv=5)\n",
        "\n",
        "gsearch5.fit(train[predictors],train[target])"
      ],
      "execution_count": 39,
      "outputs": [
        {
          "output_type": "stream",
          "text": [
            "/usr/local/lib/python3.7/dist-packages/sklearn/model_selection/_search.py:823: FutureWarning: The parameter 'iid' is deprecated in 0.22 and will be removed in 0.24.\n",
            "  \"removed in 0.24.\", FutureWarning\n"
          ],
          "name": "stderr"
        },
        {
          "output_type": "execute_result",
          "data": {
            "text/plain": [
              "GridSearchCV(cv=5, error_score=nan,\n",
              "             estimator=XGBClassifier(base_score=0.5, booster='gbtree',\n",
              "                                     colsample_bylevel=1, colsample_bynode=1,\n",
              "                                     colsample_bytree=0.9, gamma=0,\n",
              "                                     learning_rate=0.1, max_delta_step=0,\n",
              "                                     max_depth=3, min_child_weight=2,\n",
              "                                     missing=None, n_estimators=177, n_jobs=1,\n",
              "                                     nthread=4, objective='binary:logistic',\n",
              "                                     random_state=0, reg_alpha=0, reg_lambda=1,\n",
              "                                     scale_pos_weight=1, seed=27, silent=None,\n",
              "                                     subsample=0.7, verbosity=1),\n",
              "             iid=False, n_jobs=4,\n",
              "             param_grid={'colsample_bytree': [0.8, 0.85, 0.9, 0.95],\n",
              "                         'subsample': [0.65, 0.7, 0.75]},\n",
              "             pre_dispatch='2*n_jobs', refit=True, return_train_score=False,\n",
              "             scoring='roc_auc', verbose=0)"
            ]
          },
          "metadata": {
            "tags": []
          },
          "execution_count": 39
        }
      ]
    },
    {
      "cell_type": "code",
      "metadata": {
        "colab": {
          "base_uri": "https://localhost:8080/"
        },
        "id": "svZ6qG9U7NAX",
        "outputId": "2805a91c-3a47-4a5a-d663-df8b8f582a96"
      },
      "source": [
        "gsearch5.cv_results_['mean_test_score'], gsearch5.cv_results_['std_test_score'], gsearch5.cv_results_['params'], gsearch5.best_params_, gsearch5.best_score_"
      ],
      "execution_count": 40,
      "outputs": [
        {
          "output_type": "execute_result",
          "data": {
            "text/plain": [
              "(array([0.82109931, 0.81923352, 0.82113027, 0.81709064, 0.82121364,\n",
              "        0.81862575, 0.82006677, 0.8217956 , 0.81937365, 0.81582706,\n",
              "        0.81769047, 0.82089089]),\n",
              " array([0.01824873, 0.01742119, 0.01794314, 0.01787033, 0.02024535,\n",
              "        0.01636743, 0.01899694, 0.01874846, 0.01812128, 0.01714267,\n",
              "        0.01964238, 0.01800203]),\n",
              " [{'colsample_bytree': 0.8, 'subsample': 0.65},\n",
              "  {'colsample_bytree': 0.8, 'subsample': 0.7},\n",
              "  {'colsample_bytree': 0.8, 'subsample': 0.75},\n",
              "  {'colsample_bytree': 0.85, 'subsample': 0.65},\n",
              "  {'colsample_bytree': 0.85, 'subsample': 0.7},\n",
              "  {'colsample_bytree': 0.85, 'subsample': 0.75},\n",
              "  {'colsample_bytree': 0.9, 'subsample': 0.65},\n",
              "  {'colsample_bytree': 0.9, 'subsample': 0.7},\n",
              "  {'colsample_bytree': 0.9, 'subsample': 0.75},\n",
              "  {'colsample_bytree': 0.95, 'subsample': 0.65},\n",
              "  {'colsample_bytree': 0.95, 'subsample': 0.7},\n",
              "  {'colsample_bytree': 0.95, 'subsample': 0.75}],\n",
              " {'colsample_bytree': 0.9, 'subsample': 0.7},\n",
              " 0.8217956046747966)"
            ]
          },
          "metadata": {
            "tags": []
          },
          "execution_count": 40
        }
      ]
    },
    {
      "cell_type": "markdown",
      "metadata": {
        "id": "YAeDTbUA4g5R"
      },
      "source": [
        "Again we got the same values as before. Thus the optimum values are:\n",
        "\n",
        " - subsample: 0.9\n",
        " - colsample_bytree: 0.7"
      ]
    },
    {
      "cell_type": "markdown",
      "metadata": {
        "id": "UT4MY7ou4kgg"
      },
      "source": [
        "## Step 5: Tuning Regularization Parameters\n",
        "\n",
        "Next step is to apply regularization to reduce overfitting. Though many people don’t use this parameters much as gamma provides a substantial way of controlling complexity. But we should always try it. I’ll tune ‘reg_alpha’ value here and leave it upto you to try different values of ‘reg_lambda’."
      ]
    },
    {
      "cell_type": "code",
      "metadata": {
        "colab": {
          "base_uri": "https://localhost:8080/"
        },
        "id": "PwpGQKKng5Dq",
        "outputId": "18dd89ec-e289-4fb8-e39b-5bf4fdf37e41"
      },
      "source": [
        "param_test6 = {\n",
        " 'reg_alpha':[1e-5, 1e-2, 0.1, 1, 100]\n",
        "}\n",
        "\n",
        "gsearch6 = GridSearchCV(estimator = XGBClassifier( \n",
        "    learning_rate =0.1, \n",
        "    n_estimators=177, \n",
        "    max_depth=3,\n",
        "    min_child_weight=2, \n",
        "    gamma=0, \n",
        "    subsample=0.9, \n",
        "    colsample_bytree=0.7,\n",
        "    objective= 'binary:logistic', nthread=4, scale_pos_weight=1,seed=27), \n",
        "    param_grid = param_test6, scoring='roc_auc',n_jobs=4,iid=False, cv=5)\n",
        "\n",
        "gsearch6.fit(train[predictors],train[target])\n",
        "\n",
        "gsearch6.cv_results_['mean_test_score'], gsearch6.cv_results_['std_test_score'], gsearch6.cv_results_['params'], gsearch6.best_params_, gsearch6.best_score_"
      ],
      "execution_count": 41,
      "outputs": [
        {
          "output_type": "stream",
          "text": [
            "/usr/local/lib/python3.7/dist-packages/sklearn/model_selection/_search.py:823: FutureWarning: The parameter 'iid' is deprecated in 0.22 and will be removed in 0.24.\n",
            "  \"removed in 0.24.\", FutureWarning\n"
          ],
          "name": "stderr"
        },
        {
          "output_type": "execute_result",
          "data": {
            "text/plain": [
              "(array([0.81995879, 0.81980397, 0.81876667, 0.81769444, 0.75746832]),\n",
              " array([0.01759292, 0.01751523, 0.01908733, 0.01974357, 0.02056078]),\n",
              " [{'reg_alpha': 1e-05},\n",
              "  {'reg_alpha': 0.01},\n",
              "  {'reg_alpha': 0.1},\n",
              "  {'reg_alpha': 1},\n",
              "  {'reg_alpha': 100}],\n",
              " {'reg_alpha': 1e-05},\n",
              " 0.8199587938262196)"
            ]
          },
          "metadata": {
            "tags": []
          },
          "execution_count": 41
        }
      ]
    },
    {
      "cell_type": "markdown",
      "metadata": {
        "id": "P497N5gG4zI1"
      },
      "source": [
        "We can see that the CV score is less than the previous case. But the values tried are very widespread, we should try values closer to the optimum here (0.01) to see if we get something better.\n",
        "\n",
        "### 缩小范围, 调高精度"
      ]
    },
    {
      "cell_type": "code",
      "metadata": {
        "colab": {
          "base_uri": "https://localhost:8080/"
        },
        "id": "4YRwi8JTg5BM",
        "outputId": "277fd642-9d80-481e-b873-a5eb347d2511"
      },
      "source": [
        "param_test7 = {\n",
        " 'reg_alpha':[0, 0.0001, 0.00001, 0.000001, 0.001, 0.005, 0.01]\n",
        "}\n",
        "gsearch7 = GridSearchCV(estimator = XGBClassifier( \n",
        "    learning_rate =0.1, \n",
        "    n_estimators=177, \n",
        "    max_depth=3,\n",
        "    min_child_weight=2, \n",
        "    gamma=0, \n",
        "    subsample=0.9, \n",
        "    colsample_bytree=0.7,\n",
        "    objective= 'binary:logistic', nthread=4, scale_pos_weight=1,seed=27), \n",
        "    param_grid = param_test7, scoring='roc_auc',n_jobs=4,iid=False, cv=5)\n",
        "\n",
        "gsearch7.fit(train[predictors],train[target])\n",
        "\n",
        "gsearch7.cv_results_['mean_test_score'], gsearch7.cv_results_['std_test_score'], gsearch7.cv_results_['params'], gsearch7.best_params_, gsearch7.best_score_"
      ],
      "execution_count": 42,
      "outputs": [
        {
          "output_type": "stream",
          "text": [
            "/usr/local/lib/python3.7/dist-packages/sklearn/model_selection/_search.py:823: FutureWarning: The parameter 'iid' is deprecated in 0.22 and will be removed in 0.24.\n",
            "  \"removed in 0.24.\", FutureWarning\n"
          ],
          "name": "stderr"
        },
        {
          "output_type": "execute_result",
          "data": {
            "text/plain": [
              "(array([0.81995879, 0.819958  , 0.81995879, 0.81995879, 0.81793977,\n",
              "        0.81826807, 0.81980397]),\n",
              " array([0.01759292, 0.01759366, 0.01759292, 0.01759292, 0.01818092,\n",
              "        0.01752116, 0.01751523]),\n",
              " [{'reg_alpha': 0},\n",
              "  {'reg_alpha': 0.0001},\n",
              "  {'reg_alpha': 1e-05},\n",
              "  {'reg_alpha': 1e-06},\n",
              "  {'reg_alpha': 0.001},\n",
              "  {'reg_alpha': 0.005},\n",
              "  {'reg_alpha': 0.01}],\n",
              " {'reg_alpha': 0},\n",
              " 0.8199587938262196)"
            ]
          },
          "metadata": {
            "tags": []
          },
          "execution_count": 42
        }
      ]
    },
    {
      "cell_type": "markdown",
      "metadata": {
        "id": "d_FPSbQG4-9b"
      },
      "source": [
        "You can see that we got a better CV. Now we can apply this regularization in the model and look at the impact:"
      ]
    },
    {
      "cell_type": "code",
      "metadata": {
        "colab": {
          "base_uri": "https://localhost:8080/",
          "height": 509
        },
        "id": "_T-LLc6Hg49x",
        "outputId": "185c1296-b55b-46b9-bafa-4bc2afaf462e"
      },
      "source": [
        "xgb3 = XGBClassifier(\n",
        "    learning_rate =0.1,\n",
        "    n_estimators=1000,\n",
        "    max_depth=3,\n",
        "    min_child_weight=2,\n",
        "    gamma=0, \n",
        "    subsample=0.9,\n",
        "    colsample_bytree=0.7,\n",
        "    reg_alpha=0,\n",
        "    objective= 'binary:logistic',\n",
        "    nthread=4,\n",
        "    scale_pos_weight=1,\n",
        "    seed=27)\n",
        "\n",
        "modelfit(xgb3, train, predictors)"
      ],
      "execution_count": 44,
      "outputs": [
        {
          "output_type": "stream",
          "text": [
            "\n",
            "Model Report\n",
            "Accuracy : 0.984\n",
            "AUC Score (Train): 0.907863\n"
          ],
          "name": "stdout"
        },
        {
          "output_type": "display_data",
          "data": {
            "image/png": "[encoded data removed]",
            "text/plain": [
              "<Figure size 864x288 with 1 Axes>"
            ]
          },
          "metadata": {
            "tags": [],
            "needs_background": "light"
          }
        }
      ]
    },
    {
      "cell_type": "markdown",
      "metadata": {
        "id": "GyBAK2sh5G23"
      },
      "source": [
        "Again we can see slight improvement in the score.\n",
        "\n",
        "## Step 6: Reducing Learning Rate\n",
        "\n",
        "Lastly, we should lower the learning rate and add more trees. Lets use the cv function of XGBoost to do the job again.    \n",
        "**对于learning rate其实不用tuning，之间减小就好了**"
      ]
    },
    {
      "cell_type": "code",
      "metadata": {
        "colab": {
          "base_uri": "https://localhost:8080/",
          "height": 509
        },
        "id": "9D7Lf-AJg46z",
        "outputId": "c71365a0-56ae-493a-c05f-d7c197153be8"
      },
      "source": [
        "xgb4 = XGBClassifier(\n",
        "    learning_rate =0.01,\n",
        "    n_estimators=1000,\n",
        "    max_depth=3,\n",
        "    min_child_weight=2,\n",
        "    gamma=0, \n",
        "    subsample=0.9,\n",
        "    colsample_bytree=0.7,\n",
        "    reg_alpha=0,\n",
        "    objective= 'binary:logistic',\n",
        "    nthread=4,\n",
        "    scale_pos_weight=1,\n",
        "    seed=27)\n",
        "\n",
        "modelfit(xgb4, train, predictors)"
      ],
      "execution_count": 45,
      "outputs": [
        {
          "output_type": "stream",
          "text": [
            "\n",
            "Model Report\n",
            "Accuracy : 0.984\n",
            "AUC Score (Train): 0.877533\n"
          ],
          "name": "stdout"
        },
        {
          "output_type": "display_data",
          "data": {
            "image/png": "[encoded data removed]",
            "text/plain": [
              "<Figure size 864x288 with 1 Axes>"
            ]
          },
          "metadata": {
            "tags": [],
            "needs_background": "light"
          }
        }
      ]
    },
    {
      "cell_type": "code",
      "metadata": {
        "id": "jYWqJseDg44T"
      },
      "source": [
        ""
      ],
      "execution_count": null,
      "outputs": []
    },
    {
      "cell_type": "code",
      "metadata": {
        "id": "5RiGKrX8g41r"
      },
      "source": [
        ""
      ],
      "execution_count": null,
      "outputs": []
    },
    {
      "cell_type": "code",
      "metadata": {
        "id": "yu3ufcK2g4nb"
      },
      "source": [
        ""
      ],
      "execution_count": null,
      "outputs": []
    },
    {
      "cell_type": "code",
      "metadata": {
        "id": "i3Nr__Pzg4kx"
      },
      "source": [
        ""
      ],
      "execution_count": null,
      "outputs": []
    },
    {
      "cell_type": "code",
      "metadata": {
        "id": "kBTb4wNeg4h_"
      },
      "source": [
        ""
      ],
      "execution_count": null,
      "outputs": []
    },
    {
      "cell_type": "code",
      "metadata": {
        "id": "rh9QMuljg4fd"
      },
      "source": [
        ""
      ],
      "execution_count": null,
      "outputs": []
    },
    {
      "cell_type": "code",
      "metadata": {
        "id": "XO2Tp1A_g4cO"
      },
      "source": [
        ""
      ],
      "execution_count": null,
      "outputs": []
    },
    {
      "cell_type": "code",
      "metadata": {
        "id": "QOYNzKD9g4ZM"
      },
      "source": [
        ""
      ],
      "execution_count": null,
      "outputs": []
    },
    {
      "cell_type": "code",
      "metadata": {
        "id": "x0VeYXnng4WH"
      },
      "source": [
        ""
      ],
      "execution_count": null,
      "outputs": []
    },
    {
      "cell_type": "code",
      "metadata": {
        "id": "Jeq8QXqMg2kA"
      },
      "source": [
        "x"
      ],
      "execution_count": null,
      "outputs": []
    }
  ]
}