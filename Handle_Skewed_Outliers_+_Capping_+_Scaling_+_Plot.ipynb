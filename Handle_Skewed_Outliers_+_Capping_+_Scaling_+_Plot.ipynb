{
  "nbformat": 4,
  "nbformat_minor": 0,
  "metadata": {
    "colab": {
      "name": "Handle Skewed Outliers + Capping + Scaling + Plot.ipynb",
      "provenance": [],
      "collapsed_sections": [],
      "authorship_tag": "ABX9TyO/Or+uRzDH0HFdvL5HmowD",
      "include_colab_link": true
    },
    "kernelspec": {
      "name": "python3",
      "display_name": "Python 3"
    },
    "language_info": {
      "name": "python"
    }
  },
  "cells": [
    {
      "cell_type": "markdown",
      "metadata": {
        "id": "view-in-github",
        "colab_type": "text"
      },
      "source": [
        "<a href=\"https://colab.research.google.com/github/dk-wei/ml-algo-implementation/blob/main/Handle_Skewed_Outliers_%2B_Capping_%2B_Scaling_%2B_Plot.ipynb\" target=\"_parent\"><img src=\"https://colab.research.google.com/assets/colab-badge.svg\" alt=\"Open In Colab\"/></a>"
      ]
    },
    {
      "cell_type": "markdown",
      "metadata": {
        "id": "F1BDdKunqdbw"
      },
      "source": [
        "参考资料：[How to Handle Outliers](https://www.linkedin.com/pulse/how-handle-outliers-piyush-kumar/)\n",
        "\n",
        "\n",
        "我们常常遇到的情况就是数据里面，大的特别大，小的特别小，放在一块儿作图就会特别的skewed. 我们可以找出例如80%percentile的值，或者1.5*(IOR, 75 percentile - 25 percentile)的值，然后进行capping，也就是替换大于的值为capping值。\n",
        "\n",
        "步骤： \n",
        "1. 寻找threshold\n",
        "  1. Percentile Capping\n",
        "  2. IQR capping\n",
        "2. MinMax Scaling * 100 \n",
        "3. 分箱\n",
        "5. 计数"
      ]
    },
    {
      "cell_type": "code",
      "metadata": {
        "id": "0tSXRxU2UKEg"
      },
      "source": [
        "import pandas as pd\n",
        "import seaborn as sns\n",
        "from matplotlib import pyplot as plt"
      ],
      "execution_count": 361,
      "outputs": []
    },
    {
      "cell_type": "code",
      "metadata": {
        "colab": {
          "base_uri": "https://localhost:8080/",
          "height": 359
        },
        "id": "TwIjfEG-O4Hr",
        "outputId": "b0127226-5f2f-4555-dce0-ed5c854262dc"
      },
      "source": [
        "df = pd.DataFrame({\n",
        "               'A':[100,300,500,600,700,900,1300, 2000, 5000, 100000],\n",
        "               'B':[1,2,3,4,5,6,7, 10, 9, 12],\n",
        "             })\n",
        "\n",
        "df"
      ],
      "execution_count": 362,
      "outputs": [
        {
          "output_type": "execute_result",
          "data": {
            "text/html": [
              "<div>\n",
              "<style scoped>\n",
              "    .dataframe tbody tr th:only-of-type {\n",
              "        vertical-align: middle;\n",
              "    }\n",
              "\n",
              "    .dataframe tbody tr th {\n",
              "        vertical-align: top;\n",
              "    }\n",
              "\n",
              "    .dataframe thead th {\n",
              "        text-align: right;\n",
              "    }\n",
              "</style>\n",
              "<table border=\"1\" class=\"dataframe\">\n",
              "  <thead>\n",
              "    <tr style=\"text-align: right;\">\n",
              "      <th></th>\n",
              "      <th>A</th>\n",
              "      <th>B</th>\n",
              "    </tr>\n",
              "  </thead>\n",
              "  <tbody>\n",
              "    <tr>\n",
              "      <th>0</th>\n",
              "      <td>100</td>\n",
              "      <td>1</td>\n",
              "    </tr>\n",
              "    <tr>\n",
              "      <th>1</th>\n",
              "      <td>300</td>\n",
              "      <td>2</td>\n",
              "    </tr>\n",
              "    <tr>\n",
              "      <th>2</th>\n",
              "      <td>500</td>\n",
              "      <td>3</td>\n",
              "    </tr>\n",
              "    <tr>\n",
              "      <th>3</th>\n",
              "      <td>600</td>\n",
              "      <td>4</td>\n",
              "    </tr>\n",
              "    <tr>\n",
              "      <th>4</th>\n",
              "      <td>700</td>\n",
              "      <td>5</td>\n",
              "    </tr>\n",
              "    <tr>\n",
              "      <th>5</th>\n",
              "      <td>900</td>\n",
              "      <td>6</td>\n",
              "    </tr>\n",
              "    <tr>\n",
              "      <th>6</th>\n",
              "      <td>1300</td>\n",
              "      <td>7</td>\n",
              "    </tr>\n",
              "    <tr>\n",
              "      <th>7</th>\n",
              "      <td>2000</td>\n",
              "      <td>10</td>\n",
              "    </tr>\n",
              "    <tr>\n",
              "      <th>8</th>\n",
              "      <td>5000</td>\n",
              "      <td>9</td>\n",
              "    </tr>\n",
              "    <tr>\n",
              "      <th>9</th>\n",
              "      <td>100000</td>\n",
              "      <td>12</td>\n",
              "    </tr>\n",
              "  </tbody>\n",
              "</table>\n",
              "</div>"
            ],
            "text/plain": [
              "        A   B\n",
              "0     100   1\n",
              "1     300   2\n",
              "2     500   3\n",
              "3     600   4\n",
              "4     700   5\n",
              "5     900   6\n",
              "6    1300   7\n",
              "7    2000  10\n",
              "8    5000   9\n",
              "9  100000  12"
            ]
          },
          "metadata": {
            "tags": []
          },
          "execution_count": 362
        }
      ]
    },
    {
      "cell_type": "code",
      "metadata": {
        "colab": {
          "base_uri": "https://localhost:8080/",
          "height": 514
        },
        "id": "xomKNi5A5JWM",
        "outputId": "7d920a49-cb8f-49b8-f140-8ba99cc60f85"
      },
      "source": [
        "plt.figure(figsize=(15,8))\n",
        "\n",
        "sns.violinplot(x=df['A'])"
      ],
      "execution_count": 363,
      "outputs": [
        {
          "output_type": "execute_result",
          "data": {
            "text/plain": [
              "<matplotlib.axes._subplots.AxesSubplot at 0x7f0d47fbd210>"
            ]
          },
          "metadata": {
            "tags": []
          },
          "execution_count": 363
        },
        {
          "output_type": "display_data",
          "data": {
            "image/png": "[encoded data removed]",
            "text/plain": [
              "<Figure size 1080x576 with 1 Axes>"
            ]
          },
          "metadata": {
            "tags": [],
            "needs_background": "light"
          }
        }
      ]
    },
    {
      "cell_type": "markdown",
      "metadata": {
        "id": "rBoG8mvWk0bS"
      },
      "source": [
        "可以看到col A的最大值为100000，远远大于其他的值，下一步可以定义threshold。"
      ]
    },
    {
      "cell_type": "code",
      "metadata": {
        "colab": {
          "base_uri": "https://localhost:8080/"
        },
        "id": "zXtB-rnTlrgx",
        "outputId": "f830e975-1106-42c2-d54c-b11b56d58719"
      },
      "source": [
        "# 方法1： 简单粗暴\n",
        "threshold = df.A.quantile(0.80)\n",
        "\n",
        "threshold"
      ],
      "execution_count": 364,
      "outputs": [
        {
          "output_type": "execute_result",
          "data": {
            "text/plain": [
              "2600.0000000000005"
            ]
          },
          "metadata": {
            "tags": []
          },
          "execution_count": 364
        }
      ]
    },
    {
      "cell_type": "code",
      "metadata": {
        "colab": {
          "base_uri": "https://localhost:8080/"
        },
        "id": "o7IFHNiHwCVm",
        "outputId": "c851ac81-401b-4ef0-ae2e-bcecc70a8a39"
      },
      "source": [
        "# 方法2：根据2*IQR \n",
        "threshold = df.A.quantile(.75) + 1 * (df.A.quantile(.75) - df.A.quantile(.25))\n",
        "\n",
        "threshold \n"
      ],
      "execution_count": 365,
      "outputs": [
        {
          "output_type": "execute_result",
          "data": {
            "text/plain": [
              "3125.0"
            ]
          },
          "metadata": {
            "tags": []
          },
          "execution_count": 365
        }
      ]
    },
    {
      "cell_type": "markdown",
      "metadata": {
        "id": "lBErVEDl0b8x"
      },
      "source": [
        "下面进行capping，也就是所有大于threshold的数会被threshold给replace, 然后进行minmax scaling"
      ]
    },
    {
      "cell_type": "code",
      "metadata": {
        "id": "1d8jf26ElzZ0"
      },
      "source": [
        "df['A_clip'] = df['A'].clip(upper = threshold)"
      ],
      "execution_count": 366,
      "outputs": []
    },
    {
      "cell_type": "code",
      "metadata": {
        "id": "NIQ89RoMO_Xj"
      },
      "source": [
        "# Using sklearn\n",
        "from sklearn.preprocessing import MinMaxScaler\n",
        "\n",
        "scaler = MinMaxScaler() \n",
        "arr_scaled = scaler.fit_transform(df[['A_clip']])"
      ],
      "execution_count": 367,
      "outputs": []
    },
    {
      "cell_type": "code",
      "metadata": {
        "id": "IxJztZQXbDtj"
      },
      "source": [
        "df[['A_clip_scaled']] = arr_scaled"
      ],
      "execution_count": 368,
      "outputs": []
    },
    {
      "cell_type": "code",
      "metadata": {
        "id": "UdABhrN2VAVB"
      },
      "source": [
        "df['A_scaled_clip_100'] = pd.DataFrame(scaler.fit_transform(df[['A_clip_scaled']])*100)"
      ],
      "execution_count": 369,
      "outputs": []
    },
    {
      "cell_type": "code",
      "metadata": {
        "colab": {
          "base_uri": "https://localhost:8080/",
          "height": 515
        },
        "id": "_cfv1wlDjwgn",
        "outputId": "59e1042f-e213-4df7-d7ac-9eb6493c7451"
      },
      "source": [
        "plt.figure(figsize=(15,8))\n",
        "\n",
        "sns.violinplot(x=df['A_scaled_clip_100'])"
      ],
      "execution_count": 370,
      "outputs": [
        {
          "output_type": "execute_result",
          "data": {
            "text/plain": [
              "<matplotlib.axes._subplots.AxesSubplot at 0x7f0d47fbd290>"
            ]
          },
          "metadata": {
            "tags": []
          },
          "execution_count": 370
        },
        {
          "output_type": "display_data",
          "data": {
            "image/png": "[encoded data removed]",
            "text/plain": [
              "<Figure size 1080x576 with 1 Axes>"
            ]
          },
          "metadata": {
            "tags": [],
            "needs_background": "light"
          }
        }
      ]
    },
    {
      "cell_type": "code",
      "metadata": {
        "colab": {
          "base_uri": "https://localhost:8080/"
        },
        "id": "8gpUlgh0a1dr",
        "outputId": "a7dfab4a-d8b9-4ca4-c84d-fafa3b03b902"
      },
      "source": [
        "df.A_scaled_clip_100.describe()"
      ],
      "execution_count": 371,
      "outputs": [
        {
          "output_type": "execute_result",
          "data": {
            "text/plain": [
              "count     10.000000\n",
              "mean      38.512397\n",
              "std       36.925289\n",
              "min        0.000000\n",
              "25%       14.049587\n",
              "50%       23.140496\n",
              "75%       57.024793\n",
              "max      100.000000\n",
              "Name: A_scaled_clip_100, dtype: float64"
            ]
          },
          "metadata": {
            "tags": []
          },
          "execution_count": 371
        }
      ]
    },
    {
      "cell_type": "code",
      "metadata": {
        "colab": {
          "base_uri": "https://localhost:8080/",
          "height": 359
        },
        "id": "xOoXGdkOVSF2",
        "outputId": "c8c60018-c826-462c-c675-dc1895d20f39"
      },
      "source": [
        "df"
      ],
      "execution_count": 372,
      "outputs": [
        {
          "output_type": "execute_result",
          "data": {
            "text/html": [
              "<div>\n",
              "<style scoped>\n",
              "    .dataframe tbody tr th:only-of-type {\n",
              "        vertical-align: middle;\n",
              "    }\n",
              "\n",
              "    .dataframe tbody tr th {\n",
              "        vertical-align: top;\n",
              "    }\n",
              "\n",
              "    .dataframe thead th {\n",
              "        text-align: right;\n",
              "    }\n",
              "</style>\n",
              "<table border=\"1\" class=\"dataframe\">\n",
              "  <thead>\n",
              "    <tr style=\"text-align: right;\">\n",
              "      <th></th>\n",
              "      <th>A</th>\n",
              "      <th>B</th>\n",
              "      <th>A_clip</th>\n",
              "      <th>A_clip_scaled</th>\n",
              "      <th>A_scaled_clip_100</th>\n",
              "    </tr>\n",
              "  </thead>\n",
              "  <tbody>\n",
              "    <tr>\n",
              "      <th>0</th>\n",
              "      <td>100</td>\n",
              "      <td>1</td>\n",
              "      <td>100</td>\n",
              "      <td>0.000000</td>\n",
              "      <td>0.000000</td>\n",
              "    </tr>\n",
              "    <tr>\n",
              "      <th>1</th>\n",
              "      <td>300</td>\n",
              "      <td>2</td>\n",
              "      <td>300</td>\n",
              "      <td>0.066116</td>\n",
              "      <td>6.611570</td>\n",
              "    </tr>\n",
              "    <tr>\n",
              "      <th>2</th>\n",
              "      <td>500</td>\n",
              "      <td>3</td>\n",
              "      <td>500</td>\n",
              "      <td>0.132231</td>\n",
              "      <td>13.223140</td>\n",
              "    </tr>\n",
              "    <tr>\n",
              "      <th>3</th>\n",
              "      <td>600</td>\n",
              "      <td>4</td>\n",
              "      <td>600</td>\n",
              "      <td>0.165289</td>\n",
              "      <td>16.528926</td>\n",
              "    </tr>\n",
              "    <tr>\n",
              "      <th>4</th>\n",
              "      <td>700</td>\n",
              "      <td>5</td>\n",
              "      <td>700</td>\n",
              "      <td>0.198347</td>\n",
              "      <td>19.834711</td>\n",
              "    </tr>\n",
              "    <tr>\n",
              "      <th>5</th>\n",
              "      <td>900</td>\n",
              "      <td>6</td>\n",
              "      <td>900</td>\n",
              "      <td>0.264463</td>\n",
              "      <td>26.446281</td>\n",
              "    </tr>\n",
              "    <tr>\n",
              "      <th>6</th>\n",
              "      <td>1300</td>\n",
              "      <td>7</td>\n",
              "      <td>1300</td>\n",
              "      <td>0.396694</td>\n",
              "      <td>39.669421</td>\n",
              "    </tr>\n",
              "    <tr>\n",
              "      <th>7</th>\n",
              "      <td>2000</td>\n",
              "      <td>10</td>\n",
              "      <td>2000</td>\n",
              "      <td>0.628099</td>\n",
              "      <td>62.809917</td>\n",
              "    </tr>\n",
              "    <tr>\n",
              "      <th>8</th>\n",
              "      <td>5000</td>\n",
              "      <td>9</td>\n",
              "      <td>3125</td>\n",
              "      <td>1.000000</td>\n",
              "      <td>100.000000</td>\n",
              "    </tr>\n",
              "    <tr>\n",
              "      <th>9</th>\n",
              "      <td>100000</td>\n",
              "      <td>12</td>\n",
              "      <td>3125</td>\n",
              "      <td>1.000000</td>\n",
              "      <td>100.000000</td>\n",
              "    </tr>\n",
              "  </tbody>\n",
              "</table>\n",
              "</div>"
            ],
            "text/plain": [
              "        A   B  A_clip  A_clip_scaled  A_scaled_clip_100\n",
              "0     100   1     100       0.000000           0.000000\n",
              "1     300   2     300       0.066116           6.611570\n",
              "2     500   3     500       0.132231          13.223140\n",
              "3     600   4     600       0.165289          16.528926\n",
              "4     700   5     700       0.198347          19.834711\n",
              "5     900   6     900       0.264463          26.446281\n",
              "6    1300   7    1300       0.396694          39.669421\n",
              "7    2000  10    2000       0.628099          62.809917\n",
              "8    5000   9    3125       1.000000         100.000000\n",
              "9  100000  12    3125       1.000000         100.000000"
            ]
          },
          "metadata": {
            "tags": []
          },
          "execution_count": 372
        }
      ]
    },
    {
      "cell_type": "code",
      "metadata": {
        "colab": {
          "base_uri": "https://localhost:8080/",
          "height": 500
        },
        "id": "fJvlLK1FclpK",
        "outputId": "8e775a6c-6a67-4e86-f42c-d009a5bcbfdd"
      },
      "source": [
        "plt.figure(figsize=(15,8))\n",
        "\n",
        "df.A_scaled_clip_100.plot.kde(bw_method=0.5)"
      ],
      "execution_count": 373,
      "outputs": [
        {
          "output_type": "execute_result",
          "data": {
            "text/plain": [
              "<matplotlib.axes._subplots.AxesSubplot at 0x7f0d47e83f50>"
            ]
          },
          "metadata": {
            "tags": []
          },
          "execution_count": 373
        },
        {
          "output_type": "display_data",
          "data": {
            "image/png": "[encoded data removed]",
            "text/plain": [
              "<Figure size 1080x576 with 1 Axes>"
            ]
          },
          "metadata": {
            "tags": [],
            "needs_background": "light"
          }
        }
      ]
    },
    {
      "cell_type": "code",
      "metadata": {
        "colab": {
          "base_uri": "https://localhost:8080/",
          "height": 515
        },
        "id": "gfej40JQPQtG",
        "outputId": "016d5235-35d8-4c32-9943-ed6ab699832e"
      },
      "source": [
        "plt.figure(figsize=(15,8))\n",
        "\n",
        "sns.violinplot(x=df['A_scaled_clip_100'])"
      ],
      "execution_count": 374,
      "outputs": [
        {
          "output_type": "execute_result",
          "data": {
            "text/plain": [
              "<matplotlib.axes._subplots.AxesSubplot at 0x7f0d47e08410>"
            ]
          },
          "metadata": {
            "tags": []
          },
          "execution_count": 374
        },
        {
          "output_type": "display_data",
          "data": {
            "image/png": "[encoded data removed]",
            "text/plain": [
              "<Figure size 1080x576 with 1 Axes>"
            ]
          },
          "metadata": {
            "tags": [],
            "needs_background": "light"
          }
        }
      ]
    },
    {
      "cell_type": "markdown",
      "metadata": {
        "id": "2zWEoPcu4ZAT"
      },
      "source": [
        "下一步开始binnization，也就是分箱。注意我们这里的`below 20`和`above 80` 很有讲究"
      ]
    },
    {
      "cell_type": "code",
      "metadata": {
        "id": "ts7TuigkPQnr"
      },
      "source": [
        "labels = ['below 20', '20-40', '40-60', '60-80','above 80']\n",
        "bins = [float('-inf'), 20, 40, 60, 80, float('inf')]"
      ],
      "execution_count": 375,
      "outputs": []
    },
    {
      "cell_type": "code",
      "metadata": {
        "id": "O7IOY8U1PQjD"
      },
      "source": [
        "df['A_scaled_clip_100_bin'] = pd.cut(df.A_scaled_clip_100, bins=bins, labels=labels)"
      ],
      "execution_count": 376,
      "outputs": []
    },
    {
      "cell_type": "code",
      "metadata": {
        "colab": {
          "base_uri": "https://localhost:8080/",
          "height": 359
        },
        "id": "RcdYKI87e_6E",
        "outputId": "f150ae66-1564-4694-dc7f-29554114c2b4"
      },
      "source": [
        "df"
      ],
      "execution_count": 377,
      "outputs": [
        {
          "output_type": "execute_result",
          "data": {
            "text/html": [
              "<div>\n",
              "<style scoped>\n",
              "    .dataframe tbody tr th:only-of-type {\n",
              "        vertical-align: middle;\n",
              "    }\n",
              "\n",
              "    .dataframe tbody tr th {\n",
              "        vertical-align: top;\n",
              "    }\n",
              "\n",
              "    .dataframe thead th {\n",
              "        text-align: right;\n",
              "    }\n",
              "</style>\n",
              "<table border=\"1\" class=\"dataframe\">\n",
              "  <thead>\n",
              "    <tr style=\"text-align: right;\">\n",
              "      <th></th>\n",
              "      <th>A</th>\n",
              "      <th>B</th>\n",
              "      <th>A_clip</th>\n",
              "      <th>A_clip_scaled</th>\n",
              "      <th>A_scaled_clip_100</th>\n",
              "      <th>A_scaled_clip_100_bin</th>\n",
              "    </tr>\n",
              "  </thead>\n",
              "  <tbody>\n",
              "    <tr>\n",
              "      <th>0</th>\n",
              "      <td>100</td>\n",
              "      <td>1</td>\n",
              "      <td>100</td>\n",
              "      <td>0.000000</td>\n",
              "      <td>0.000000</td>\n",
              "      <td>below 20</td>\n",
              "    </tr>\n",
              "    <tr>\n",
              "      <th>1</th>\n",
              "      <td>300</td>\n",
              "      <td>2</td>\n",
              "      <td>300</td>\n",
              "      <td>0.066116</td>\n",
              "      <td>6.611570</td>\n",
              "      <td>below 20</td>\n",
              "    </tr>\n",
              "    <tr>\n",
              "      <th>2</th>\n",
              "      <td>500</td>\n",
              "      <td>3</td>\n",
              "      <td>500</td>\n",
              "      <td>0.132231</td>\n",
              "      <td>13.223140</td>\n",
              "      <td>below 20</td>\n",
              "    </tr>\n",
              "    <tr>\n",
              "      <th>3</th>\n",
              "      <td>600</td>\n",
              "      <td>4</td>\n",
              "      <td>600</td>\n",
              "      <td>0.165289</td>\n",
              "      <td>16.528926</td>\n",
              "      <td>below 20</td>\n",
              "    </tr>\n",
              "    <tr>\n",
              "      <th>4</th>\n",
              "      <td>700</td>\n",
              "      <td>5</td>\n",
              "      <td>700</td>\n",
              "      <td>0.198347</td>\n",
              "      <td>19.834711</td>\n",
              "      <td>below 20</td>\n",
              "    </tr>\n",
              "    <tr>\n",
              "      <th>5</th>\n",
              "      <td>900</td>\n",
              "      <td>6</td>\n",
              "      <td>900</td>\n",
              "      <td>0.264463</td>\n",
              "      <td>26.446281</td>\n",
              "      <td>20-40</td>\n",
              "    </tr>\n",
              "    <tr>\n",
              "      <th>6</th>\n",
              "      <td>1300</td>\n",
              "      <td>7</td>\n",
              "      <td>1300</td>\n",
              "      <td>0.396694</td>\n",
              "      <td>39.669421</td>\n",
              "      <td>20-40</td>\n",
              "    </tr>\n",
              "    <tr>\n",
              "      <th>7</th>\n",
              "      <td>2000</td>\n",
              "      <td>10</td>\n",
              "      <td>2000</td>\n",
              "      <td>0.628099</td>\n",
              "      <td>62.809917</td>\n",
              "      <td>60-80</td>\n",
              "    </tr>\n",
              "    <tr>\n",
              "      <th>8</th>\n",
              "      <td>5000</td>\n",
              "      <td>9</td>\n",
              "      <td>3125</td>\n",
              "      <td>1.000000</td>\n",
              "      <td>100.000000</td>\n",
              "      <td>above 80</td>\n",
              "    </tr>\n",
              "    <tr>\n",
              "      <th>9</th>\n",
              "      <td>100000</td>\n",
              "      <td>12</td>\n",
              "      <td>3125</td>\n",
              "      <td>1.000000</td>\n",
              "      <td>100.000000</td>\n",
              "      <td>above 80</td>\n",
              "    </tr>\n",
              "  </tbody>\n",
              "</table>\n",
              "</div>"
            ],
            "text/plain": [
              "        A   B  A_clip  A_clip_scaled  A_scaled_clip_100 A_scaled_clip_100_bin\n",
              "0     100   1     100       0.000000           0.000000              below 20\n",
              "1     300   2     300       0.066116           6.611570              below 20\n",
              "2     500   3     500       0.132231          13.223140              below 20\n",
              "3     600   4     600       0.165289          16.528926              below 20\n",
              "4     700   5     700       0.198347          19.834711              below 20\n",
              "5     900   6     900       0.264463          26.446281                 20-40\n",
              "6    1300   7    1300       0.396694          39.669421                 20-40\n",
              "7    2000  10    2000       0.628099          62.809917                 60-80\n",
              "8    5000   9    3125       1.000000         100.000000              above 80\n",
              "9  100000  12    3125       1.000000         100.000000              above 80"
            ]
          },
          "metadata": {
            "tags": []
          },
          "execution_count": 377
        }
      ]
    },
    {
      "cell_type": "code",
      "metadata": {
        "id": "0g0g6vF8SvTo",
        "colab": {
          "base_uri": "https://localhost:8080/",
          "height": 560
        },
        "outputId": "9f876f05-e5b6-4d05-fbef-5cf844699cfc"
      },
      "source": [
        "df.groupby('A_scaled_clip_100_bin')['A_scaled_clip_100'].count().plot(kind='bar',\n",
        "                                                                            figsize=(10,8),\n",
        "                                                                            title = 'distribution',\n",
        "                                                                            rot = 45)"
      ],
      "execution_count": 378,
      "outputs": [
        {
          "output_type": "execute_result",
          "data": {
            "text/plain": [
              "<matplotlib.axes._subplots.AxesSubplot at 0x7f0d47ddc4d0>"
            ]
          },
          "metadata": {
            "tags": []
          },
          "execution_count": 378
        },
        {
          "output_type": "display_data",
          "data": {
            "image/png": "[encoded data removed]",
            "text/plain": [
              "<Figure size 720x576 with 1 Axes>"
            ]
          },
          "metadata": {
            "tags": [],
            "needs_background": "light"
          }
        }
      ]
    },
    {
      "cell_type": "code",
      "metadata": {
        "id": "mA_VpqCNSvLR"
      },
      "source": [
        ""
      ],
      "execution_count": 378,
      "outputs": []
    },
    {
      "cell_type": "code",
      "metadata": {
        "id": "jFMRqTGC1RGl"
      },
      "source": [
        ""
      ],
      "execution_count": 378,
      "outputs": []
    }
  ]
}