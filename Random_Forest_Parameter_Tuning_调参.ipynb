{
  "nbformat": 4,
  "nbformat_minor": 0,
  "metadata": {
    "colab": {
      "name": "Random Forest Parameter Tuning 调参.ipynb",
      "provenance": [],
      "authorship_tag": "ABX9TyPFBlXgGOmkDoWnXxmxt3VL",
      "include_colab_link": true
    },
    "kernelspec": {
      "name": "python3",
      "display_name": "Python 3"
    },
    "language_info": {
      "name": "python"
    }
  },
  "cells": [
    {
      "cell_type": "markdown",
      "metadata": {
        "id": "view-in-github",
        "colab_type": "text"
      },
      "source": [
        "<a href=\"https://colab.research.google.com/github/dk-wei/ml-algo-implementation/blob/main/Random_Forest_Parameter_Tuning_%E8%B0%83%E5%8F%82.ipynb\" target=\"_parent\"><img src=\"https://colab.research.google.com/assets/colab-badge.svg\" alt=\"Open In Colab\"/></a>"
      ]
    },
    {
      "cell_type": "markdown",
      "metadata": {
        "id": "i62e3YXA0H5G"
      },
      "source": [
        "参考资料1：[Tuning the parameters of your Random Forest model](https://www.analyticsvidhya.com/blog/2015/06/tuning-random-forest-model/)            \n",
        "参考资料2：[sklearn.tree.DecisionTreeClassifier](https://scikit-learn.org/stable/modules/generated/sklearn.tree.DecisionTreeClassifier.html)             \n",
        "参考资料3：[InDepth: Parameter tuning for Decision Tree](https://medium.com/@mohtedibf/indepth-parameter-tuning-for-decision-tree-6753118a03c3#_=_)        \n",
        "参考资料4：[scikit-learn随机森林类库概述](https://www.cnblogs.com/pinard/p/6160412.html)      \n",
        "\n",
        "\n",
        "![](https://www.analyticsvidhya.com/wp-content/uploads/2015/06/random-forest7.png)\n"
      ]
    },
    {
      "cell_type": "markdown",
      "metadata": {
        "id": "D5dJjmSWvnC6"
      },
      "source": [
        "# RF重要的框架参数\n",
        "\n",
        "首先我们关注于RF的Bagging框架的参数。这里可以和GBDT对比来学习。在scikit-learn 梯度提升树(GBDT)调参小结中我们对GBDT的框架参数做了介绍。GBDT的框架参数比较多，重要的有最大迭代器个数，步长和子采样比例，调参起来比较费力。但是RF则比较简单，**这是因为bagging框架里的各个弱学习器之间是没有依赖关系的，这减小的调参的难度**。换句话说，达到同样的调参效果，RF调参时间要比GBDT少一些。\n",
        "\n",
        "下面我来看看RF重要的Bagging框架的参数，由于RandomForestClassifier和RandomForestRegressor参数绝大部分相同，这里会将它们一起讲，不同点会指出。\n",
        "\n",
        "1. `n_estimators`: 也就是最大的弱学习器的个数，也可以说是树的个数。用来做maximium voting的依据。**一般来说n_estimators太小，容易欠拟合，n_estimators太大，容易过拟合**，计算量会太大，并且n_estimators到一定的数量后，再增大n_estimators获得的模型提升会很小，所以一般选择一个适中的数值。默认是100。\n",
        "\n",
        "2. `oob_score` :即是否采用袋外样本来评估模型的好坏。是一种random forest的cross validation,  leave one out validation technique，但是要快很多。默认是False。个人推荐设置为True，因为袋外分数反应了一个模型拟合后的泛化能力。\n",
        "\n",
        "3. `criterion`: 即CART树做划分时对特征的评价标准。分类模型和回归模型的损失函数是不一样的。分类RF对应的CART分类树默认是基尼系数gini,另一个可选择的标准是信息增益。回归RF对应的CART回归树默认是均方差mse，另一个可以选择的标准是绝对值差mae。一般来说选择默认的标准就已经很好的。\n",
        "\n",
        "从上面可以看出， **RF重要的框架参数比较少，主要需要关注的是 n_estimators，即RF最大的决策树个数**。\n"
      ]
    },
    {
      "cell_type": "markdown",
      "metadata": {
        "id": "X6DNCUAlwzFy"
      },
      "source": [
        "![](https://www.analyticsvidhya.com/wp-content/uploads/2015/06/RF.png)\n",
        "\n",
        "# RF决策树参数\n",
        "\n",
        "Scikit-learn [参数说明文档](https://scikit-learn.org/stable/modules/generated/sklearn.tree.DecisionTreeClassifier.html)\n",
        "\n",
        "下面我们再来看RF的决策树参数，它要调参的参数基本和GBDT相同，如下:\n",
        "\n",
        "1. **`max_features`**: RF创建每棵树划分时考虑的最大特征数，可以使用很多种类型的值，默认是\"auto\",意味着每次每棵树划分时最多考虑sqrt(N)个特征；如果是\"log2\"意味着划分时最多考虑log2N个特征；如果是\"sqrt\"或者\"auto\"意味着划分时最多考虑sqrt(N)个特征。如果是整数，代表考虑的特征绝对数。如果是浮点数，代表考虑特征百分比，即考虑（百分比xN）取整后的特征数。其中N为样本总特征数。一般我们用默认的\"auto\"就可以了，如果特征数非常多，我们可以灵活使用刚才描述的其他取值来控制划分时考虑的最大特征数，以控制决策树的生成时间。\n",
        "  - Auto/None : This will simply take all the features which make sense in every tree.Here we simply do not put any restrictions on the individual tree.\n",
        "  - sqrt : This option will take square root of the total number of features in individual run. For instance, if the total number of variables are 100, we can only take 10 of them in individual tree.”log2″ is another similar type of option for max_features.\n",
        "  - 0.2 : This option allows the random forest to take 20% of variables in individual run. We can assign and value in a format “0.x” where we want x% of features to be considered.    \n",
        "  \n",
        "  **max_features越大，模型表现越好，但是速度可能越慢**。\n",
        "\n",
        "2. **`max_depth`**: 决策树最大深度， 默认可以不输入，如果不输入的话，决策树在建立子树的时候不会限制子树的深度。一般来说，数据少或者特征少的时候可以不管这个值。如果模型样本量多，特征也多的情况下，推荐限制这个最大深度，具体的取值取决于数据的分布。**常用的可以取值10-100之间**。\n",
        "\n",
        "3. **`min_samples_split`**: 内部node每次再划分所需最小样本阈值，这个值限制了子树继续划分的条件，如果某节点的样本数少于min_samples_split，也就是不够有区分度，则不会继续再尝试选择最优特征来进行划分。 可以是int也可以是float/fraction。**默认是2，接近于stamp. 如果样本量不大，不需要管这个值。如果样本量数量级非常大，则推荐增大这个值**。\n",
        "\n",
        "4. **`min_samples_leaf`**:leaf node最少样本数， 这个值限制了leaf节点最少的样本数，如果某leaf node数目小于样本数，则会和兄弟节点一起被剪枝。 和上面的`min_samples_split`相似，也是sample 数量，但是区别是这个是最低端leaf的sample数量，leaf也就是base of tree。默认是1,可以输入最少的样本数的整数，或者最少样本数占样本总数的百分比。这个值越大，条件越苛刻，越小越容易split，容易overfitting。**如果样本量不大，不需要管这个值。如果样本量数量级非常大，则推荐增大这个值**。\n",
        "\n",
        "5. `min_weight_fraction_leaf`：叶子节点最小的样本权重和，这个值限制了叶子节点所有样本权重和的最小值，如果小于这个值，则会和兄弟节点一起被剪枝。 默认是0，就是不考虑权重问题。一般来说，如果我们有较多样本有缺失值，或者分类树样本的分布类别偏差很大，就会引入样本权重，这时我们就要注意这个值了。\n",
        "\n",
        "6. `max_leaf_nodes`: 最大叶子节点数，通过限制最大叶子节点数，可以防止过拟合，默认是\"None”，即不限制最大的叶子节点数。如果加了限制，算法会建立在最大叶子节点数内最优的决策树。如果特征不多，可以不考虑这个值，但是如果特征分成多的话，可以加以限制，具体的值可以通过交叉验证得到。\n",
        "\n",
        "7. `min_impurity_split`:  节点划分最小不纯度，这个值限制了决策树的增长，如果某节点的不纯度(基于基尼系数，均方差)小于这个阈值，则该节点不再生成子节点。即为叶子节点 。**一般不推荐改动默认值1e-7**。\n",
        "\n",
        "上面决策树参数中最重要的包括\n",
        "- 最大特征数`max_features`\n",
        "- 最大深度`max_depth`\n",
        "- 内部节点再划分所需最小样本数`min_samples_split`\n",
        "- 叶子节点最少样本数`min_samples_leaf`"
      ]
    },
    {
      "cell_type": "code",
      "metadata": {
        "id": "QUbfcBI-mtX3"
      },
      "source": [
        "import pandas as pd\n",
        "import numpy as np\n",
        "from sklearn.ensemble import RandomForestClassifier\n",
        "from sklearn.model_selection import cross_validate\n",
        "from sklearn.model_selection import GridSearchCV\n",
        "from sklearn import metric\n",
        "\n",
        "import matplotlib.pylab as plt\n",
        "%matplotlib inline"
      ],
      "execution_count": 22,
      "outputs": []
    },
    {
      "cell_type": "code",
      "metadata": {
        "colab": {
          "base_uri": "https://localhost:8080/"
        },
        "id": "wizdc2rokuUo",
        "outputId": "cc89a144-3082-43be-d53b-f655ea8549c8"
      },
      "source": [
        "from google.colab import drive\n",
        "\n",
        "drive.mount('/content/gdrive')"
      ],
      "execution_count": 2,
      "outputs": [
        {
          "output_type": "stream",
          "text": [
            "Mounted at /content/gdrive\n"
          ],
          "name": "stdout"
        }
      ]
    },
    {
      "cell_type": "code",
      "metadata": {
        "colab": {
          "base_uri": "https://localhost:8080/"
        },
        "id": "8R8PSykAmUOY",
        "outputId": "c1c4d718-e8ed-4e18-8fb0-9fecfc779efd"
      },
      "source": [
        "train = pd.read_csv('/content/gdrive/MyDrive/扬FAANG起航/单项准备/rf调参/train_modified.csv')\n",
        "\n",
        "target='Disbursed' # Disbursed的值就是二元分类的输出\n",
        "IDcol = 'ID'\n",
        "train['Disbursed'].value_counts() "
      ],
      "execution_count": 5,
      "outputs": [
        {
          "output_type": "execute_result",
          "data": {
            "text/plain": [
              "0    19680\n",
              "1      320\n",
              "Name: Disbursed, dtype: int64"
            ]
          },
          "metadata": {
            "tags": []
          },
          "execution_count": 5
        }
      ]
    },
    {
      "cell_type": "code",
      "metadata": {
        "id": "Yvgav8pOmpF2"
      },
      "source": [
        "x_columns = [x for x in train.columns if x not in [target, IDcol]]\n",
        "X = train[x_columns]\n",
        "y = train['Disbursed']"
      ],
      "execution_count": 6,
      "outputs": []
    },
    {
      "cell_type": "markdown",
      "metadata": {
        "id": "PFLVIwFx2Xyk"
      },
      "source": [
        "用默认参数，我们拟合下数据看看，输出如下，可见袋外分数已经很高，而且AUC分数也很高。相对于GBDT的默认参数输出，RF的默认参数拟合效果对本例要好一些。"
      ]
    },
    {
      "cell_type": "code",
      "metadata": {
        "colab": {
          "base_uri": "https://localhost:8080/"
        },
        "id": "SQYZrgSnm0zv",
        "outputId": "e6f50f83-458e-448c-e33f-4a3a9affd706"
      },
      "source": [
        "rf0 = RandomForestClassifier(oob_score=True, random_state=10)\n",
        "rf0.fit(X,y)\n",
        "print (rf0.oob_score_)\n",
        "y_predprob = rf0.predict_proba(X)[:,1]\n",
        "print (\"AUC Score (Train): %f\" % metrics.roc_auc_score(y, y_predprob))"
      ],
      "execution_count": 23,
      "outputs": [
        {
          "output_type": "stream",
          "text": [
            "0.98315\n",
            "AUC Score (Train): 0.999994\n"
          ],
          "name": "stdout"
        }
      ]
    },
    {
      "cell_type": "markdown",
      "metadata": {
        "id": "k51tD7Ed2ivV"
      },
      "source": [
        "我们可以先weak learnder，也就是决策树的大概的个数，然后再调整具体数的参数，例如max feature还有max depth.\n",
        "\n",
        "我们首先对`n_estimators`进行网格搜索："
      ]
    },
    {
      "cell_type": "code",
      "metadata": {
        "colab": {
          "base_uri": "https://localhost:8080/"
        },
        "id": "wQnNC1cCm0vs",
        "outputId": "c258ea86-5392-493d-deba-a04e09dde32b"
      },
      "source": [
        "param_test1 = {'n_estimators':range(10,71,10)}\n",
        "gsearch1 = GridSearchCV(estimator = RandomForestClassifier(min_samples_split=100,\n",
        "                                  min_samples_leaf=20,max_depth=8,max_features='sqrt' ,random_state=10), \n",
        "                       param_grid = param_test1, scoring='roc_auc',cv=5)\n",
        "gsearch1.fit(X,y)\n",
        "\n",
        "gsearch1.cv_results_, gsearch1.best_params_, gsearch1.best_score_"
      ],
      "execution_count": 44,
      "outputs": [
        {
          "output_type": "execute_result",
          "data": {
            "text/plain": [
              "({'mean_fit_time': array([0.09737368, 0.18666906, 0.26725407, 0.35473409, 0.435953  ,\n",
              "         0.52016726, 0.61556268]),\n",
              "  'mean_score_time': array([0.00979362, 0.0136826 , 0.01808734, 0.02235842, 0.02677369,\n",
              "         0.03250804, 0.03588705]),\n",
              "  'mean_test_score': array([0.80680934, 0.81600252, 0.81818272, 0.81838438, 0.82034069,\n",
              "         0.82113345, 0.8199191 ]),\n",
              "  'param_n_estimators': masked_array(data=[10, 20, 30, 40, 50, 60, 70],\n",
              "               mask=[False, False, False, False, False, False, False],\n",
              "         fill_value='?',\n",
              "              dtype=object),\n",
              "  'params': [{'n_estimators': 10},\n",
              "   {'n_estimators': 20},\n",
              "   {'n_estimators': 30},\n",
              "   {'n_estimators': 40},\n",
              "   {'n_estimators': 50},\n",
              "   {'n_estimators': 60},\n",
              "   {'n_estimators': 70}],\n",
              "  'rank_test_score': array([7, 6, 5, 4, 2, 1, 3], dtype=int32),\n",
              "  'split0_test_score': array([0.81797431, 0.82673558, 0.8370927 , 0.83676321, 0.8351753 ,\n",
              "         0.83643769, 0.83286093]),\n",
              "  'split1_test_score': array([0.78064461, 0.78217893, 0.79100967, 0.79112479, 0.7911367 ,\n",
              "         0.7932903 , 0.79317319]),\n",
              "  'split2_test_score': array([0.77967996, 0.77394166, 0.7725582 , 0.77300678, 0.77952514,\n",
              "         0.77912022, 0.7801603 ]),\n",
              "  'split3_test_score': array([0.82203538, 0.83827172, 0.83311103, 0.83438929, 0.83691605,\n",
              "         0.84013156, 0.83880566]),\n",
              "  'split4_test_score': array([0.83371245, 0.85888473, 0.85714201, 0.85663785, 0.85895024,\n",
              "         0.85668747, 0.8545954 ]),\n",
              "  'std_fit_time': array([0.00333616, 0.00708273, 0.01015793, 0.01167847, 0.0127175 ,\n",
              "         0.01587386, 0.01165402]),\n",
              "  'std_score_time': array([0.00073919, 0.00040494, 0.00025111, 0.00024177, 0.00058683,\n",
              "         0.00183461, 0.00043003]),\n",
              "  'std_test_score': array([0.02236454, 0.03275104, 0.03136316, 0.03117524, 0.03001429,\n",
              "         0.02966341, 0.02836457])},\n",
              " {'n_estimators': 60},\n",
              " 0.8211334476626015)"
            ]
          },
          "metadata": {
            "tags": []
          },
          "execution_count": 44
        }
      ]
    },
    {
      "cell_type": "code",
      "metadata": {
        "id": "u3DM0ZFLr1F6"
      },
      "source": [
        ""
      ],
      "execution_count": 34,
      "outputs": []
    },
    {
      "cell_type": "code",
      "metadata": {
        "colab": {
          "base_uri": "https://localhost:8080/"
        },
        "id": "gkdJVfT-q5O9",
        "outputId": "2f38ac81-6767-4fe8-8869-9d413c6b0522"
      },
      "source": [
        "gsearch1.cv_results_.keys()"
      ],
      "execution_count": 27,
      "outputs": [
        {
          "output_type": "execute_result",
          "data": {
            "text/plain": [
              "dict_keys(['mean_fit_time', 'std_fit_time', 'mean_score_time', 'std_score_time', 'param_n_estimators', 'params', 'split0_test_score', 'split1_test_score', 'split2_test_score', 'split3_test_score', 'split4_test_score', 'mean_test_score', 'std_test_score', 'rank_test_score'])"
            ]
          },
          "metadata": {
            "tags": []
          },
          "execution_count": 27
        }
      ]
    },
    {
      "cell_type": "markdown",
      "metadata": {
        "id": "28pUKMUh3Cde"
      },
      "source": [
        "这样我们得到了最佳的弱学习器迭代次数，接着我们对决策树最大深度`max_depth`和内部节点再划分所需最小样本数`min_samples_split`进行网格搜索。"
      ]
    },
    {
      "cell_type": "code",
      "metadata": {
        "colab": {
          "base_uri": "https://localhost:8080/"
        },
        "id": "xlnN0fqMm0tU",
        "outputId": "8f07d0e0-173f-41d9-c30c-5e2671fc12eb"
      },
      "source": [
        "param_test2 = {'max_depth':range(3,14,2), 'min_samples_split':range(50,201,20)}\n",
        "gsearch2 = GridSearchCV(estimator = RandomForestClassifier(n_estimators= 60, \n",
        "                                  min_samples_leaf=20,max_features='sqrt' ,oob_score=True, random_state=10),\n",
        "   param_grid = param_test2, scoring='roc_auc',iid=False, cv=5)\n",
        "gsearch2.fit(X,y)\n",
        "gsearch2.cv_results_, gsearch1.best_params_, gsearch1.best_score_"
      ],
      "execution_count": 38,
      "outputs": [
        {
          "output_type": "stream",
          "text": [
            "/usr/local/lib/python3.7/dist-packages/sklearn/model_selection/_search.py:823: FutureWarning: The parameter 'iid' is deprecated in 0.22 and will be removed in 0.24.\n",
            "  \"removed in 0.24.\", FutureWarning\n"
          ],
          "name": "stderr"
        },
        {
          "output_type": "execute_result",
          "data": {
            "text/plain": [
              "({'mean_fit_time': array([0.48619204, 0.47403102, 0.47277865, 0.47762794, 0.48582964,\n",
              "         0.48572745, 0.48395581, 0.49025869, 0.59677639, 0.604145  ,\n",
              "         0.58711305, 0.59297543, 0.58015485, 0.58319831, 0.58127055,\n",
              "         0.59670105, 0.67404227, 0.68936887, 0.67041025, 0.67467566,\n",
              "         0.67974687, 0.66841412, 0.65125151, 0.64449878, 0.71106262,\n",
              "         0.70772796, 0.71869864, 0.72425251, 0.72019491, 0.71184611,\n",
              "         0.70741677, 0.72220387, 0.76552558, 0.74090276, 0.74559498,\n",
              "         0.73648586, 0.72177835, 0.71784348, 0.71682892, 0.7128736 ,\n",
              "         0.76107426, 0.74600258, 0.7728457 , 0.74494867, 0.73823733,\n",
              "         0.74819303, 0.76283293, 0.72680211]),\n",
              "  'mean_score_time': array([0.02452073, 0.02415905, 0.02410793, 0.02356906, 0.02713475,\n",
              "         0.02343044, 0.02502065, 0.02479644, 0.02853055, 0.02848873,\n",
              "         0.02829356, 0.02716832, 0.02699685, 0.02825875, 0.02812152,\n",
              "         0.02851152, 0.03091474, 0.03279233, 0.03192153, 0.03004618,\n",
              "         0.03174796, 0.03213367, 0.03138013, 0.03332109, 0.03390589,\n",
              "         0.03300281, 0.03235574, 0.03289137, 0.03542566, 0.03559189,\n",
              "         0.03292699, 0.03423471, 0.03685403, 0.03555703, 0.03442469,\n",
              "         0.03560538, 0.03586283, 0.0361774 , 0.03407674, 0.03440981,\n",
              "         0.03607984, 0.03510489, 0.03753881, 0.03505173, 0.03564754,\n",
              "         0.03723855, 0.03554235, 0.03414931]),\n",
              "  'mean_test_score': array([0.79379248, 0.79338637, 0.79350308, 0.79366624, 0.79387425,\n",
              "         0.79372817, 0.7937758 , 0.79349474, 0.80960366, 0.80919874,\n",
              "         0.80887759, 0.80922971, 0.80822853, 0.80801019, 0.80792286,\n",
              "         0.80771167, 0.81687627, 0.81872459, 0.81501127, 0.81475522,\n",
              "         0.81557061, 0.81458651, 0.81601007, 0.81703824, 0.82090439,\n",
              "         0.81907989, 0.82035736, 0.81889291, 0.81991314, 0.81787625,\n",
              "         0.81897588, 0.81745943, 0.82395238, 0.82380272, 0.81952728,\n",
              "         0.82253557, 0.81950267, 0.8188687 , 0.81910371, 0.81563969,\n",
              "         0.82290754, 0.82176623, 0.82415365, 0.82420168, 0.8220854 ,\n",
              "         0.81852491, 0.81954594, 0.82092345]),\n",
              "  'param_max_depth': masked_array(data=[3, 3, 3, 3, 3, 3, 3, 3, 5, 5, 5, 5, 5, 5, 5, 5, 7, 7,\n",
              "                     7, 7, 7, 7, 7, 7, 9, 9, 9, 9, 9, 9, 9, 9, 11, 11, 11,\n",
              "                     11, 11, 11, 11, 11, 13, 13, 13, 13, 13, 13, 13, 13],\n",
              "               mask=[False, False, False, False, False, False, False, False,\n",
              "                     False, False, False, False, False, False, False, False,\n",
              "                     False, False, False, False, False, False, False, False,\n",
              "                     False, False, False, False, False, False, False, False,\n",
              "                     False, False, False, False, False, False, False, False,\n",
              "                     False, False, False, False, False, False, False, False],\n",
              "         fill_value='?',\n",
              "              dtype=object),\n",
              "  'param_min_samples_split': masked_array(data=[50, 70, 90, 110, 130, 150, 170, 190, 50, 70, 90, 110,\n",
              "                     130, 150, 170, 190, 50, 70, 90, 110, 130, 150, 170,\n",
              "                     190, 50, 70, 90, 110, 130, 150, 170, 190, 50, 70, 90,\n",
              "                     110, 130, 150, 170, 190, 50, 70, 90, 110, 130, 150,\n",
              "                     170, 190],\n",
              "               mask=[False, False, False, False, False, False, False, False,\n",
              "                     False, False, False, False, False, False, False, False,\n",
              "                     False, False, False, False, False, False, False, False,\n",
              "                     False, False, False, False, False, False, False, False,\n",
              "                     False, False, False, False, False, False, False, False,\n",
              "                     False, False, False, False, False, False, False, False],\n",
              "         fill_value='?',\n",
              "              dtype=object),\n",
              "  'params': [{'max_depth': 3, 'min_samples_split': 50},\n",
              "   {'max_depth': 3, 'min_samples_split': 70},\n",
              "   {'max_depth': 3, 'min_samples_split': 90},\n",
              "   {'max_depth': 3, 'min_samples_split': 110},\n",
              "   {'max_depth': 3, 'min_samples_split': 130},\n",
              "   {'max_depth': 3, 'min_samples_split': 150},\n",
              "   {'max_depth': 3, 'min_samples_split': 170},\n",
              "   {'max_depth': 3, 'min_samples_split': 190},\n",
              "   {'max_depth': 5, 'min_samples_split': 50},\n",
              "   {'max_depth': 5, 'min_samples_split': 70},\n",
              "   {'max_depth': 5, 'min_samples_split': 90},\n",
              "   {'max_depth': 5, 'min_samples_split': 110},\n",
              "   {'max_depth': 5, 'min_samples_split': 130},\n",
              "   {'max_depth': 5, 'min_samples_split': 150},\n",
              "   {'max_depth': 5, 'min_samples_split': 170},\n",
              "   {'max_depth': 5, 'min_samples_split': 190},\n",
              "   {'max_depth': 7, 'min_samples_split': 50},\n",
              "   {'max_depth': 7, 'min_samples_split': 70},\n",
              "   {'max_depth': 7, 'min_samples_split': 90},\n",
              "   {'max_depth': 7, 'min_samples_split': 110},\n",
              "   {'max_depth': 7, 'min_samples_split': 130},\n",
              "   {'max_depth': 7, 'min_samples_split': 150},\n",
              "   {'max_depth': 7, 'min_samples_split': 170},\n",
              "   {'max_depth': 7, 'min_samples_split': 190},\n",
              "   {'max_depth': 9, 'min_samples_split': 50},\n",
              "   {'max_depth': 9, 'min_samples_split': 70},\n",
              "   {'max_depth': 9, 'min_samples_split': 90},\n",
              "   {'max_depth': 9, 'min_samples_split': 110},\n",
              "   {'max_depth': 9, 'min_samples_split': 130},\n",
              "   {'max_depth': 9, 'min_samples_split': 150},\n",
              "   {'max_depth': 9, 'min_samples_split': 170},\n",
              "   {'max_depth': 9, 'min_samples_split': 190},\n",
              "   {'max_depth': 11, 'min_samples_split': 50},\n",
              "   {'max_depth': 11, 'min_samples_split': 70},\n",
              "   {'max_depth': 11, 'min_samples_split': 90},\n",
              "   {'max_depth': 11, 'min_samples_split': 110},\n",
              "   {'max_depth': 11, 'min_samples_split': 130},\n",
              "   {'max_depth': 11, 'min_samples_split': 150},\n",
              "   {'max_depth': 11, 'min_samples_split': 170},\n",
              "   {'max_depth': 11, 'min_samples_split': 190},\n",
              "   {'max_depth': 13, 'min_samples_split': 50},\n",
              "   {'max_depth': 13, 'min_samples_split': 70},\n",
              "   {'max_depth': 13, 'min_samples_split': 90},\n",
              "   {'max_depth': 13, 'min_samples_split': 110},\n",
              "   {'max_depth': 13, 'min_samples_split': 130},\n",
              "   {'max_depth': 13, 'min_samples_split': 150},\n",
              "   {'max_depth': 13, 'min_samples_split': 170},\n",
              "   {'max_depth': 13, 'min_samples_split': 190}],\n",
              "  'rank_test_score': array([42, 48, 46, 45, 41, 44, 43, 47, 33, 35, 36, 34, 37, 38, 39, 40, 26,\n",
              "         21, 30, 31, 29, 32, 27, 25, 10, 17, 11, 19, 12, 23, 18, 24,  3,  4,\n",
              "         14,  6, 15, 20, 16, 28,  5,  8,  2,  1,  7, 22, 13,  9],\n",
              "        dtype=int32),\n",
              "  'split0_test_score': array([0.80645405, 0.80638458, 0.80678949, 0.80734923, 0.80778193,\n",
              "         0.80785339, 0.80785339, 0.80702768, 0.82106477, 0.81818868,\n",
              "         0.81633281, 0.82047328, 0.81733319, 0.81232732, 0.81567383,\n",
              "         0.81771429, 0.83755518, 0.82971489, 0.82488567, 0.82656488,\n",
              "         0.83121348, 0.82325807, 0.82694399, 0.82772008, 0.82574711,\n",
              "         0.82930998, 0.8262215 , 0.82408973, 0.83039769, 0.82074322,\n",
              "         0.82633464, 0.8295164 , 0.83015554, 0.82926631, 0.81959794,\n",
              "         0.82797018, 0.83578268, 0.82410363, 0.82615401, 0.82353794,\n",
              "         0.82335731, 0.82299606, 0.83206102, 0.82738464, 0.82751763,\n",
              "         0.81720219, 0.83011981, 0.82965931]),\n",
              "  'split1_test_score': array([0.77140696, 0.77074203, 0.77089288, 0.77044827, 0.77052369,\n",
              "         0.77080158, 0.7706666 , 0.77084524, 0.78410029, 0.78509472,\n",
              "         0.78282004, 0.7806585 , 0.78206182, 0.78237146, 0.78104556,\n",
              "         0.78182363, 0.78862583, 0.79442565, 0.79122999, 0.79462613,\n",
              "         0.79867727, 0.7938679 , 0.79050948, 0.79537443, 0.79954268,\n",
              "         0.79698417, 0.79467575, 0.79319701, 0.7937111 , 0.79515411,\n",
              "         0.79755383, 0.79668445, 0.79763124, 0.8048979 , 0.80675376,\n",
              "         0.80675178, 0.79414182, 0.79613861, 0.79411601, 0.79871697,\n",
              "         0.80570178, 0.80474903, 0.8041754 , 0.80042199, 0.79921915,\n",
              "         0.80355215, 0.79351856, 0.80418334]),\n",
              "  'split2_test_score': array([0.76001969, 0.75840995, 0.75735796, 0.75728849, 0.75699076,\n",
              "         0.75644293, 0.75645087, 0.75569264, 0.77379279, 0.77263362,\n",
              "         0.77588089, 0.77176027, 0.77225649, 0.77308618, 0.77190716,\n",
              "         0.77227237, 0.77339185, 0.78255407, 0.7725185 , 0.77543628,\n",
              "         0.76869561, 0.76960072, 0.77574393, 0.77508694, 0.78276844,\n",
              "         0.78255804, 0.79083897, 0.77801266, 0.77980699, 0.78613083,\n",
              "         0.78205388, 0.77613893, 0.7953645 , 0.79264521, 0.78095028,\n",
              "         0.78752819, 0.78192685, 0.78214121, 0.78205388, 0.77442597,\n",
              "         0.79592027, 0.78565049, 0.78867942, 0.79675392, 0.79044199,\n",
              "         0.78651986, 0.77964026, 0.78055728]),\n",
              "  'split3_test_score': array([0.81382987, 0.81422685, 0.81529472, 0.81539793, 0.81531456,\n",
              "         0.81478262, 0.81520738, 0.81520738, 0.8283215 , 0.82721394,\n",
              "         0.83115195, 0.83476443, 0.83391689, 0.83661435, 0.83385536,\n",
              "         0.83206499, 0.8365409 , 0.83656869, 0.83990925, 0.83462748,\n",
              "         0.83737059, 0.83737456, 0.83847021, 0.83816652, 0.84034593,\n",
              "         0.83634043, 0.8363583 , 0.84499254, 0.83918874, 0.8365151 ,\n",
              "         0.8351495 , 0.83379581, 0.83657465, 0.83618164, 0.83311698,\n",
              "         0.83366282, 0.82829768, 0.83853174, 0.83711652, 0.83276169,\n",
              "         0.83462748, 0.83735669, 0.83733883, 0.83343059, 0.83400025,\n",
              "         0.83702522, 0.8360685 , 0.83452426]),\n",
              "  'split4_test_score': array([0.81725181, 0.81716845, 0.81718035, 0.81784728, 0.81876032,\n",
              "         0.81876032, 0.81870077, 0.81870077, 0.84073893, 0.84286276,\n",
              "         0.83820225, 0.83849204, 0.83557427, 0.83565168, 0.8371324 ,\n",
              "         0.83468305, 0.84826759, 0.85035966, 0.84651296, 0.84252136,\n",
              "         0.84189612, 0.8488313 , 0.84838272, 0.84884321, 0.85611781,\n",
              "         0.85020682, 0.85369228, 0.85417262, 0.85646119, 0.85083802,\n",
              "         0.85378755, 0.85116155, 0.86003597, 0.85602253, 0.85721743,\n",
              "         0.85676488, 0.85736431, 0.85342829, 0.85607811, 0.84875588,\n",
              "         0.85493085, 0.85807887, 0.85851356, 0.86301726, 0.85924797,\n",
              "         0.84832516, 0.85838256, 0.85569304]),\n",
              "  'std_fit_time': array([0.01286835, 0.00716527, 0.01088806, 0.00983268, 0.02113148,\n",
              "         0.02842175, 0.02336192, 0.01667767, 0.03098029, 0.03863339,\n",
              "         0.01056042, 0.02389473, 0.01754696, 0.00943354, 0.01733572,\n",
              "         0.01089837, 0.01194119, 0.01996776, 0.00947318, 0.01972278,\n",
              "         0.01717507, 0.01859545, 0.01253393, 0.01524539, 0.01501721,\n",
              "         0.02243088, 0.01666052, 0.03892781, 0.00859497, 0.02238728,\n",
              "         0.01808732, 0.02641854, 0.01840741, 0.01383533, 0.01003753,\n",
              "         0.00909945, 0.00887094, 0.00889834, 0.01607752, 0.0083351 ,\n",
              "         0.01453175, 0.00706413, 0.02133061, 0.00988193, 0.01245834,\n",
              "         0.01221501, 0.02124322, 0.00778525]),\n",
              "  'std_score_time': array([0.00093737, 0.00146488, 0.00058698, 0.00048604, 0.00674242,\n",
              "         0.00045835, 0.00196191, 0.00161123, 0.00073249, 0.00271426,\n",
              "         0.00117159, 0.00043649, 0.00083271, 0.00179984, 0.00167064,\n",
              "         0.00148305, 0.00179465, 0.00296042, 0.00129279, 0.0004136 ,\n",
              "         0.00108391, 0.00279155, 0.00203501, 0.00381437, 0.00252035,\n",
              "         0.00097974, 0.00045878, 0.00216197, 0.0037034 , 0.00155774,\n",
              "         0.0014609 , 0.00130632, 0.00205748, 0.00171279, 0.00171387,\n",
              "         0.00359818, 0.00292457, 0.00238032, 0.00198726, 0.00165821,\n",
              "         0.00193164, 0.00043985, 0.00330692, 0.00154756, 0.00201785,\n",
              "         0.00161688, 0.00222754, 0.00092285]),\n",
              "  'std_test_score': array([0.02346855, 0.02410387, 0.02461588, 0.0249264 , 0.02521138,\n",
              "         0.0252398 , 0.02532165, 0.02542409, 0.02601523, 0.02629313,\n",
              "         0.02521682, 0.02776687, 0.02634107, 0.02637392, 0.02685252,\n",
              "         0.02587171, 0.02996235, 0.02584075, 0.02856905, 0.02552055,\n",
              "         0.0279128 , 0.02905229, 0.0280843 , 0.02757279, 0.02665364,\n",
              "         0.02527265, 0.02421783, 0.02927227, 0.02867851, 0.0243564 ,\n",
              "         0.02588331, 0.02715535, 0.02453526, 0.02258047, 0.02552089,\n",
              "         0.0236628 , 0.02768036, 0.02635895, 0.02734355, 0.02621898,\n",
              "         0.02091603, 0.02512813, 0.0247973 , 0.02416943, 0.02480605,\n",
              "         0.02227363, 0.02885471, 0.02599954])},\n",
              " {'n_estimators': 60},\n",
              " 0.8211334476626015)"
            ]
          },
          "metadata": {
            "tags": []
          },
          "execution_count": 38
        }
      ]
    },
    {
      "cell_type": "code",
      "metadata": {
        "colab": {
          "base_uri": "https://localhost:8080/"
        },
        "id": "0N0VddOom0qo",
        "outputId": "f7b54444-6c84-46c1-fe93-155551a03cd5"
      },
      "source": [
        "rf1 = RandomForestClassifier(n_estimators= 60, max_depth=13, min_samples_split=110,\n",
        "                                  min_samples_leaf=20,max_features='sqrt' ,oob_score=True, random_state=10)\n",
        "rf1.fit(X,y)\n",
        "print (rf1.oob_score_)"
      ],
      "execution_count": 40,
      "outputs": [
        {
          "output_type": "stream",
          "text": [
            "0.984\n"
          ],
          "name": "stdout"
        }
      ]
    },
    {
      "cell_type": "markdown",
      "metadata": {
        "id": "1KBnHuloFeo5"
      },
      "source": [
        "可见此时我们的袋外分数有一定的提高。也就是时候模型的泛化能力增强了。\n",
        "\n",
        "\n",
        "对于内部节点再划分所需最小样本数`min_samples_split`，我们暂时不能一起定下来，因为这个还和决策树其他的参数存在关联。下面我们再对内部节点再划分所需最小样本数`min_samples_split`和叶子节点最少样本数`min_samples_leaf`一起调参。"
      ]
    },
    {
      "cell_type": "code",
      "metadata": {
        "colab": {
          "base_uri": "https://localhost:8080/"
        },
        "id": "LQrcF7rum0oN",
        "outputId": "cd62148d-ca13-4c6c-92e0-cf229ec1db4d"
      },
      "source": [
        "param_test3 = {'min_samples_split':range(80,150,20), \n",
        "               'min_samples_leaf':range(10,60,10)\n",
        "               }\n",
        "               \n",
        "gsearch3 = GridSearchCV(estimator = RandomForestClassifier(n_estimators= 60, max_depth=13,\n",
        "                                  max_features='sqrt' ,oob_score=True, random_state=10),\n",
        "   param_grid = param_test3, scoring='roc_auc',iid=False, cv=5)\n",
        "gsearch3.fit(X,y)\n",
        "gsearch3.cv_results_, gsearch3.best_params_, gsearch3.best_score_"
      ],
      "execution_count": 41,
      "outputs": [
        {
          "output_type": "stream",
          "text": [
            "/usr/local/lib/python3.7/dist-packages/sklearn/model_selection/_search.py:823: FutureWarning: The parameter 'iid' is deprecated in 0.22 and will be removed in 0.24.\n",
            "  \"removed in 0.24.\", FutureWarning\n"
          ],
          "name": "stderr"
        },
        {
          "output_type": "execute_result",
          "data": {
            "text/plain": [
              "({'mean_fit_time': array([0.77233701, 0.76798534, 0.75996361, 0.76072397, 0.76553292,\n",
              "         0.7545238 , 0.75625334, 0.74983978, 0.7427434 , 0.74143205,\n",
              "         0.74071693, 0.72180557, 0.73838181, 0.72688351, 0.71862154,\n",
              "         0.7137569 , 0.69695363, 0.70479155, 0.71587658, 0.70639639]),\n",
              "  'mean_score_time': array([0.03583164, 0.03525195, 0.03656549, 0.03589606, 0.03482056,\n",
              "         0.03518543, 0.03468833, 0.03647327, 0.0364234 , 0.0352963 ,\n",
              "         0.03546715, 0.03372583, 0.03411355, 0.03382416, 0.0339633 ,\n",
              "         0.03549223, 0.03443851, 0.03419318, 0.03415442, 0.03560438]),\n",
              "  'mean_test_score': array([0.8209294 , 0.81913348, 0.82048399, 0.8179751 , 0.8209429 ,\n",
              "         0.82097426, 0.82486503, 0.82169239, 0.82352087, 0.82164475,\n",
              "         0.82069876, 0.82141332, 0.82278249, 0.82141411, 0.82042881,\n",
              "         0.82162093, 0.82224975, 0.82224975, 0.81890403, 0.81916643]),\n",
              "  'param_min_samples_leaf': masked_array(data=[10, 10, 10, 10, 20, 20, 20, 20, 30, 30, 30, 30, 40, 40,\n",
              "                     40, 40, 50, 50, 50, 50],\n",
              "               mask=[False, False, False, False, False, False, False, False,\n",
              "                     False, False, False, False, False, False, False, False,\n",
              "                     False, False, False, False],\n",
              "         fill_value='?',\n",
              "              dtype=object),\n",
              "  'param_min_samples_split': masked_array(data=[80, 100, 120, 140, 80, 100, 120, 140, 80, 100, 120,\n",
              "                     140, 80, 100, 120, 140, 80, 100, 120, 140],\n",
              "               mask=[False, False, False, False, False, False, False, False,\n",
              "                     False, False, False, False, False, False, False, False,\n",
              "                     False, False, False, False],\n",
              "         fill_value='?',\n",
              "              dtype=object),\n",
              "  'params': [{'min_samples_leaf': 10, 'min_samples_split': 80},\n",
              "   {'min_samples_leaf': 10, 'min_samples_split': 100},\n",
              "   {'min_samples_leaf': 10, 'min_samples_split': 120},\n",
              "   {'min_samples_leaf': 10, 'min_samples_split': 140},\n",
              "   {'min_samples_leaf': 20, 'min_samples_split': 80},\n",
              "   {'min_samples_leaf': 20, 'min_samples_split': 100},\n",
              "   {'min_samples_leaf': 20, 'min_samples_split': 120},\n",
              "   {'min_samples_leaf': 20, 'min_samples_split': 140},\n",
              "   {'min_samples_leaf': 30, 'min_samples_split': 80},\n",
              "   {'min_samples_leaf': 30, 'min_samples_split': 100},\n",
              "   {'min_samples_leaf': 30, 'min_samples_split': 120},\n",
              "   {'min_samples_leaf': 30, 'min_samples_split': 140},\n",
              "   {'min_samples_leaf': 40, 'min_samples_split': 80},\n",
              "   {'min_samples_leaf': 40, 'min_samples_split': 100},\n",
              "   {'min_samples_leaf': 40, 'min_samples_split': 120},\n",
              "   {'min_samples_leaf': 40, 'min_samples_split': 140},\n",
              "   {'min_samples_leaf': 50, 'min_samples_split': 80},\n",
              "   {'min_samples_leaf': 50, 'min_samples_split': 100},\n",
              "   {'min_samples_leaf': 50, 'min_samples_split': 120},\n",
              "   {'min_samples_leaf': 50, 'min_samples_split': 140}],\n",
              "  'rank_test_score': array([13, 18, 15, 20, 12, 11,  1,  6,  2,  7, 14, 10,  3,  9, 16,  8,  4,\n",
              "          4, 19, 17], dtype=int32),\n",
              "  'split0_test_score': array([0.82845449, 0.82321638, 0.83177123, 0.82597934, 0.81923669,\n",
              "         0.82899438, 0.83293834, 0.83292842, 0.83152709, 0.82994712,\n",
              "         0.82897453, 0.82060626, 0.82249389, 0.8246058 , 0.82937151,\n",
              "         0.82820241, 0.83519118, 0.83519118, 0.83139013, 0.82688842]),\n",
              "  'split1_test_score': array([0.7987527 , 0.79892737, 0.80212899, 0.80147794, 0.8070376 ,\n",
              "         0.80161292, 0.79838748, 0.80480858, 0.80123579, 0.80077331,\n",
              "         0.80549932, 0.8038082 , 0.81101134, 0.80173598, 0.80329213,\n",
              "         0.80533259, 0.80047756, 0.80047756, 0.79987813, 0.79849466]),\n",
              "  'split2_test_score': array([0.79033878, 0.79120419, 0.78602563, 0.78658735, 0.7861348 ,\n",
              "         0.7875004 , 0.80341916, 0.78557109, 0.79268491, 0.78703593,\n",
              "         0.7803707 , 0.78780607, 0.78845314, 0.78461041, 0.7780722 ,\n",
              "         0.78574179, 0.78640871, 0.78640871, 0.78120038, 0.78213327]),\n",
              "  'split3_test_score': array([0.83617966, 0.83349609, 0.83135837, 0.83130875, 0.82981811,\n",
              "         0.83488551, 0.8346374 , 0.83021905, 0.84109621, 0.84205491,\n",
              "         0.83554449, 0.83417095, 0.83508003, 0.84203705, 0.83420668,\n",
              "         0.83663022, 0.84062381, 0.84062381, 0.8338236 , 0.83752938]),\n",
              "  'split4_test_score': array([0.85092138, 0.84882336, 0.85113575, 0.84452212, 0.8624873 ,\n",
              "         0.8518781 , 0.85494276, 0.85493482, 0.85106032, 0.84841249,\n",
              "         0.85310475, 0.8606751 , 0.85687405, 0.85408132, 0.85720155,\n",
              "         0.85219766, 0.84854746, 0.84854746, 0.8482279 , 0.85078641]),\n",
              "  'std_fit_time': array([0.01489413, 0.01719278, 0.01667407, 0.01086744, 0.02057447,\n",
              "         0.01587946, 0.00801545, 0.02218909, 0.00826779, 0.01919488,\n",
              "         0.00632957, 0.00323341, 0.01533092, 0.00803613, 0.00869317,\n",
              "         0.02506589, 0.01256521, 0.00402102, 0.0105685 , 0.02414094]),\n",
              "  'std_score_time': array([0.00124982, 0.00092955, 0.00293826, 0.00229939, 0.00048713,\n",
              "         0.00136578, 0.00119583, 0.00342175, 0.00257534, 0.00257909,\n",
              "         0.00209811, 0.00082359, 0.00076352, 0.00035066, 0.00052362,\n",
              "         0.00402095, 0.00253999, 0.00148735, 0.00112264, 0.00309519]),\n",
              "  'std_test_score': array([0.02287491, 0.0214139 , 0.02327861, 0.02099498, 0.02534789,\n",
              "         0.02327339, 0.02110134, 0.02405753, 0.02271077, 0.02381345,\n",
              "         0.02528402, 0.02507702, 0.02293736, 0.02547305, 0.02723889,\n",
              "         0.02347831, 0.02431158, 0.02431158, 0.02458429, 0.02528014])},\n",
              " {'min_samples_leaf': 20, 'min_samples_split': 120},\n",
              " 0.8248650279471545)"
            ]
          },
          "metadata": {
            "tags": []
          },
          "execution_count": 41
        }
      ]
    },
    {
      "cell_type": "code",
      "metadata": {
        "colab": {
          "base_uri": "https://localhost:8080/"
        },
        "id": "BN2DAAhsm0lf",
        "outputId": "96be70ad-c0b7-4f87-e834-2fc7262d61b6"
      },
      "source": [
        "rf2 = RandomForestClassifier(n_estimators= 60, max_depth=13, min_samples_split=120,\n",
        "                                  min_samples_leaf=20,max_features=7 ,oob_score=True, random_state=10)\n",
        "rf2.fit(X,y)\n",
        "print (rf2.oob_score_)"
      ],
      "execution_count": 42,
      "outputs": [
        {
          "output_type": "stream",
          "text": [
            "0.984\n"
          ],
          "name": "stdout"
        }
      ]
    },
    {
      "cell_type": "markdown",
      "metadata": {
        "id": "Hhvwdw6aF9d-"
      },
      "source": [
        "最后我们再对最大特征数`max_features`做调参:"
      ]
    },
    {
      "cell_type": "code",
      "metadata": {
        "colab": {
          "base_uri": "https://localhost:8080/"
        },
        "id": "_AxXwFLxF5ac",
        "outputId": "89f2c86e-ad69-40e1-c5cb-cff724419b44"
      },
      "source": [
        "param_test4 = {'max_features':range(3,11,2)}\n",
        "gsearch4 = GridSearchCV(estimator = RandomForestClassifier(n_estimators= 60, max_depth=13, min_samples_split=120,\n",
        "                                  min_samples_leaf=20 ,oob_score=True, random_state=10),\n",
        "   param_grid = param_test4, scoring='roc_auc',iid=False, cv=5)\n",
        "gsearch4.fit(X,y)\n",
        "gsearch4.cv_results_, gsearch4.best_params_, gsearch4.best_score_"
      ],
      "execution_count": 45,
      "outputs": [
        {
          "output_type": "stream",
          "text": [
            "/usr/local/lib/python3.7/dist-packages/sklearn/model_selection/_search.py:823: FutureWarning: The parameter 'iid' is deprecated in 0.22 and will be removed in 0.24.\n",
            "  \"removed in 0.24.\", FutureWarning\n"
          ],
          "name": "stderr"
        },
        {
          "output_type": "execute_result",
          "data": {
            "text/plain": [
              "({'mean_fit_time': array([0.56057458, 0.65641112, 0.77123132, 0.84812627]),\n",
              "  'mean_score_time': array([0.03341579, 0.03474703, 0.03478885, 0.03456774]),\n",
              "  'mean_test_score': array([0.81981191, 0.8163868 , 0.82486503, 0.81703506]),\n",
              "  'param_max_features': masked_array(data=[3, 5, 7, 9],\n",
              "               mask=[False, False, False, False],\n",
              "         fill_value='?',\n",
              "              dtype=object),\n",
              "  'params': [{'max_features': 3},\n",
              "   {'max_features': 5},\n",
              "   {'max_features': 7},\n",
              "   {'max_features': 9}],\n",
              "  'rank_test_score': array([2, 4, 1, 3], dtype=int32),\n",
              "  'split0_test_score': array([0.81893102, 0.82697972, 0.83293834, 0.81775994]),\n",
              "  'split1_test_score': array([0.79912387, 0.79626763, 0.79838748, 0.80414563]),\n",
              "  'split2_test_score': array([0.78474935, 0.77782211, 0.80341916, 0.78332023]),\n",
              "  'split3_test_score': array([0.84169565, 0.83561793, 0.8346374 , 0.83346434]),\n",
              "  'split4_test_score': array([0.85455967, 0.8452466 , 0.85494276, 0.84648517]),\n",
              "  'std_fit_time': array([0.00943765, 0.01641452, 0.01039557, 0.01227398]),\n",
              "  'std_score_time': array([0.00187524, 0.0009803 , 0.00066635, 0.00056958]),\n",
              "  'std_test_score': array([0.02586294, 0.02532568, 0.02110134, 0.02209336])},\n",
              " {'max_features': 7},\n",
              " 0.8248650279471545)"
            ]
          },
          "metadata": {
            "tags": []
          },
          "execution_count": 45
        }
      ]
    },
    {
      "cell_type": "markdown",
      "metadata": {
        "id": "X6zV_gUyGEYD"
      },
      "source": [
        "　用我们搜索到的最佳参数，我们再看看最终的模型拟合："
      ]
    },
    {
      "cell_type": "code",
      "metadata": {
        "colab": {
          "base_uri": "https://localhost:8080/"
        },
        "id": "nGurt-mKm0iw",
        "outputId": "0c8ace33-ea62-40a7-ba41-4b8948708fd3"
      },
      "source": [
        "rf2 = RandomForestClassifier(n_estimators= 60, max_depth=13, min_samples_split=120,\n",
        "                                  min_samples_leaf=20,max_features=7 ,oob_score=True, random_state=10)\n",
        "rf2.fit(X,y)\n",
        "print (rf2.oob_score_)"
      ],
      "execution_count": 46,
      "outputs": [
        {
          "output_type": "stream",
          "text": [
            "0.984\n"
          ],
          "name": "stdout"
        }
      ]
    },
    {
      "cell_type": "markdown",
      "metadata": {
        "id": "Cqy5BBYbGK-P"
      },
      "source": [
        "　可见此时模型的袋外分数基本没有提高，主要原因是0.984已经是一个很高的袋外分数了，如果想进一步需要提高模型的泛化能力，我们需要更多的数据。"
      ]
    },
    {
      "cell_type": "code",
      "metadata": {
        "id": "MikGuV11m0gZ"
      },
      "source": [
        ""
      ],
      "execution_count": null,
      "outputs": []
    },
    {
      "cell_type": "code",
      "metadata": {
        "id": "x7duxRedmz4S"
      },
      "source": [
        ""
      ],
      "execution_count": 6,
      "outputs": []
    }
  ]
}